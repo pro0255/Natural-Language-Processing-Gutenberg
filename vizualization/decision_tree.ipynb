{
 "cells": [
  {
   "cell_type": "code",
   "execution_count": 1,
   "id": "a901028c",
   "metadata": {},
   "outputs": [],
   "source": [
    "sentence_1 = \"Hamlet said quietly\"\n",
    "sentence_2 = \"Harry said to Harmione\"\n",
    "sentence_3 = \"Harry said to Meghan\""
   ]
  },
  {
   "cell_type": "code",
   "execution_count": 2,
   "id": "d34cf4c2",
   "metadata": {},
   "outputs": [],
   "source": [
    "all_sentences = [\n",
    "    sentence_1,\n",
    "    sentence_2,\n",
    "    sentence_3,\n",
    "]"
   ]
  },
  {
   "cell_type": "code",
   "execution_count": 16,
   "id": "c22813f8",
   "metadata": {},
   "outputs": [],
   "source": [
    "from collections import Counter\n",
    "import pandas as pd"
   ]
  },
  {
   "cell_type": "code",
   "execution_count": 9,
   "id": "52797f8e",
   "metadata": {},
   "outputs": [],
   "source": [
    "c = Counter(\" \".join([sentence_1, sentence_2, sentence_3]).split(\" \"))"
   ]
  },
  {
   "cell_type": "code",
   "execution_count": 13,
   "id": "d639e3c3",
   "metadata": {},
   "outputs": [
    {
     "data": {
      "text/plain": [
       "['Hamlet', 'said', 'quietly', 'Harry', 'to', 'Harmione', 'Meghan']"
      ]
     },
     "execution_count": 13,
     "metadata": {},
     "output_type": "execute_result"
    }
   ],
   "source": [
    "list()"
   ]
  },
  {
   "cell_type": "code",
   "execution_count": 5,
   "id": "732d45cd",
   "metadata": {},
   "outputs": [],
   "source": [
    "dic = {}"
   ]
  },
  {
   "cell_type": "code",
   "execution_count": 14,
   "id": "814dea04",
   "metadata": {},
   "outputs": [],
   "source": [
    "for i, sen in enumerate(all_sentences):\n",
    "    s = f\"sen_{i}\"\n",
    "    \n",
    "    keys = c.keys()\n",
    "    vector = []\n",
    "    \n",
    "    for k in keys:\n",
    "        count = sen.count(k)\n",
    "        vector.append(count)\n",
    "    \n",
    "    dic[s] = vector\n",
    "    "
   ]
  },
  {
   "cell_type": "code",
   "execution_count": 15,
   "id": "edb9388b",
   "metadata": {},
   "outputs": [
    {
     "data": {
      "text/plain": [
       "{'sen_0': [1, 1, 1, 0, 0, 0, 0],\n",
       " 'sen_1': [0, 1, 0, 1, 1, 1, 0],\n",
       " 'sen_2': [0, 1, 0, 1, 1, 0, 1]}"
      ]
     },
     "execution_count": 15,
     "metadata": {},
     "output_type": "execute_result"
    }
   ],
   "source": [
    "dic"
   ]
  },
  {
   "cell_type": "code",
   "execution_count": 17,
   "id": "57f98f62",
   "metadata": {},
   "outputs": [],
   "source": [
    "matrix = pd.DataFrame.from_dict(dic, orient=\"index\")"
   ]
  },
  {
   "cell_type": "code",
   "execution_count": 19,
   "id": "d9d408a6",
   "metadata": {},
   "outputs": [],
   "source": [
    "matrix.columns=keys"
   ]
  },
  {
   "cell_type": "code",
   "execution_count": 21,
   "id": "262c9567",
   "metadata": {},
   "outputs": [
    {
     "data": {
      "text/html": [
       "<div>\n",
       "<style scoped>\n",
       "    .dataframe tbody tr th:only-of-type {\n",
       "        vertical-align: middle;\n",
       "    }\n",
       "\n",
       "    .dataframe tbody tr th {\n",
       "        vertical-align: top;\n",
       "    }\n",
       "\n",
       "    .dataframe thead th {\n",
       "        text-align: right;\n",
       "    }\n",
       "</style>\n",
       "<table border=\"1\" class=\"dataframe\">\n",
       "  <thead>\n",
       "    <tr style=\"text-align: right;\">\n",
       "      <th></th>\n",
       "      <th>Hamlet</th>\n",
       "      <th>said</th>\n",
       "      <th>quietly</th>\n",
       "      <th>Harry</th>\n",
       "      <th>to</th>\n",
       "      <th>Harmione</th>\n",
       "      <th>Meghan</th>\n",
       "    </tr>\n",
       "  </thead>\n",
       "  <tbody>\n",
       "    <tr>\n",
       "      <th>sen_0</th>\n",
       "      <td>1</td>\n",
       "      <td>1</td>\n",
       "      <td>1</td>\n",
       "      <td>0</td>\n",
       "      <td>0</td>\n",
       "      <td>0</td>\n",
       "      <td>0</td>\n",
       "    </tr>\n",
       "    <tr>\n",
       "      <th>sen_1</th>\n",
       "      <td>0</td>\n",
       "      <td>1</td>\n",
       "      <td>0</td>\n",
       "      <td>1</td>\n",
       "      <td>1</td>\n",
       "      <td>1</td>\n",
       "      <td>0</td>\n",
       "    </tr>\n",
       "    <tr>\n",
       "      <th>sen_2</th>\n",
       "      <td>0</td>\n",
       "      <td>1</td>\n",
       "      <td>0</td>\n",
       "      <td>1</td>\n",
       "      <td>1</td>\n",
       "      <td>0</td>\n",
       "      <td>1</td>\n",
       "    </tr>\n",
       "  </tbody>\n",
       "</table>\n",
       "</div>"
      ],
      "text/plain": [
       "       Hamlet  said  quietly  Harry  to  Harmione  Meghan\n",
       "sen_0       1     1        1      0   0         0       0\n",
       "sen_1       0     1        0      1   1         1       0\n",
       "sen_2       0     1        0      1   1         0       1"
      ]
     },
     "execution_count": 21,
     "metadata": {},
     "output_type": "execute_result"
    }
   ],
   "source": [
    "matrix"
   ]
  },
  {
   "cell_type": "code",
   "execution_count": 22,
   "id": "0a5f5248",
   "metadata": {},
   "outputs": [
    {
     "data": {
      "text/html": [
       "<div>\n",
       "<style scoped>\n",
       "    .dataframe tbody tr th:only-of-type {\n",
       "        vertical-align: middle;\n",
       "    }\n",
       "\n",
       "    .dataframe tbody tr th {\n",
       "        vertical-align: top;\n",
       "    }\n",
       "\n",
       "    .dataframe thead th {\n",
       "        text-align: right;\n",
       "    }\n",
       "</style>\n",
       "<table border=\"1\" class=\"dataframe\">\n",
       "  <thead>\n",
       "    <tr style=\"text-align: right;\">\n",
       "      <th></th>\n",
       "      <th>Hamlet</th>\n",
       "      <th>said</th>\n",
       "      <th>quietly</th>\n",
       "      <th>Harry</th>\n",
       "      <th>to</th>\n",
       "      <th>Harmione</th>\n",
       "      <th>Meghan</th>\n",
       "    </tr>\n",
       "  </thead>\n",
       "  <tbody>\n",
       "    <tr>\n",
       "      <th>sen_0</th>\n",
       "      <td>1</td>\n",
       "      <td>1</td>\n",
       "      <td>1</td>\n",
       "      <td>0</td>\n",
       "      <td>0</td>\n",
       "      <td>0</td>\n",
       "      <td>0</td>\n",
       "    </tr>\n",
       "    <tr>\n",
       "      <th>sen_1</th>\n",
       "      <td>0</td>\n",
       "      <td>1</td>\n",
       "      <td>0</td>\n",
       "      <td>1</td>\n",
       "      <td>1</td>\n",
       "      <td>1</td>\n",
       "      <td>0</td>\n",
       "    </tr>\n",
       "    <tr>\n",
       "      <th>sen_2</th>\n",
       "      <td>0</td>\n",
       "      <td>1</td>\n",
       "      <td>0</td>\n",
       "      <td>1</td>\n",
       "      <td>1</td>\n",
       "      <td>0</td>\n",
       "      <td>1</td>\n",
       "    </tr>\n",
       "  </tbody>\n",
       "</table>\n",
       "</div>"
      ],
      "text/plain": [
       "       Hamlet  said  quietly  Harry  to  Harmione  Meghan\n",
       "sen_0       1     1        1      0   0         0       0\n",
       "sen_1       0     1        0      1   1         1       0\n",
       "sen_2       0     1        0      1   1         0       1"
      ]
     },
     "metadata": {},
     "output_type": "display_data"
    }
   ],
   "source": [
    "display(matrix)"
   ]
  },
  {
   "cell_type": "code",
   "execution_count": null,
   "id": "2c481f1f",
   "metadata": {},
   "outputs": [],
   "source": []
  }
 ],
 "metadata": {
  "kernelspec": {
   "display_name": "Python 3 (ipykernel)",
   "language": "python",
   "name": "python3"
  },
  "language_info": {
   "codemirror_mode": {
    "name": "ipython",
    "version": 3
   },
   "file_extension": ".py",
   "mimetype": "text/x-python",
   "name": "python",
   "nbconvert_exporter": "python",
   "pygments_lexer": "ipython3",
   "version": "3.9.7"
  }
 },
 "nbformat": 4,
 "nbformat_minor": 5
}
