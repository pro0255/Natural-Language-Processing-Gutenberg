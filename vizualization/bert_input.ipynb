{
 "cells": [
  {
   "cell_type": "code",
   "execution_count": 8,
   "id": "9ee37a82",
   "metadata": {},
   "outputs": [
    {
     "name": "stdout",
     "output_type": "stream",
     "text": [
      "Running preperation of packages\n"
     ]
    },
    {
     "name": "stderr",
     "output_type": "stream",
     "text": [
      "[nltk_data] Downloading package punkt to\n",
      "[nltk_data]     /home/usp/pro0255/diploma/nltk_data...\n",
      "[nltk_data]   Package punkt is already up-to-date!\n",
      "[nltk_data] Downloading package wordnet to\n",
      "[nltk_data]     /home/usp/pro0255/diploma/nltk_data...\n",
      "[nltk_data]   Package wordnet is already up-to-date!\n",
      "[nltk_data] Downloading package omw-1.4 to\n",
      "[nltk_data]     /home/usp/pro0255/diploma/nltk_data...\n",
      "[nltk_data]   Package omw-1.4 is already up-to-date!\n"
     ]
    },
    {
     "data": {
      "text/plain": [
       "<_io.TextIOWrapper name='/home/usp/pro0255/diploma/vizualization/jupyter_log.txt' mode='a+' encoding='UTF-8'>"
      ]
     },
     "execution_count": 8,
     "metadata": {},
     "output_type": "execute_result"
    }
   ],
   "source": [
    "import os\n",
    "import sys\n",
    "\n",
    "def adding_module_path():\n",
    "    module_path = os.path.abspath(os.path.sep.join([\"..\"]*1))\n",
    "\n",
    "    if module_path not in sys.path:\n",
    "        sys.path.append(module_path)\n",
    "\n",
    "adding_module_path()\n",
    "\n",
    "from src.config.run_prep import run_prep\n",
    "from src.utils.log_juypter import add_experiment_jupyter_logger\n",
    "\n",
    "run_prep()\n",
    "add_experiment_jupyter_logger(os.getcwd())"
   ]
  },
  {
   "cell_type": "code",
   "execution_count": 56,
   "id": "2c53064c",
   "metadata": {},
   "outputs": [],
   "source": [
    "from src.tokenizers.prepare_dataset_from_tokenizer import \\\n",
    "    prepare_dataset_from_tokenizer\n",
    "from src.utils.create_dataset_from_dataframe import create_dataset_from_Xy\n",
    "from src.tokenizers.transformer_tokenizer import TransformerTokenizer\n",
    "from src.types.transformer_name import TransformerName\n",
    "from src.vectorizers.transformer.distil_bert_base_vectorizer import \\\n",
    "    DistilBertBaseUncasedVectorizer\n",
    "from transformers import AutoConfig, TFAutoModel\n",
    "import tensorflow as tf"
   ]
  },
  {
   "cell_type": "code",
   "execution_count": 57,
   "id": "4b2c7bfa",
   "metadata": {},
   "outputs": [],
   "source": [
    "SENTENCE = [\"To be, or not to be? That is the question ...\"]\n",
    "AUTHOR = [0]\n",
    "\n",
    "MAP = {\n",
    "    0: \"Shakespeare\"\n",
    "}\n",
    "\n",
    "train_df = create_dataset_from_Xy(SENTENCE, AUTHOR)"
   ]
  },
  {
   "cell_type": "code",
   "execution_count": 71,
   "id": "78d593ef",
   "metadata": {},
   "outputs": [
    {
     "name": "stdout",
     "output_type": "stream",
     "text": [
      "Tokenizer with max len = 20\n"
     ]
    }
   ],
   "source": [
    "tokenizer = TransformerTokenizer(\n",
    "    TransformerName.DistilBertBaseUncased.value,\n",
    "    None,\n",
    "    max_len=20,\n",
    ")"
   ]
  },
  {
   "cell_type": "code",
   "execution_count": 72,
   "id": "d3e3ffe6",
   "metadata": {},
   "outputs": [],
   "source": [
    "train_ds_trans = prepare_dataset_from_tokenizer(\n",
    "    train_df, tokenizer\n",
    ").batch(1)"
   ]
  },
  {
   "cell_type": "code",
   "execution_count": 73,
   "id": "442f20d5",
   "metadata": {},
   "outputs": [],
   "source": [
    "config = AutoConfig.from_pretrained(\n",
    "    TransformerName.DistilBertBaseUncased.value, output_hidden_states=True\n",
    ")\n",
    "transformer = TFAutoModel.from_config(config)"
   ]
  },
  {
   "cell_type": "code",
   "execution_count": 74,
   "id": "a2034aa2",
   "metadata": {
    "scrolled": false
   },
   "outputs": [
    {
     "name": "stdout",
     "output_type": "stream",
     "text": [
      "original -->  To be, or not to be? That is the question ...\n",
      "\n",
      "{'input_ids': <tf.Tensor: shape=(1, 20), dtype=int32, numpy=\n",
      "array([[ 101, 2000, 2022, 1010, 2030, 2025, 2000, 2022, 1029, 2008, 2003,\n",
      "        1996, 3160, 1012, 1012, 1012,  102,    0,    0,    0]],\n",
      "      dtype=int32)>, 'attention_mask': <tf.Tensor: shape=(1, 20), dtype=int32, numpy=\n",
      "array([[1, 1, 1, 1, 1, 1, 1, 1, 1, 1, 1, 1, 1, 1, 1, 1, 1, 0, 0, 0]],\n",
      "      dtype=int32)>}\n",
      "input_ids -->  tf.Tensor(\n",
      "[[ 101 2000 2022 1010 2030 2025 2000 2022 1029 2008 2003 1996 3160 1012\n",
      "  1012 1012  102    0    0    0]], shape=(1, 20), dtype=int32)\n",
      "\n",
      "back_to_tokens -->  ['[CLS]', 'to', 'be', ',', 'or', 'not', 'to', 'be', '?', 'that', 'is', 'the', 'question', '.', '.', '.', '[SEP]', '[PAD]', '[PAD]', '[PAD]']\n",
      "\n",
      "attention_mask -->  tf.Tensor([[1 1 1 1 1 1 1 1 1 1 1 1 1 1 1 1 1 0 0 0]], shape=(1, 20), dtype=int32)\n",
      "\n",
      "target -->  tf.Tensor([0], shape=(1,), dtype=int32)\n",
      "\n",
      "output shape --> tf.Tensor([  7   1  20 768], shape=(4,), dtype=int32)\n",
      "\n",
      "output --> (<tf.Tensor: shape=(1, 20, 768), dtype=float32, numpy=\n",
      "array([[[ 0.18747032, -0.01369327,  0.247194  , ...,  0.5781212 ,\n",
      "          0.9378747 , -0.873209  ],\n",
      "        [ 0.6484578 ,  0.6165681 ,  0.30147707, ...,  0.10587078,\n",
      "          1.155825  , -0.31941995],\n",
      "        [-0.10754365, -0.19845101,  0.41615075, ...,  1.7743146 ,\n",
      "         -0.07022572, -0.9149765 ],\n",
      "        ...,\n",
      "        [-0.59727156,  0.13232982, -0.51618546, ..., -0.17582603,\n",
      "         -0.80284256,  0.55564946],\n",
      "        [ 1.3169394 , -1.3304167 ,  0.85902053, ..., -0.7213306 ,\n",
      "         -1.3117026 ,  0.18280122],\n",
      "        [-0.07759914,  0.18620303,  1.4392481 , ...,  1.0617232 ,\n",
      "          0.02734777, -0.09209427]]], dtype=float32)>, <tf.Tensor: shape=(1, 20, 768), dtype=float32, numpy=\n",
      "array([[[-0.00823914, -0.04074005,  0.5059683 , ...,  0.6207224 ,\n",
      "          1.0058392 , -0.7399586 ],\n",
      "        [ 0.56695867,  0.5855242 ,  0.3434442 , ...,  0.13267747,\n",
      "          1.1326241 , -0.49350995],\n",
      "        [-0.22385697,  0.01768699,  0.40168372, ...,  1.6129826 ,\n",
      "          0.4364364 , -1.0473155 ],\n",
      "        ...,\n",
      "        [-0.26325586,  0.15523015, -0.28592518, ...,  0.02783371,\n",
      "         -0.684365  ,  0.17317657],\n",
      "        [ 1.6520066 , -1.7386646 ,  0.9519355 , ..., -0.886112  ,\n",
      "         -1.1828793 , -0.13843401],\n",
      "        [ 0.19952153, -0.2509637 ,  1.4256957 , ...,  1.4321306 ,\n",
      "          0.08730021, -0.28542474]]], dtype=float32)>, <tf.Tensor: shape=(1, 20, 768), dtype=float32, numpy=\n",
      "array([[[-0.03454474,  0.13554719,  0.8878421 , ...,  0.41147652,\n",
      "          0.39869195, -0.3042744 ],\n",
      "        [ 0.695936  ,  0.81568986,  0.68927974, ..., -0.04182024,\n",
      "          0.82459164, -0.4869992 ],\n",
      "        [-0.13594642, -0.32407036,  0.7126993 , ...,  1.107469  ,\n",
      "          0.2037592 , -0.5857806 ],\n",
      "        ...,\n",
      "        [-0.35075203,  0.09268753, -0.09379696, ..., -0.34859827,\n",
      "         -0.6886562 ,  0.11312373],\n",
      "        [ 1.6251842 , -1.6112665 ,  0.8309979 , ..., -0.91501534,\n",
      "         -1.5691483 , -0.31713474],\n",
      "        [-0.22902393, -0.21264754,  1.5905156 , ...,  1.4336042 ,\n",
      "         -0.51169896, -0.35712868]]], dtype=float32)>, <tf.Tensor: shape=(1, 20, 768), dtype=float32, numpy=\n",
      "array([[[ 0.4116563 ,  0.03345161,  0.8738206 , ...,  0.56838083,\n",
      "          0.38385123,  0.07297043],\n",
      "        [ 0.6083056 ,  0.97782046,  0.80947256, ...,  0.19526774,\n",
      "          0.9499117 ,  0.07969933],\n",
      "        [ 0.05462101, -0.61492366,  0.52414834, ...,  1.1866758 ,\n",
      "          0.06628306, -0.3076815 ],\n",
      "        ...,\n",
      "        [-0.53439564,  0.2676123 , -0.3321201 , ..., -0.15199648,\n",
      "         -0.36451477,  0.24744545],\n",
      "        [ 1.7736564 , -1.7131482 ,  0.70167655, ..., -1.0440552 ,\n",
      "         -1.5090514 , -0.06830385],\n",
      "        [-0.29836062, -0.20714651,  1.0834471 , ...,  1.3817433 ,\n",
      "         -0.1885724 ,  0.34038052]]], dtype=float32)>, <tf.Tensor: shape=(1, 20, 768), dtype=float32, numpy=\n",
      "array([[[-0.08570261,  0.11348909,  1.0217729 , ...,  0.43138498,\n",
      "          0.8785291 ,  0.43568882],\n",
      "        [ 0.86158794,  0.8690982 ,  1.3309408 , ..., -0.12675345,\n",
      "          1.1452758 ,  0.27294376],\n",
      "        [ 0.13826087, -0.33651102,  0.4562218 , ...,  1.0109477 ,\n",
      "          0.3486276 ,  0.00344555],\n",
      "        ...,\n",
      "        [-0.61130184,  0.2824464 , -0.03892096, ..., -0.34403524,\n",
      "          0.26196682,  0.50173706],\n",
      "        [ 1.4306788 , -1.2702482 ,  1.086799  , ..., -1.4696225 ,\n",
      "         -1.0945914 ,  0.15947779],\n",
      "        [-0.15201236,  0.02274891,  0.96965516, ...,  1.0505984 ,\n",
      "          0.2427624 ,  0.80236703]]], dtype=float32)>, <tf.Tensor: shape=(1, 20, 768), dtype=float32, numpy=\n",
      "array([[[ 0.26642728, -0.34058273,  0.85763013, ...,  0.31414348,\n",
      "          1.5570667 ,  0.54024863],\n",
      "        [ 1.1476637 ,  0.49195287,  1.5031828 , ..., -0.02807734,\n",
      "          1.0051982 , -0.04288121],\n",
      "        [ 0.68075573, -0.49483192,  0.24658702, ...,  0.84640443,\n",
      "          0.47639585,  0.26361912],\n",
      "        ...,\n",
      "        [-0.24367598,  0.41862607, -0.38051468, ..., -0.6213238 ,\n",
      "          0.05455777,  0.711109  ],\n",
      "        [ 1.4186163 , -1.314649  ,  1.0632111 , ..., -1.4471769 ,\n",
      "         -1.5222757 ,  0.15288024],\n",
      "        [ 0.37965208,  0.04685998,  0.70776767, ...,  0.8081505 ,\n",
      "          0.07604937,  0.6161234 ]]], dtype=float32)>, <tf.Tensor: shape=(1, 20, 768), dtype=float32, numpy=\n",
      "array([[[ 0.49746576, -0.47807398,  0.6391862 , ...,  0.26720884,\n",
      "          1.4072909 ,  0.8067488 ],\n",
      "        [ 1.243883  ,  0.5378287 ,  1.4720267 , ...,  0.4938433 ,\n",
      "          0.6387181 ,  0.00745315],\n",
      "        [ 0.8351233 , -1.1932019 ,  0.25595686, ...,  1.1949246 ,\n",
      "          0.71881574,  0.20565382],\n",
      "        ...,\n",
      "        [-0.04144473,  0.32049644, -0.01928595, ..., -0.4603039 ,\n",
      "         -0.45901826,  1.3554786 ],\n",
      "        [ 1.5671027 , -1.5731629 ,  1.2563614 , ..., -1.3651601 ,\n",
      "         -2.2428415 ,  0.3954611 ],\n",
      "        [ 0.7469789 , -0.34107655,  1.202125  , ...,  0.38791585,\n",
      "         -0.43915492,  0.6898738 ]]], dtype=float32)>)\n"
     ]
    }
   ],
   "source": [
    "for x in train_ds_trans:\n",
    "    value, target = x\n",
    "    print('original --> ', SENTENCE[0])\n",
    "    print()\n",
    "    \n",
    "    \n",
    "    print(value)\n",
    "    \n",
    "    \n",
    "    print('input_ids --> ', value['input_ids'])\n",
    "    print()\n",
    "    back = tokenizer.tokenizer.convert_ids_to_tokens(value['input_ids'][0])\n",
    "    print('back_to_tokens --> ', back)\n",
    "    print()\n",
    "    \n",
    "        \n",
    "    print('attention_mask --> ', value['attention_mask'])\n",
    "    print()\n",
    "    print('target --> ', target)\n",
    "    \n",
    "    print()\n",
    "    output = transformer(value)['hidden_states']\n",
    "    print('output shape -->', tf.shape(output))\n",
    "    \n",
    "    print()\n",
    "    print('output -->', output)"
   ]
  },
  {
   "cell_type": "code",
   "execution_count": null,
   "id": "db58cf55",
   "metadata": {},
   "outputs": [],
   "source": []
  }
 ],
 "metadata": {
  "kernelspec": {
   "display_name": "Python 3 (ipykernel)",
   "language": "python",
   "name": "python3"
  },
  "language_info": {
   "codemirror_mode": {
    "name": "ipython",
    "version": 3
   },
   "file_extension": ".py",
   "mimetype": "text/x-python",
   "name": "python",
   "nbconvert_exporter": "python",
   "pygments_lexer": "ipython3",
   "version": "3.9.7"
  }
 },
 "nbformat": 4,
 "nbformat_minor": 5
}
