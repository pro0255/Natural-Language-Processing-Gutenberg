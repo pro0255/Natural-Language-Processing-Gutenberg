{
 "cells": [
  {
   "cell_type": "code",
   "execution_count": 1,
   "id": "e0296736-75d5-425d-801a-65aefcc03202",
   "metadata": {},
   "outputs": [],
   "source": [
    "PATH_TO_DATASET_FOLDER = \"C:\\\\Users\\\\Vojta\\\\Desktop\\\\diploma\\\\data\""
   ]
  },
  {
   "cell_type": "code",
   "execution_count": 2,
   "id": "180abcff-624a-4b14-a3f4-66f64cf9daca",
   "metadata": {},
   "outputs": [],
   "source": [
    "from enum import Enum\n",
    "import os.path\n",
    "import tensorflow as tf\n",
    "import pandas as pd\n",
    "from tqdm import tqdm"
   ]
  },
  {
   "cell_type": "code",
   "execution_count": 3,
   "id": "4591f1cb-2f6c-4986-ace9-a5f4cfcf1357",
   "metadata": {},
   "outputs": [],
   "source": [
    "class DataSet(Enum):\n",
    "    Gutenberg = \"gutenberg\""
   ]
  },
  {
   "cell_type": "code",
   "execution_count": 4,
   "id": "e0649c3c-e75c-46bd-8640-4a37847d5465",
   "metadata": {},
   "outputs": [],
   "source": [
    "class DataSetType(Enum):\n",
    "    Sentence = \"Sentence\"\n",
    "    Article = \"Article\""
   ]
  },
  {
   "cell_type": "code",
   "execution_count": 5,
   "id": "e9865829-6a56-440d-94d5-273b89003083",
   "metadata": {},
   "outputs": [],
   "source": [
    "DATA_NAME = 'data.csv'"
   ]
  },
  {
   "cell_type": "code",
   "execution_count": 6,
   "id": "67820df6-443a-41d9-a907-398f4747fbba",
   "metadata": {},
   "outputs": [],
   "source": [
    "def create_path(directory, dataset, dataset_type, k=None):\n",
    "    is_sentence_type = dataset_type == DataSetType.Sentence \n",
    "    if is_sentence_type and k is None:\n",
    "        raise Exception(f\"Sentence should be specified with k argument!\")\n",
    "    \n",
    "    return os.path.join(directory, dataset.value, dataset_type.value + str(k), DATA_NAME) if is_sentence_type else os.path.join(directory, dataset.value, dataset_type.value, DATA_NAME)"
   ]
  },
  {
   "cell_type": "code",
   "execution_count": 7,
   "id": "7aac1e1f-cbeb-4008-ac33-0028497b1585",
   "metadata": {},
   "outputs": [
    {
     "data": {
      "text/plain": [
       "'C:\\\\Users\\\\Vojta\\\\Desktop\\\\diploma\\\\data\\\\gutenberg\\\\Sentence10\\\\data.csv'"
      ]
     },
     "execution_count": 7,
     "metadata": {},
     "output_type": "execute_result"
    }
   ],
   "source": [
    "create_path(PATH_TO_DATASET_FOLDER, DataSet.Gutenberg, DataSetType.Sentence, 10)"
   ]
  },
  {
   "cell_type": "code",
   "execution_count": 8,
   "id": "d388a729-d17f-4964-b368-5dc554d124cf",
   "metadata": {},
   "outputs": [],
   "source": [
    "def process_text(text):\n",
    "    return text.lower()"
   ]
  },
  {
   "cell_type": "code",
   "execution_count": 9,
   "id": "57e7ff59-270b-4f98-a83d-66217965ee75",
   "metadata": {},
   "outputs": [],
   "source": [
    "def get_dataset_object_from_path(csv_filename, delim, text_pipeline_func=None):\n",
    "    dataset = tf.data.TextLineDataset(filenames=csv_filename)\n",
    "    \n",
    "    def parse_csv(line):\n",
    "        csv_line = bytes.decode(line.numpy())\n",
    "        text, author = csv_line.split(delim)\n",
    "        if text_pipeline_func is not None:\n",
    "            text = text_pipeline_func(text)\n",
    "        return text, author \n",
    "\n",
    "    dataset = dataset.map(lambda tpl: tf.py_function(parse_csv, [tpl], [tf.string, tf.string]))\n",
    "    return dataset"
   ]
  },
  {
   "cell_type": "code",
   "execution_count": 10,
   "id": "f67da9c7-8a4f-430b-9f99-bf0cd7e876b4",
   "metadata": {},
   "outputs": [],
   "source": [
    "ds = get_dataset_object_from_path(create_path(PATH_TO_DATASET_FOLDER, DataSet.Gutenberg, DataSetType.Sentence, 3), ';', process_text)"
   ]
  },
  {
   "cell_type": "markdown",
   "id": "a6b45148-247c-4fff-931a-df83831a6f87",
   "metadata": {},
   "source": [
    "# Create statistics for specified dataset "
   ]
  },
  {
   "cell_type": "code",
   "execution_count": 20,
   "id": "7f19102e-c627-4e58-bd54-15ac4701f0a8",
   "metadata": {},
   "outputs": [],
   "source": [
    "NAME_OF_STATISTICS_FILE = 'stats_'"
   ]
  },
  {
   "cell_type": "code",
   "execution_count": 21,
   "id": "fc772a25-4039-45c4-b9fc-315ac72bdef4",
   "metadata": {},
   "outputs": [],
   "source": [
    "def create_stats_file_name(name_of_file):\n",
    "    return f'{NAME_OF_STATISTICS_FILE}{name_of_file}.xlsx'"
   ]
  },
  {
   "cell_type": "code",
   "execution_count": 22,
   "id": "a0210cbe-b1d3-43e3-a614-1553866d853f",
   "metadata": {},
   "outputs": [],
   "source": [
    "def build_input_for_statistics(path, sep, metric_instances = [] ,text_pipeline_func = None, save = True):\n",
    "    path_parts = path.split(os.path.sep)\n",
    "    name_of_file = path_parts[-1]\n",
    "    del path_parts[-1]\n",
    "    path_parts.append(create_stats_file_name(name_of_file))\n",
    "    path_to_save = os.path.sep.join(path_parts)\n",
    "    return get_dataset_object_from_path(path, sep, text_pipeline_func), MetricWrapper(metric_instances, path_to_save if save else None)"
   ]
  },
  {
   "cell_type": "code",
   "execution_count": 23,
   "id": "7b8dc0e9-5a64-4f1e-abc7-f78a953b919d",
   "metadata": {},
   "outputs": [
    {
     "data": {
      "text/plain": [
       "(<MapDataset shapes: (<unknown>, <unknown>), types: (tf.string, tf.string)>,\n",
       " <__main__.MetricWrapper at 0x22005ca2430>)"
      ]
     },
     "execution_count": 23,
     "metadata": {},
     "output_type": "execute_result"
    }
   ],
   "source": [
    "build_input_for_statistics(create_path(PATH_TO_DATASET_FOLDER, DataSet.Gutenberg, DataSetType.Sentence, 3), ';', process_text)"
   ]
  },
  {
   "cell_type": "markdown",
   "id": "a2152e04-ed9f-4c1a-a9fa-2be948cbc8c9",
   "metadata": {},
   "source": [
    "### TODO: create more metrics\n"
   ]
  },
  {
   "cell_type": "code",
   "execution_count": 15,
   "id": "48497908-022e-48ed-a1c9-76c6fc005a2a",
   "metadata": {},
   "outputs": [],
   "source": [
    "class LabelMetric:\n",
    "    def __init__(self):\n",
    "        self.state = {}\n",
    "    \n",
    "    def update_state(self, text, label):\n",
    "        self.state[label] = self.state.get(label, 0) + 1\n",
    "        \n",
    "    def get_dataframe(self):\n",
    "        return pd.DataFrame.from_dict(self.state, orient='index')"
   ]
  },
  {
   "cell_type": "code",
   "execution_count": 16,
   "id": "18824b4b-74f0-4a9c-b21e-678badf5f436",
   "metadata": {},
   "outputs": [],
   "source": [
    "class MetricWrapper:\n",
    "    def __init__(self, metric_instances = [], path_to_save = None):\n",
    "        self.path_to_save = path_to_save\n",
    "        self.metric_instances = metric_instances\n",
    "    \n",
    "    def update_state(self, text, label):\n",
    "        #TODO: Can derive from this class and update __init__ and update_states\n",
    "        for instance in self.metric_instances:\n",
    "            instance.update_state(text, label)\n",
    "    \n",
    "    def process_row(self, record):\n",
    "        text, label = record\n",
    "        text = bytes.decode(text.numpy())\n",
    "        label = bytes.decode(label.numpy())\n",
    "        self.update_state(text, label)\n",
    "    \n",
    "    def save(self):\n",
    "        if self.path_to_save is not None:\n",
    "            print(f'Saving to {self.path_to_save}')\n",
    "            with pd.ExcelWriter(self.path_to_save, engine='xlsxwriter') as writer:\n",
    "                for metric_instance in self.metric_instances:\n",
    "                    metric_instance.get_dataframe().to_excel(writer, sheet_name=type(metric_instance).__name__)            \n",
    "        else:\n",
    "            print('Saving path is not specified!')\n",
    "            \n",
    "    def __str__(self):\n",
    "        string = ''\n",
    "        for instance in self.metric_instances:\n",
    "            string += type(instance).__name__\n",
    "            string += instance.get_dataframe().to_string()\n",
    "            string += '\\n'\n",
    "        return string"
   ]
  },
  {
   "cell_type": "code",
   "execution_count": 17,
   "id": "ed309aa9-ab81-4b93-993d-b9fc870d7137",
   "metadata": {},
   "outputs": [],
   "source": [
    "def create_statistics_from(dataset, metric_instance):\n",
    "    for i, record in enumerate(dataset):\n",
    "        metric_instance.process_row(record)\n",
    "    metric_instance.save()\n",
    "    return metric_instance"
   ]
  },
  {
   "cell_type": "code",
   "execution_count": 18,
   "id": "7d803f1e-eeba-4e4f-b839-9203e332124a",
   "metadata": {},
   "outputs": [
    {
     "name": "stdout",
     "output_type": "stream",
     "text": [
      "Saving to C:\\Users\\Vojta\\Desktop\\diploma\\data\\gutenberg\\Sentence3\\stats_data.csv.xlsx\n"
     ]
    }
   ],
   "source": [
    "metric_instance = create_statistics_from(\n",
    "    *build_input_for_statistics(\n",
    "        create_path(PATH_TO_DATASET_FOLDER, DataSet.Gutenberg, DataSetType.Sentence, 3), \n",
    "        ';', \n",
    "        [LabelMetric()], \n",
    "        process_text,\n",
    "        True\n",
    "    )\n",
    ")"
   ]
  },
  {
   "cell_type": "code",
   "execution_count": 19,
   "id": "cddf0fe7-c95d-4658-8e31-29a97a406863",
   "metadata": {},
   "outputs": [
    {
     "name": "stdout",
     "output_type": "stream",
     "text": [
      "LabelMetric                                    0\n",
      "Twain, Mark                      3933\n",
      "Meredith, George                  374\n",
      "Jacobs, W. W. (William Wymark)  18356\n",
      "Fenn, George Manville             302\n",
      "Balzac, Honoré de                 495\n",
      "\n"
     ]
    }
   ],
   "source": [
    "print(metric_instance)"
   ]
  },
  {
   "cell_type": "code",
   "execution_count": null,
   "id": "25f134d8-a444-4101-b076-a779ee07a825",
   "metadata": {},
   "outputs": [],
   "source": [
    "\n",
    "\n",
    "\n"
   ]
  }
 ],
 "metadata": {
  "kernelspec": {
   "display_name": "Python 3 (ipykernel)",
   "language": "python",
   "name": "python3"
  },
  "language_info": {
   "codemirror_mode": {
    "name": "ipython",
    "version": 3
   },
   "file_extension": ".py",
   "mimetype": "text/x-python",
   "name": "python",
   "nbconvert_exporter": "python",
   "pygments_lexer": "ipython3",
   "version": "3.8.1"
  }
 },
 "nbformat": 4,
 "nbformat_minor": 5
}
