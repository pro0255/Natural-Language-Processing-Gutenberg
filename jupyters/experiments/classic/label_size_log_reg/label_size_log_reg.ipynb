{
 "cells": [
  {
   "cell_type": "code",
   "execution_count": 1,
   "id": "5e3647e5",
   "metadata": {},
   "outputs": [
    {
     "name": "stdout",
     "output_type": "stream",
     "text": [
      "Running preperation of packages\n"
     ]
    },
    {
     "name": "stderr",
     "output_type": "stream",
     "text": [
      "[nltk_data] Downloading package punkt to\n",
      "[nltk_data]     /home/usp/pro0255/diploma/nltk_data...\n",
      "[nltk_data]   Package punkt is already up-to-date!\n",
      "[nltk_data] Downloading package wordnet to\n",
      "[nltk_data]     /home/usp/pro0255/diploma/nltk_data...\n",
      "[nltk_data]   Package wordnet is already up-to-date!\n",
      "[nltk_data] Downloading package omw-1.4 to\n",
      "[nltk_data]     /home/usp/pro0255/diploma/nltk_data...\n",
      "[nltk_data]   Package omw-1.4 is already up-to-date!\n"
     ]
    },
    {
     "data": {
      "text/plain": [
       "<_io.TextIOWrapper name='/home/usp/pro0255/diploma/jupyters/experiments/classic/label_size_log_reg/jupyter_log.txt' mode='a+' encoding='UTF-8'>"
      ]
     },
     "execution_count": 1,
     "metadata": {},
     "output_type": "execute_result"
    }
   ],
   "source": [
    "import os\n",
    "import sys\n",
    "\n",
    "def adding_module_path():\n",
    "    module_path = os.path.abspath(os.path.sep.join([\"..\"]*4))\n",
    "\n",
    "    if module_path not in sys.path:\n",
    "        sys.path.append(module_path)\n",
    "\n",
    "adding_module_path()\n",
    "\n",
    "from src.config.run_prep import run_prep\n",
    "from src.utils.log_juypter import add_experiment_jupyter_logger\n",
    "\n",
    "run_prep()\n",
    "add_experiment_jupyter_logger(os.getcwd())"
   ]
  },
  {
   "cell_type": "markdown",
   "id": "dac818da",
   "metadata": {},
   "source": [
    "### Import of ExperimentTypes"
   ]
  },
  {
   "cell_type": "code",
   "execution_count": 2,
   "id": "0f0399ce",
   "metadata": {},
   "outputs": [],
   "source": [
    "from src.experiments.experiment_scripts.types.experiment_types import ExperimentType"
   ]
  },
  {
   "cell_type": "markdown",
   "id": "2ad43523",
   "metadata": {},
   "source": [
    "#### All experiments can be shown"
   ]
  },
  {
   "cell_type": "code",
   "execution_count": 3,
   "id": "b478b3c7",
   "metadata": {},
   "outputs": [
    {
     "data": {
      "text/plain": [
       "[<ExperimentType.TrainableTransformer: 'Learning'>,\n",
       " <ExperimentType.PoolingStrategyTransformer: 'PoolingStrategyTransformer'>,\n",
       " <ExperimentType.OutputSequenceLengthTransformer: 'OutputSequenceLength'>,\n",
       " <ExperimentType.LearningRateTransformer: 'LearningRateTransformer'>,\n",
       " <ExperimentType.LabelSizeTransformer: 'LabelSizeLabelSizeTransformer'>,\n",
       " <ExperimentType.PreprocessingType: 'PreprocessingType'>,\n",
       " <ExperimentType.TransformerType: 'TransformerType'>,\n",
       " <ExperimentType.PreprocessingTransformer: 'PreprocessingTransformer'>,\n",
       " <ExperimentType.NumberOfAuthorsNN: 'NumberOfAuthorsNN'>,\n",
       " <ExperimentType.NumberOfSentencesNN: 'NumberOfSentencesNN'>,\n",
       " <ExperimentType.EmbeddingSizeNN: 'EmbeddingSizeNN'>,\n",
       " <ExperimentType.Classic: 'Classic'>,\n",
       " <ExperimentType.ClassicLogisticRegressionLabelSize: 'ClassicLogisticRegressionLabelSize'>,\n",
       " <ExperimentType.ClassicLogisticRegressionPreprocessing: 'ClassicLogisticRegressionPreprocessing'>,\n",
       " <ExperimentType.TransformerTest: 'TransformerTest'>,\n",
       " <ExperimentType.NNTest: 'NNTest'>,\n",
       " <ExperimentType.ClassicTest: 'ClassicTest'>]"
      ]
     },
     "execution_count": 3,
     "metadata": {},
     "output_type": "execute_result"
    }
   ],
   "source": [
    "list(ExperimentType)"
   ]
  },
  {
   "cell_type": "markdown",
   "id": "5291a973",
   "metadata": {},
   "source": [
    "### Import of dictionary object with specified configurations"
   ]
  },
  {
   "cell_type": "code",
   "execution_count": 4,
   "id": "a13aab48",
   "metadata": {},
   "outputs": [
    {
     "name": "stderr",
     "output_type": "stream",
     "text": [
      "2022-04-13 23:23:21.153277: W tensorflow/stream_executor/platform/default/dso_loader.cc:64] Could not load dynamic library 'libcudnn.so.8'; dlerror: libcudnn.so.8: cannot open shared object file: No such file or directory\n"
     ]
    }
   ],
   "source": [
    "from src.experiments.experiment_scripts.experiment_configurations.config import experiment_config"
   ]
  },
  {
   "cell_type": "markdown",
   "id": "2926df19",
   "metadata": {},
   "source": [
    "### Import runner for experiment - should be imported correct Runner!\n",
    "\n",
    "- TransformerRunner.\n",
    "- ClassicRunner.\n",
    "- NNRunner.\n",
    "- TestRunner.\n",
    "\n",
    "After import of runner properties of object should be specified correctly in object constructor."
   ]
  },
  {
   "cell_type": "code",
   "execution_count": 5,
   "id": "e946834c",
   "metadata": {},
   "outputs": [],
   "source": [
    "from src.experiments.experiment_scripts.classic.classic_runner import ClassicRunner"
   ]
  },
  {
   "cell_type": "code",
   "execution_count": 6,
   "id": "1b044331",
   "metadata": {},
   "outputs": [],
   "source": [
    "# experiment = TransformerRunner(\n",
    "#     experiment_type=None,\n",
    "#     save_best=None,\n",
    "#     save_model=None,\n",
    "#     config_dict={}\n",
    "# )"
   ]
  },
  {
   "cell_type": "code",
   "execution_count": 7,
   "id": "345a4e88",
   "metadata": {},
   "outputs": [
    {
     "data": {
      "text/plain": [
       "(<ExperimentType.ClassicLogisticRegressionLabelSize: 'ClassicLogisticRegressionLabelSize'>,)"
      ]
     },
     "execution_count": 7,
     "metadata": {},
     "output_type": "execute_result"
    }
   ],
   "source": [
    "ExperimentType.ClassicLogisticRegressionLabelSize,"
   ]
  },
  {
   "cell_type": "markdown",
   "id": "993d9620",
   "metadata": {},
   "source": [
    "#### Test"
   ]
  },
  {
   "cell_type": "code",
   "execution_count": 9,
   "id": "6b14bd4b",
   "metadata": {
    "scrolled": true
   },
   "outputs": [
    {
     "name": "stdout",
     "output_type": "stream",
     "text": [
      "Loaded configuration [<ExperimentGeneratorPart.DatasetGenerator: 'DatasetGenerator'>, <ExperimentGeneratorPart.FeatureExtractors: 'FeatureExtractors'>, <ExperimentGeneratorPart.Predictor: 'Predictor'>, <ExperimentGeneratorPart.TransformerPoolingStrategy: 'TransformerPoolingStrategy'>]\n"
     ]
    }
   ],
   "source": [
    "experiment = ClassicRunner(\n",
    "    experiment_type=ExperimentType.ClassicLogisticRegressionLabelSize,\n",
    "    config_dict=experiment_config\n",
    ")"
   ]
  },
  {
   "cell_type": "code",
   "execution_count": 10,
   "id": "b6a4b56b",
   "metadata": {
    "scrolled": false
   },
   "outputs": [
    {
     "name": "stdout",
     "output_type": "stream",
     "text": [
      "Loading dataset from=/home/usp/pro0255/diploma/data/gutenberg/5Authors/Sentence3/data.csv\n",
      "Creating shorting method with min = 3\n",
      "Creating lemma method with instance <WordNetLemmatizer>\n",
      "Specified type CaseInterpunction\n",
      "Train (18062,)\n",
      "Valid (3188,)\n",
      "Test (3750,)\n",
      "\n",
      "\n",
      "Creating new experiment summarization for !\n",
      "New vectorization\n",
      "Fitting vetorizer with name CountVectorizer\n",
      "Fitting vectorizer in ['CountVectorizer', 'TfidfVectorizer']\n",
      "End train\n",
      "Fitting vetorizer with name CountVectorizer\n",
      "Fitting vectorizer in ['CountVectorizer', 'TfidfVectorizer']\n",
      "End test\n",
      "End of vectorization\n",
      "Current name of vectorizer CountVectorizer in [('CountVectorizer', 'BoW'), ('TfidfVectorizer', 'TfIdf'), ('GloveVectorizer', 'Glove'), ('Word2VecVectorizer', 'Word2Vec'), ('BertBaseUncasedVectorizer', 'Transformer'), ('DistilBertBaseUncasedVectorizer', 'Transformer'), ('ElectraSmallVectorizer', 'Transformer')]\n",
      "Current name of instance SGDClassifier in [('SGDClassifier', 'LinearClassifier'), ('GaussianNB', 'NaiveBayesClassifier'), ('RandomForestClassifier', 'RandomForestClassifier'), ('KNeighborsClassifier', 'KNeighborsClassifier')]\n",
      "Current predict instance LinearClassifier\n",
      "Running setup of directory for experiment ClassicLogisticRegressionLabelSize/0\n",
      "Fitting model\n",
      "Predicting test dataset\n",
      "Evaluating results\n",
      "Mapping timer\n",
      "End of maping timer\n",
      "Saving\n",
      "Saving results\n",
      "Saving decription of experiment\n",
      "Loading dataset from=/home/usp/pro0255/diploma/data/gutenberg/5Authors/Sentence3/data.csv\n",
      "Creating shorting method with min = 3\n",
      "Creating lemma method with instance <WordNetLemmatizer>\n",
      "Specified type CaseInterpunction\n",
      "Train (36125,)\n",
      "Valid (6375,)\n",
      "Test (7500,)\n",
      "\n",
      "\n",
      "Creating new experiment summarization for !\n",
      "New vectorization\n",
      "Fitting vetorizer with name CountVectorizer\n",
      "Fitting vectorizer in ['CountVectorizer', 'TfidfVectorizer']\n",
      "End train\n",
      "Fitting vetorizer with name CountVectorizer\n",
      "Fitting vectorizer in ['CountVectorizer', 'TfidfVectorizer']\n",
      "End test\n",
      "End of vectorization\n",
      "Current name of vectorizer CountVectorizer in [('CountVectorizer', 'BoW'), ('TfidfVectorizer', 'TfIdf'), ('GloveVectorizer', 'Glove'), ('Word2VecVectorizer', 'Word2Vec'), ('BertBaseUncasedVectorizer', 'Transformer'), ('DistilBertBaseUncasedVectorizer', 'Transformer'), ('ElectraSmallVectorizer', 'Transformer')]\n",
      "Current name of instance SGDClassifier in [('SGDClassifier', 'LinearClassifier'), ('GaussianNB', 'NaiveBayesClassifier'), ('RandomForestClassifier', 'RandomForestClassifier'), ('KNeighborsClassifier', 'KNeighborsClassifier')]\n",
      "Current predict instance LinearClassifier\n",
      "Running setup of directory for experiment ClassicLogisticRegressionLabelSize/1\n",
      "Fitting model\n",
      "Predicting test dataset\n",
      "Evaluating results\n",
      "Mapping timer\n",
      "End of maping timer\n",
      "Saving\n",
      "Saving results\n",
      "Saving decription of experiment\n",
      "Loading dataset from=/home/usp/pro0255/diploma/data/gutenberg/5Authors/Sentence3/data.csv\n",
      "Creating shorting method with min = 3\n",
      "Creating lemma method with instance <WordNetLemmatizer>\n",
      "Specified type CaseInterpunction\n",
      "Train (54187,)\n",
      "Valid (9563,)\n",
      "Test (11250,)\n",
      "\n",
      "\n",
      "Creating new experiment summarization for !\n",
      "New vectorization\n",
      "Fitting vetorizer with name CountVectorizer\n",
      "Fitting vectorizer in ['CountVectorizer', 'TfidfVectorizer']\n",
      "End train\n",
      "Fitting vetorizer with name CountVectorizer\n",
      "Fitting vectorizer in ['CountVectorizer', 'TfidfVectorizer']\n",
      "End test\n",
      "End of vectorization\n",
      "Current name of vectorizer CountVectorizer in [('CountVectorizer', 'BoW'), ('TfidfVectorizer', 'TfIdf'), ('GloveVectorizer', 'Glove'), ('Word2VecVectorizer', 'Word2Vec'), ('BertBaseUncasedVectorizer', 'Transformer'), ('DistilBertBaseUncasedVectorizer', 'Transformer'), ('ElectraSmallVectorizer', 'Transformer')]\n",
      "Current name of instance SGDClassifier in [('SGDClassifier', 'LinearClassifier'), ('GaussianNB', 'NaiveBayesClassifier'), ('RandomForestClassifier', 'RandomForestClassifier'), ('KNeighborsClassifier', 'KNeighborsClassifier')]\n",
      "Current predict instance LinearClassifier\n",
      "Running setup of directory for experiment ClassicLogisticRegressionLabelSize/2\n",
      "Fitting model\n",
      "Predicting test dataset\n",
      "Evaluating results\n",
      "Mapping timer\n",
      "End of maping timer\n",
      "Saving\n",
      "Saving results\n",
      "Saving decription of experiment\n",
      "Loading dataset from=/home/usp/pro0255/diploma/data/gutenberg/5Authors/Sentence3/data.csv\n",
      "Creating shorting method with min = 3\n",
      "Creating lemma method with instance <WordNetLemmatizer>\n",
      "Specified type CaseInterpunction\n",
      "Train (72250,)\n",
      "Valid (12750,)\n",
      "Test (15000,)\n",
      "\n",
      "\n",
      "Creating new experiment summarization for !\n",
      "New vectorization\n",
      "Fitting vetorizer with name CountVectorizer\n",
      "Fitting vectorizer in ['CountVectorizer', 'TfidfVectorizer']\n",
      "End train\n",
      "Fitting vetorizer with name CountVectorizer\n",
      "Fitting vectorizer in ['CountVectorizer', 'TfidfVectorizer']\n",
      "End test\n",
      "End of vectorization\n",
      "Current name of vectorizer CountVectorizer in [('CountVectorizer', 'BoW'), ('TfidfVectorizer', 'TfIdf'), ('GloveVectorizer', 'Glove'), ('Word2VecVectorizer', 'Word2Vec'), ('BertBaseUncasedVectorizer', 'Transformer'), ('DistilBertBaseUncasedVectorizer', 'Transformer'), ('ElectraSmallVectorizer', 'Transformer')]\n",
      "Current name of instance SGDClassifier in [('SGDClassifier', 'LinearClassifier'), ('GaussianNB', 'NaiveBayesClassifier'), ('RandomForestClassifier', 'RandomForestClassifier'), ('KNeighborsClassifier', 'KNeighborsClassifier')]\n",
      "Current predict instance LinearClassifier\n",
      "Running setup of directory for experiment ClassicLogisticRegressionLabelSize/3\n",
      "Fitting model\n",
      "Predicting test dataset\n",
      "Evaluating results\n",
      "Mapping timer\n",
      "End of maping timer\n",
      "Saving\n",
      "Saving results\n",
      "Saving decription of experiment\n",
      "Loading dataset from=/home/usp/pro0255/diploma/data/gutenberg/5Authors/Sentence3/data.csv\n",
      "Creating shorting method with min = 3\n",
      "Creating lemma method with instance <WordNetLemmatizer>\n",
      "Specified type CaseInterpunction\n",
      "Train (90312,)\n",
      "Valid (15938,)\n",
      "Test (18750,)\n",
      "\n",
      "\n",
      "Creating new experiment summarization for !\n",
      "New vectorization\n",
      "Fitting vetorizer with name CountVectorizer\n",
      "Fitting vectorizer in ['CountVectorizer', 'TfidfVectorizer']\n",
      "End train\n",
      "Fitting vetorizer with name CountVectorizer\n",
      "Fitting vectorizer in ['CountVectorizer', 'TfidfVectorizer']\n",
      "End test\n",
      "End of vectorization\n",
      "Current name of vectorizer CountVectorizer in [('CountVectorizer', 'BoW'), ('TfidfVectorizer', 'TfIdf'), ('GloveVectorizer', 'Glove'), ('Word2VecVectorizer', 'Word2Vec'), ('BertBaseUncasedVectorizer', 'Transformer'), ('DistilBertBaseUncasedVectorizer', 'Transformer'), ('ElectraSmallVectorizer', 'Transformer')]\n",
      "Current name of instance SGDClassifier in [('SGDClassifier', 'LinearClassifier'), ('GaussianNB', 'NaiveBayesClassifier'), ('RandomForestClassifier', 'RandomForestClassifier'), ('KNeighborsClassifier', 'KNeighborsClassifier')]\n",
      "Current predict instance LinearClassifier\n",
      "Running setup of directory for experiment ClassicLogisticRegressionLabelSize/4\n",
      "Fitting model\n",
      "Predicting test dataset\n",
      "Evaluating results\n",
      "Mapping timer\n",
      "End of maping timer\n",
      "Saving\n",
      "Saving results\n",
      "Saving decription of experiment\n"
     ]
    }
   ],
   "source": [
    "experiment.run()"
   ]
  },
  {
   "cell_type": "code",
   "execution_count": null,
   "id": "b1a85ba6",
   "metadata": {},
   "outputs": [],
   "source": []
  }
 ],
 "metadata": {
  "kernelspec": {
   "display_name": "Python 3 (ipykernel)",
   "language": "python",
   "name": "python3"
  },
  "language_info": {
   "codemirror_mode": {
    "name": "ipython",
    "version": 3
   },
   "file_extension": ".py",
   "mimetype": "text/x-python",
   "name": "python",
   "nbconvert_exporter": "python",
   "pygments_lexer": "ipython3",
   "version": "3.9.7"
  }
 },
 "nbformat": 4,
 "nbformat_minor": 5
}
