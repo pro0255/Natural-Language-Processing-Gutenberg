{
 "cells": [
  {
   "cell_type": "code",
   "execution_count": 1,
   "id": "5e3647e5",
   "metadata": {},
   "outputs": [
    {
     "name": "stdout",
     "output_type": "stream",
     "text": [
      "Running preperation of packages\n"
     ]
    },
    {
     "name": "stderr",
     "output_type": "stream",
     "text": [
      "[nltk_data] Downloading package punkt to\n",
      "[nltk_data]     /home/usp/pro0255/diploma/nltk_data...\n",
      "[nltk_data]   Package punkt is already up-to-date!\n",
      "[nltk_data] Downloading package wordnet to\n",
      "[nltk_data]     /home/usp/pro0255/diploma/nltk_data...\n",
      "[nltk_data]   Package wordnet is already up-to-date!\n",
      "[nltk_data] Downloading package omw-1.4 to\n",
      "[nltk_data]     /home/usp/pro0255/diploma/nltk_data...\n",
      "[nltk_data]   Package omw-1.4 is already up-to-date!\n"
     ]
    },
    {
     "data": {
      "text/plain": [
       "<_io.TextIOWrapper name='/home/usp/pro0255/diploma/jupyters/experiments/classic/all/jupyter_log.txt' mode='a+' encoding='UTF-8'>"
      ]
     },
     "execution_count": 1,
     "metadata": {},
     "output_type": "execute_result"
    }
   ],
   "source": [
    "import os\n",
    "import sys\n",
    "\n",
    "def adding_module_path():\n",
    "    module_path = os.path.abspath(os.path.sep.join([\"..\"]*4))\n",
    "\n",
    "    if module_path not in sys.path:\n",
    "        sys.path.append(module_path)\n",
    "\n",
    "adding_module_path()\n",
    "\n",
    "from src.config.run_prep import run_prep\n",
    "from src.utils.log_juypter import add_experiment_jupyter_logger\n",
    "\n",
    "run_prep()\n",
    "add_experiment_jupyter_logger(os.getcwd())"
   ]
  },
  {
   "cell_type": "markdown",
   "id": "dac818da",
   "metadata": {},
   "source": [
    "### Import of ExperimentTypes"
   ]
  },
  {
   "cell_type": "code",
   "execution_count": 2,
   "id": "0f0399ce",
   "metadata": {},
   "outputs": [],
   "source": [
    "from src.experiments.experiment_scripts.types.experiment_types import ExperimentType"
   ]
  },
  {
   "cell_type": "markdown",
   "id": "2ad43523",
   "metadata": {},
   "source": [
    "#### All experiments can be shown"
   ]
  },
  {
   "cell_type": "code",
   "execution_count": 3,
   "id": "b478b3c7",
   "metadata": {},
   "outputs": [
    {
     "data": {
      "text/plain": [
       "[<ExperimentType.TrainableTransformer: 'Learning'>,\n",
       " <ExperimentType.PoolingStrategyTransformer: 'PoolingStrategyTransformer'>,\n",
       " <ExperimentType.OutputSequenceLengthTransformer: 'OutputSequenceLength'>,\n",
       " <ExperimentType.LearningRateTransformer: 'LearningRateTransformer'>,\n",
       " <ExperimentType.LabelSize: 'LabelSize'>,\n",
       " <ExperimentType.PreprocessingType: 'PreprocessingType'>,\n",
       " <ExperimentType.TransformerType: 'TransformerType'>,\n",
       " <ExperimentType.NumberOfAuthorsNN: 'NumberOfAuthorsNN'>,\n",
       " <ExperimentType.NumberOfSentencesNN: 'NumberOfSentencesNN'>,\n",
       " <ExperimentType.Classic: 'Classic'>,\n",
       " <ExperimentType.TransformerTest: 'TransformerTest'>,\n",
       " <ExperimentType.NNTest: 'NNTest'>,\n",
       " <ExperimentType.ClassicTest: 'ClassicTest'>]"
      ]
     },
     "execution_count": 3,
     "metadata": {},
     "output_type": "execute_result"
    }
   ],
   "source": [
    "list(ExperimentType)"
   ]
  },
  {
   "cell_type": "markdown",
   "id": "5291a973",
   "metadata": {},
   "source": [
    "### Import of dictionary object with specified configurations"
   ]
  },
  {
   "cell_type": "code",
   "execution_count": 4,
   "id": "a13aab48",
   "metadata": {},
   "outputs": [
    {
     "name": "stderr",
     "output_type": "stream",
     "text": [
      "2022-04-13 19:40:34.927151: W tensorflow/stream_executor/platform/default/dso_loader.cc:64] Could not load dynamic library 'libcudnn.so.8'; dlerror: libcudnn.so.8: cannot open shared object file: No such file or directory\n"
     ]
    }
   ],
   "source": [
    "from src.experiments.experiment_scripts.experiment_configurations.config import experiment_config"
   ]
  },
  {
   "cell_type": "markdown",
   "id": "2926df19",
   "metadata": {},
   "source": [
    "### Import runner for experiment - should be imported correct Runner!\n",
    "\n",
    "- TransformerRunner.\n",
    "- ClassicRunner.\n",
    "- NNRunner.\n",
    "- TestRunner.\n",
    "\n",
    "After import of runner properties of object should be specified correctly in object constructor."
   ]
  },
  {
   "cell_type": "code",
   "execution_count": 5,
   "id": "e946834c",
   "metadata": {},
   "outputs": [],
   "source": [
    "from src.experiments.experiment_scripts.classic.classic_runner import ClassicRunner"
   ]
  },
  {
   "cell_type": "code",
   "execution_count": 6,
   "id": "1b044331",
   "metadata": {},
   "outputs": [],
   "source": [
    "# experiment = TransformerRunner(\n",
    "#     experiment_type=None,\n",
    "#     save_best=None,\n",
    "#     save_model=None,\n",
    "#     config_dict={}\n",
    "# )"
   ]
  },
  {
   "cell_type": "markdown",
   "id": "993d9620",
   "metadata": {},
   "source": [
    "#### Test"
   ]
  },
  {
   "cell_type": "code",
   "execution_count": 7,
   "id": "6b14bd4b",
   "metadata": {
    "scrolled": true
   },
   "outputs": [
    {
     "name": "stdout",
     "output_type": "stream",
     "text": [
      "Loaded configuration [<ExperimentGeneratorPart.DatasetGenerator: 'DatasetGenerator'>, <ExperimentGeneratorPart.FeatureExtractors: 'FeatureExtractors'>, <ExperimentGeneratorPart.Predictor: 'Predictor'>, <ExperimentGeneratorPart.TransformerPoolingStrategy: 'TransformerPoolingStrategy'>]\n"
     ]
    }
   ],
   "source": [
    "experiment = ClassicRunner(\n",
    "    experiment_type=ExperimentType.Classic,\n",
    "    config_dict=experiment_config\n",
    ")"
   ]
  },
  {
   "cell_type": "code",
   "execution_count": null,
   "id": "b6a4b56b",
   "metadata": {
    "scrolled": false
   },
   "outputs": [
    {
     "name": "stdout",
     "output_type": "stream",
     "text": [
      "Loading dataset from=/home/usp/pro0255/diploma/data/gutenberg/5Authors/Sentence3/data.csv\n",
      "Creating shorting method with min = 3\n",
      "Creating lemma method with instance <WordNetLemmatizer>\n",
      "Specified type CaseInterpunction\n",
      "Train (54187,)\n",
      "Valid (9563,)\n",
      "Test (11250,)\n",
      "\n",
      "\n",
      "Creating new experiment summarization for !\n",
      "New vectorization\n",
      "Fitting vetorizer with name CountVectorizer\n",
      "Fitting vectorizer in ['CountVectorizer', 'TfidfVectorizer']\n",
      "End train\n",
      "Fitting vetorizer with name CountVectorizer\n",
      "Fitting vectorizer in ['CountVectorizer', 'TfidfVectorizer']\n",
      "End test\n",
      "End of vectorization\n",
      "Current name of vectorizer CountVectorizer in [('CountVectorizer', 'BoW'), ('TfidfVectorizer', 'TfIdf'), ('GloveVectorizer', 'Glove'), ('Word2VecVectorizer', 'Word2Vec'), ('BertBaseUncasedVectorizer', 'Transformer'), ('DistilBertBaseUncasedVectorizer', 'Transformer'), ('ElectraSmallVectorizer', 'Transformer')]\n",
      "Current name of instance GaussianNB in [('SGDClassifier', 'LinearClassifier'), ('GaussianNB', 'NaiveBayesClassifier'), ('RandomForestClassifier', 'RandomForestClassifier'), ('KNeighborsClassifier', 'KNeighborsClassifier')]\n",
      "Current predict instance NaiveBayesClassifier\n",
      "Running setup of directory for experiment Classic/9\n",
      "Fitting model\n",
      "Predicting test dataset\n",
      "Evaluating results\n",
      "Mapping timer\n",
      "End of maping timer\n",
      "Saving\n",
      "Saving results\n",
      "Saving decription of experiment\n",
      "Current name of instance SGDClassifier in [('SGDClassifier', 'LinearClassifier'), ('GaussianNB', 'NaiveBayesClassifier'), ('RandomForestClassifier', 'RandomForestClassifier'), ('KNeighborsClassifier', 'KNeighborsClassifier')]\n",
      "Current predict instance LinearClassifier\n",
      "Running setup of directory for experiment Classic/10\n",
      "Fitting model\n",
      "Predicting test dataset\n",
      "Evaluating results\n",
      "Mapping timer\n",
      "End of maping timer\n",
      "Saving\n",
      "Saving results\n",
      "Saving decription of experiment\n",
      "Current name of instance RandomForestClassifier in [('SGDClassifier', 'LinearClassifier'), ('GaussianNB', 'NaiveBayesClassifier'), ('RandomForestClassifier', 'RandomForestClassifier'), ('KNeighborsClassifier', 'KNeighborsClassifier')]\n",
      "Current predict instance RandomForestClassifier\n",
      "Running setup of directory for experiment Classic/11\n",
      "Fitting model\n",
      "Predicting test dataset\n",
      "Evaluating results\n",
      "Mapping timer\n",
      "End of maping timer\n",
      "Saving\n",
      "Saving results\n",
      "Saving decription of experiment\n",
      "Current name of instance KNeighborsClassifier in [('SGDClassifier', 'LinearClassifier'), ('GaussianNB', 'NaiveBayesClassifier'), ('RandomForestClassifier', 'RandomForestClassifier'), ('KNeighborsClassifier', 'KNeighborsClassifier')]\n",
      "Current predict instance KNeighborsClassifier\n",
      "Running setup of directory for experiment Classic/12\n",
      "Fitting model\n",
      "Predicting test dataset\n",
      "Evaluating results\n",
      "Mapping timer\n",
      "End of maping timer\n",
      "Saving\n",
      "Saving results\n",
      "Saving decription of experiment\n",
      "\n",
      "\n",
      "Creating new experiment summarization for !\n",
      "New vectorization\n",
      "Fitting vetorizer with name TfidfVectorizer\n",
      "Fitting vectorizer in ['CountVectorizer', 'TfidfVectorizer']\n",
      "End train\n",
      "Fitting vetorizer with name TfidfVectorizer\n",
      "Fitting vectorizer in ['CountVectorizer', 'TfidfVectorizer']\n",
      "End test\n",
      "End of vectorization\n",
      "Current name of vectorizer TfidfVectorizer in [('CountVectorizer', 'BoW'), ('TfidfVectorizer', 'TfIdf'), ('GloveVectorizer', 'Glove'), ('Word2VecVectorizer', 'Word2Vec'), ('BertBaseUncasedVectorizer', 'Transformer'), ('DistilBertBaseUncasedVectorizer', 'Transformer'), ('ElectraSmallVectorizer', 'Transformer')]\n",
      "Current name of instance GaussianNB in [('SGDClassifier', 'LinearClassifier'), ('GaussianNB', 'NaiveBayesClassifier'), ('RandomForestClassifier', 'RandomForestClassifier'), ('KNeighborsClassifier', 'KNeighborsClassifier')]\n",
      "Current predict instance NaiveBayesClassifier\n",
      "Running setup of directory for experiment Classic/13\n",
      "Fitting model\n",
      "Predicting test dataset\n",
      "Evaluating results\n",
      "Mapping timer\n",
      "End of maping timer\n",
      "Saving\n",
      "Saving results\n",
      "Saving decription of experiment\n",
      "Current name of instance SGDClassifier in [('SGDClassifier', 'LinearClassifier'), ('GaussianNB', 'NaiveBayesClassifier'), ('RandomForestClassifier', 'RandomForestClassifier'), ('KNeighborsClassifier', 'KNeighborsClassifier')]\n",
      "Current predict instance LinearClassifier\n",
      "Running setup of directory for experiment Classic/14\n",
      "Fitting model\n",
      "Predicting test dataset\n",
      "Evaluating results\n",
      "Mapping timer\n",
      "End of maping timer\n",
      "Saving\n",
      "Saving results\n",
      "Saving decription of experiment\n",
      "Current name of instance RandomForestClassifier in [('SGDClassifier', 'LinearClassifier'), ('GaussianNB', 'NaiveBayesClassifier'), ('RandomForestClassifier', 'RandomForestClassifier'), ('KNeighborsClassifier', 'KNeighborsClassifier')]\n",
      "Current predict instance RandomForestClassifier\n",
      "Running setup of directory for experiment Classic/15\n",
      "Fitting model\n",
      "Predicting test dataset\n",
      "Evaluating results\n",
      "Mapping timer\n",
      "End of maping timer\n",
      "Saving\n",
      "Saving results\n",
      "Saving decription of experiment\n",
      "Current name of instance KNeighborsClassifier in [('SGDClassifier', 'LinearClassifier'), ('GaussianNB', 'NaiveBayesClassifier'), ('RandomForestClassifier', 'RandomForestClassifier'), ('KNeighborsClassifier', 'KNeighborsClassifier')]\n",
      "Current predict instance KNeighborsClassifier\n",
      "Running setup of directory for experiment Classic/16\n",
      "Fitting model\n",
      "Predicting test dataset\n",
      "Evaluating results\n",
      "Mapping timer\n",
      "End of maping timer\n",
      "Saving\n",
      "Saving results\n",
      "Saving decription of experiment\n",
      "\n",
      "\n",
      "Creating new experiment summarization for !\n",
      "New vectorization\n",
      "Fitting vetorizer with name GloveVectorizer\n",
      "Fitting vectorizer in ['GloveVectorizer', 'Word2VecVectorizer']\n",
      "Downloading model word2vec-google-news-300!\n",
      "Already loaded model=word2vec-google-news-300\n",
      "Current embedding size is 300\n",
      "Transforming 54187, 0 0\n",
      "Missed=445988, counter=3341544, accuracy=13.346764250298666\n",
      "End train\n",
      "Fitting vetorizer with name GloveVectorizer\n",
      "Fitting vectorizer in ['GloveVectorizer', 'Word2VecVectorizer']\n",
      "Already downloaded\n",
      "Transforming 11250, 0 0\n",
      "Missed=93334, counter=700038, accuracy=13.332704796025357\n",
      "End test\n",
      "End of vectorization\n",
      "Current name of vectorizer GloveVectorizer in [('CountVectorizer', 'BoW'), ('TfidfVectorizer', 'TfIdf'), ('GloveVectorizer', 'Glove'), ('Word2VecVectorizer', 'Word2Vec'), ('BertBaseUncasedVectorizer', 'Transformer'), ('DistilBertBaseUncasedVectorizer', 'Transformer'), ('ElectraSmallVectorizer', 'Transformer')]\n",
      "Current name of instance GaussianNB in [('SGDClassifier', 'LinearClassifier'), ('GaussianNB', 'NaiveBayesClassifier'), ('RandomForestClassifier', 'RandomForestClassifier'), ('KNeighborsClassifier', 'KNeighborsClassifier')]\n",
      "Current predict instance NaiveBayesClassifier\n",
      "Running setup of directory for experiment Classic/17\n",
      "Fitting model\n",
      "Predicting test dataset\n",
      "Evaluating results\n",
      "Mapping timer\n",
      "End of maping timer\n",
      "Saving\n",
      "Saving results\n",
      "Saving decription of experiment\n",
      "Current name of instance SGDClassifier in [('SGDClassifier', 'LinearClassifier'), ('GaussianNB', 'NaiveBayesClassifier'), ('RandomForestClassifier', 'RandomForestClassifier'), ('KNeighborsClassifier', 'KNeighborsClassifier')]\n",
      "Current predict instance LinearClassifier\n",
      "Running setup of directory for experiment Classic/18\n",
      "Fitting model\n",
      "Predicting test dataset\n",
      "Evaluating results\n",
      "Mapping timer\n",
      "End of maping timer\n",
      "Saving\n",
      "Saving results\n",
      "Saving decription of experiment\n",
      "Current name of instance RandomForestClassifier in [('SGDClassifier', 'LinearClassifier'), ('GaussianNB', 'NaiveBayesClassifier'), ('RandomForestClassifier', 'RandomForestClassifier'), ('KNeighborsClassifier', 'KNeighborsClassifier')]\n",
      "Current predict instance RandomForestClassifier\n",
      "Running setup of directory for experiment Classic/19\n",
      "Fitting model\n",
      "Predicting test dataset\n",
      "Evaluating results\n",
      "Mapping timer\n",
      "End of maping timer\n",
      "Saving\n",
      "Saving results\n",
      "Saving decription of experiment\n",
      "Current name of instance KNeighborsClassifier in [('SGDClassifier', 'LinearClassifier'), ('GaussianNB', 'NaiveBayesClassifier'), ('RandomForestClassifier', 'RandomForestClassifier'), ('KNeighborsClassifier', 'KNeighborsClassifier')]\n",
      "Current predict instance KNeighborsClassifier\n",
      "Running setup of directory for experiment Classic/20\n",
      "Fitting model\n",
      "Predicting test dataset\n",
      "Evaluating results\n",
      "Mapping timer\n",
      "End of maping timer\n",
      "Saving\n",
      "Saving results\n",
      "Saving decription of experiment\n",
      "\n",
      "\n",
      "Creating new experiment summarization for !\n",
      "New vectorization\n",
      "Fitting vetorizer with name Word2VecVectorizer\n",
      "Fitting vectorizer in ['GloveVectorizer', 'Word2VecVectorizer']\n"
     ]
    },
    {
     "name": "stdout",
     "output_type": "stream",
     "text": [
      "Downloading model glove-wiki-gigaword-300!\n",
      "Already loaded model=glove-wiki-gigaword-300\n",
      "Current embedding size is 300\n",
      "Transforming 54187, 0 0\n",
      "Missed=28032, counter=3341544, accuracy=0.8388936371928665\n",
      "End train\n",
      "Fitting vetorizer with name Word2VecVectorizer\n",
      "Fitting vectorizer in ['GloveVectorizer', 'Word2VecVectorizer']\n",
      "Already downloaded\n",
      "Transforming 11250, 0 0\n",
      "Missed=5852, counter=700038, accuracy=0.8359546196063642\n",
      "End test\n",
      "End of vectorization\n",
      "Current name of vectorizer Word2VecVectorizer in [('CountVectorizer', 'BoW'), ('TfidfVectorizer', 'TfIdf'), ('GloveVectorizer', 'Glove'), ('Word2VecVectorizer', 'Word2Vec'), ('BertBaseUncasedVectorizer', 'Transformer'), ('DistilBertBaseUncasedVectorizer', 'Transformer'), ('ElectraSmallVectorizer', 'Transformer')]\n",
      "Current name of instance GaussianNB in [('SGDClassifier', 'LinearClassifier'), ('GaussianNB', 'NaiveBayesClassifier'), ('RandomForestClassifier', 'RandomForestClassifier'), ('KNeighborsClassifier', 'KNeighborsClassifier')]\n",
      "Current predict instance NaiveBayesClassifier\n",
      "Running setup of directory for experiment Classic/21\n",
      "Fitting model\n",
      "Predicting test dataset\n",
      "Evaluating results\n",
      "Mapping timer\n",
      "End of maping timer\n",
      "Saving\n",
      "Saving results\n",
      "Saving decription of experiment\n",
      "Current name of instance SGDClassifier in [('SGDClassifier', 'LinearClassifier'), ('GaussianNB', 'NaiveBayesClassifier'), ('RandomForestClassifier', 'RandomForestClassifier'), ('KNeighborsClassifier', 'KNeighborsClassifier')]\n",
      "Current predict instance LinearClassifier\n",
      "Running setup of directory for experiment Classic/22\n",
      "Fitting model\n",
      "Predicting test dataset\n",
      "Evaluating results\n",
      "Mapping timer\n",
      "End of maping timer\n",
      "Saving\n",
      "Saving results\n",
      "Saving decription of experiment\n",
      "Current name of instance RandomForestClassifier in [('SGDClassifier', 'LinearClassifier'), ('GaussianNB', 'NaiveBayesClassifier'), ('RandomForestClassifier', 'RandomForestClassifier'), ('KNeighborsClassifier', 'KNeighborsClassifier')]\n",
      "Current predict instance RandomForestClassifier\n",
      "Running setup of directory for experiment Classic/23\n",
      "Fitting model\n",
      "Predicting test dataset\n",
      "Evaluating results\n",
      "Mapping timer\n",
      "End of maping timer\n",
      "Saving\n",
      "Saving results\n",
      "Saving decription of experiment\n",
      "Current name of instance KNeighborsClassifier in [('SGDClassifier', 'LinearClassifier'), ('GaussianNB', 'NaiveBayesClassifier'), ('RandomForestClassifier', 'RandomForestClassifier'), ('KNeighborsClassifier', 'KNeighborsClassifier')]\n",
      "Current predict instance KNeighborsClassifier\n",
      "Running setup of directory for experiment Classic/24\n",
      "Fitting model\n",
      "Predicting test dataset\n",
      "Evaluating results\n",
      "Mapping timer\n",
      "End of maping timer\n",
      "Saving\n",
      "Saving results\n",
      "Saving decription of experiment\n",
      "\n",
      "\n",
      "Creating new experiment summarization for !\n",
      "Setting pooling strategy TransformerPoolingStrategySelection.LastLayerCLS\n",
      "New vectorization\n",
      "Fitting vetorizer with name ElectraSmallVectorizer\n",
      "Fitting vectorizer in ['ElectraSmallVectorizer', 'BertBaseUncasedVectorizer', 'DistilBertBaseUncasedVectorizer']\n",
      "Tokenizer with max len = None\n"
     ]
    }
   ],
   "source": [
    "experiment.run()"
   ]
  }
 ],
 "metadata": {
  "kernelspec": {
   "display_name": "Python 3 (ipykernel)",
   "language": "python",
   "name": "python3"
  },
  "language_info": {
   "codemirror_mode": {
    "name": "ipython",
    "version": 3
   },
   "file_extension": ".py",
   "mimetype": "text/x-python",
   "name": "python",
   "nbconvert_exporter": "python",
   "pygments_lexer": "ipython3",
   "version": "3.9.7"
  }
 },
 "nbformat": 4,
 "nbformat_minor": 5
}
