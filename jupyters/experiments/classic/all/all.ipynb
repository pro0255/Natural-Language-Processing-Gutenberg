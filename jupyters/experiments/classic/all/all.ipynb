{
 "cells": [
  {
   "cell_type": "code",
   "execution_count": 1,
   "id": "94358c94",
   "metadata": {},
   "outputs": [
    {
     "name": "stdout",
     "output_type": "stream",
     "text": [
      "Running preperation of packages\n"
     ]
    },
    {
     "name": "stderr",
     "output_type": "stream",
     "text": [
      "[nltk_data] Downloading package punkt to\n",
      "[nltk_data]     /home/usp/pro0255/diploma/nltk_data...\n",
      "[nltk_data]   Package punkt is already up-to-date!\n",
      "[nltk_data] Downloading package wordnet to\n",
      "[nltk_data]     /home/usp/pro0255/diploma/nltk_data...\n",
      "[nltk_data]   Package wordnet is already up-to-date!\n",
      "[nltk_data] Downloading package omw-1.4 to\n",
      "[nltk_data]     /home/usp/pro0255/diploma/nltk_data...\n",
      "[nltk_data]   Package omw-1.4 is already up-to-date!\n"
     ]
    },
    {
     "data": {
      "text/plain": [
       "<_io.TextIOWrapper name='/home/usp/pro0255/diploma/jupyters/experiments/classic/all/jupyter_log.txt' mode='a+' encoding='UTF-8'>"
      ]
     },
     "execution_count": 1,
     "metadata": {},
     "output_type": "execute_result"
    }
   ],
   "source": [
    "import os\n",
    "import sys\n",
    "\n",
    "def adding_module_path():\n",
    "    module_path = os.path.abspath(os.path.sep.join([\"..\"]*4))\n",
    "\n",
    "    if module_path not in sys.path:\n",
    "        sys.path.append(module_path)\n",
    "\n",
    "adding_module_path()\n",
    "\n",
    "from src.config.run_prep import run_prep\n",
    "from src.utils.log_juypter import add_experiment_jupyter_logger\n",
    "\n",
    "run_prep()\n",
    "add_experiment_jupyter_logger(os.getcwd())"
   ]
  },
  {
   "cell_type": "code",
   "execution_count": 2,
   "id": "b67018b7",
   "metadata": {
    "scrolled": false
   },
   "outputs": [
    {
     "name": "stdout",
     "output_type": "stream",
     "text": [
      "Loading embeddding\n",
      "Already loaded model=glove-wiki-gigaword-300\n",
      "Already loaded model=word2vec-google-news-300\n",
      "Embedding dictionaries loaded..\n"
     ]
    },
    {
     "name": "stderr",
     "output_type": "stream",
     "text": [
      "2022-04-12 00:16:47.177062: W tensorflow/stream_executor/platform/default/dso_loader.cc:64] Could not load dynamic library 'libcudnn.so.8'; dlerror: libcudnn.so.8: cannot open shared object file: No such file or directory\n"
     ]
    }
   ],
   "source": [
    "from src.experiments.experiment_scripts.classic.classic_runner import ClassicRunner"
   ]
  },
  {
   "cell_type": "code",
   "execution_count": 3,
   "id": "7ef0f7ea",
   "metadata": {},
   "outputs": [],
   "source": [
    "from src.experiments.experiment_scripts.types.experiment_types import ExperimentType"
   ]
  },
  {
   "cell_type": "code",
   "execution_count": 4,
   "id": "dc6406f4",
   "metadata": {},
   "outputs": [],
   "source": [
    "experiment = ClassicRunner(ExperimentType.Classic)"
   ]
  },
  {
   "cell_type": "code",
   "execution_count": null,
   "id": "7a28f9d4",
   "metadata": {},
   "outputs": [
    {
     "name": "stdout",
     "output_type": "stream",
     "text": [
      "Loading dataset from=/home/usp/pro0255/diploma/data/gutenberg/5Authors/Sentence3/data.csv\n",
      "Creating shorting method with min = 3\n",
      "Creating lemma method with instance <WordNetLemmatizer>\n",
      "Specified type CaseInterpunction\n",
      "Train (54187,)\n",
      "Valid (9563,)\n",
      "Test (11250,)\n",
      "\n",
      "\n",
      "Creating new experiment summarization for !\n",
      "New vectorization\n",
      "Fitting vetorizer with name CountVectorizer\n",
      "Fitting vectorizer in ['CountVectorizer', 'TfidfVectorizer']\n",
      "End train\n",
      "Fitting vetorizer with name CountVectorizer\n",
      "Fitting vectorizer in ['CountVectorizer', 'TfidfVectorizer']\n",
      "End test\n",
      "End of vectorization\n",
      "Current name of vectorizer CountVectorizer in [('CountVectorizer', 'BoW'), ('TfidfVectorizer', 'TfIdf'), ('GloveVectorizer', 'Glove'), ('Word2VecVectorizer', 'Word2Vec'), ('BertBaseUncasedVectorizer', 'Transformer'), ('DistilBertBaseUncasedVectorizer', 'Transformer'), ('ElectraSmallVectorizer', 'Transformer')]\n",
      "Current name of instance GaussianNB in [('SGDClassifier', 'LinearClassifier'), ('GaussianNB', 'NaiveBayesClassifier'), ('RandomForestClassifier', 'RandomForestClassifier'), ('KNeighborsClassifier', 'KNeighborsClassifier')]\n",
      "Current predict instance NaiveBayesClassifier\n",
      "Running setup of directory for experiment Classic/1\n",
      "Fitting model\n",
      "Predicting test dataset\n",
      "Evaluating results\n",
      "Mapping timer\n",
      "End of maping timer\n",
      "Saving\n",
      "Saving results\n",
      "Saving decription of experiment\n",
      "Current name of instance SGDClassifier in [('SGDClassifier', 'LinearClassifier'), ('GaussianNB', 'NaiveBayesClassifier'), ('RandomForestClassifier', 'RandomForestClassifier'), ('KNeighborsClassifier', 'KNeighborsClassifier')]\n",
      "Current predict instance LinearClassifier\n",
      "Running setup of directory for experiment Classic/2\n",
      "Fitting model\n",
      "Predicting test dataset\n",
      "Evaluating results\n",
      "Mapping timer\n",
      "End of maping timer\n",
      "Saving\n",
      "Saving results\n",
      "Saving decription of experiment\n",
      "Current name of instance RandomForestClassifier in [('SGDClassifier', 'LinearClassifier'), ('GaussianNB', 'NaiveBayesClassifier'), ('RandomForestClassifier', 'RandomForestClassifier'), ('KNeighborsClassifier', 'KNeighborsClassifier')]\n",
      "Current predict instance RandomForestClassifier\n",
      "Running setup of directory for experiment Classic/3\n",
      "Fitting model\n",
      "Predicting test dataset\n",
      "Evaluating results\n",
      "Mapping timer\n",
      "End of maping timer\n",
      "Saving\n",
      "Saving results\n",
      "Saving decription of experiment\n",
      "Current name of instance KNeighborsClassifier in [('SGDClassifier', 'LinearClassifier'), ('GaussianNB', 'NaiveBayesClassifier'), ('RandomForestClassifier', 'RandomForestClassifier'), ('KNeighborsClassifier', 'KNeighborsClassifier')]\n",
      "Current predict instance KNeighborsClassifier\n",
      "Running setup of directory for experiment Classic/4\n",
      "Fitting model\n",
      "Predicting test dataset\n"
     ]
    }
   ],
   "source": [
    "experiment.run()"
   ]
  }
 ],
 "metadata": {
  "kernelspec": {
   "display_name": "Python 3 (ipykernel)",
   "language": "python",
   "name": "python3"
  },
  "language_info": {
   "codemirror_mode": {
    "name": "ipython",
    "version": 3
   },
   "file_extension": ".py",
   "mimetype": "text/x-python",
   "name": "python",
   "nbconvert_exporter": "python",
   "pygments_lexer": "ipython3",
   "version": "3.9.7"
  }
 },
 "nbformat": 4,
 "nbformat_minor": 5
}
