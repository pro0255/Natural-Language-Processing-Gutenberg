{
 "cells": [
  {
   "cell_type": "code",
   "execution_count": 1,
   "id": "5e3647e5",
   "metadata": {},
   "outputs": [
    {
     "name": "stdout",
     "output_type": "stream",
     "text": [
      "Running preperation of packages\n"
     ]
    },
    {
     "name": "stderr",
     "output_type": "stream",
     "text": [
      "[nltk_data] Downloading package punkt to\n",
      "[nltk_data]     /home/usp/pro0255/diploma/nltk_data...\n",
      "[nltk_data]   Package punkt is already up-to-date!\n",
      "[nltk_data] Downloading package wordnet to\n",
      "[nltk_data]     /home/usp/pro0255/diploma/nltk_data...\n",
      "[nltk_data]   Package wordnet is already up-to-date!\n",
      "[nltk_data] Downloading package omw-1.4 to\n",
      "[nltk_data]     /home/usp/pro0255/diploma/nltk_data...\n",
      "[nltk_data]   Package omw-1.4 is already up-to-date!\n"
     ]
    },
    {
     "data": {
      "text/plain": [
       "<_io.TextIOWrapper name='/home/usp/pro0255/diploma/jupyters/experiments/test/jupyter_log.txt' mode='a+' encoding='UTF-8'>"
      ]
     },
     "execution_count": 1,
     "metadata": {},
     "output_type": "execute_result"
    }
   ],
   "source": [
    "import os\n",
    "import sys\n",
    "\n",
    "def adding_module_path():\n",
    "    module_path = os.path.abspath(os.path.sep.join([\"..\"]*3))\n",
    "\n",
    "    if module_path not in sys.path:\n",
    "        sys.path.append(module_path)\n",
    "\n",
    "adding_module_path()\n",
    "\n",
    "from src.config.run_prep import run_prep\n",
    "from src.utils.log_juypter import add_experiment_jupyter_logger\n",
    "\n",
    "run_prep()\n",
    "add_experiment_jupyter_logger(os.getcwd())"
   ]
  },
  {
   "cell_type": "markdown",
   "id": "dac818da",
   "metadata": {},
   "source": [
    "### Import of ExperimentTypes"
   ]
  },
  {
   "cell_type": "code",
   "execution_count": 2,
   "id": "0f0399ce",
   "metadata": {},
   "outputs": [],
   "source": [
    "from src.experiments.experiment_scripts.types.experiment_types import ExperimentType\n",
    "from src.types.test_types import TestType"
   ]
  },
  {
   "cell_type": "markdown",
   "id": "2ad43523",
   "metadata": {},
   "source": [
    "#### All experiments can be shown"
   ]
  },
  {
   "cell_type": "code",
   "execution_count": 3,
   "id": "b478b3c7",
   "metadata": {},
   "outputs": [
    {
     "data": {
      "text/plain": [
       "[<ExperimentType.TrainableTransformer: 'Learning'>,\n",
       " <ExperimentType.PoolingStrategyTransformer: 'PoolingStrategyTransformer'>,\n",
       " <ExperimentType.OutputSequenceLengthTransformer: 'OutputSequenceLength'>,\n",
       " <ExperimentType.LearningRateTransformer: 'LearningRateTransformer'>,\n",
       " <ExperimentType.LabelSizeTransformer: 'LabelSizeLabelSizeTransformer'>,\n",
       " <ExperimentType.PreprocessingType: 'PreprocessingType'>,\n",
       " <ExperimentType.TransformerType: 'TransformerType'>,\n",
       " <ExperimentType.PreprocessingTransformer: 'PreprocessingTransformer'>,\n",
       " <ExperimentType.Transformer310Combinations: 'Transformer310Combinations'>,\n",
       " <ExperimentType.Transformer5SentencesCombinations: 'Transformer5SentencesCombinations'>,\n",
       " <ExperimentType.EmbeddingSizeModelingNN: 'EmbeddingSizeModelingNN'>,\n",
       " <ExperimentType.NumberOfAuthorsNN: 'NumberOfAuthorsNN'>,\n",
       " <ExperimentType.NumberOfSentencesNN: 'NumberOfSentencesNN'>,\n",
       " <ExperimentType.NN310Combinations: 'NN310Combinations'>,\n",
       " <ExperimentType.NN5SentencesCombinations: 'NN5SentencesCombinations'>,\n",
       " <ExperimentType.NNCNN5SentencesCombinations: 'NNCNN5SentencesCombinations'>,\n",
       " <ExperimentType.NNCNN310SentencesCombinations: 'NNCNN310SentencesCombinations'>,\n",
       " <ExperimentType.EmbeddingSizeNN: 'EmbeddingSizeNN'>,\n",
       " <ExperimentType.Classic: 'Classic'>,\n",
       " <ExperimentType.ClassicLogisticRegressionLabelSize: 'ClassicLogisticRegressionLabelSize'>,\n",
       " <ExperimentType.ClassicLogisticRegressionPreprocessing: 'ClassicLogisticRegressionPreprocessing'>,\n",
       " <ExperimentType.Classic310Combinations: 'Classic310Combinations'>,\n",
       " <ExperimentType.Classic5SentencesCombinations: 'Classic5SentencesCombinations'>,\n",
       " <ExperimentType.TransformerTest: 'TransformerTest'>,\n",
       " <ExperimentType.NNTest: 'NNTest'>,\n",
       " <ExperimentType.ClassicTest: 'ClassicTest'>]"
      ]
     },
     "execution_count": 3,
     "metadata": {},
     "output_type": "execute_result"
    }
   ],
   "source": [
    "list(ExperimentType)"
   ]
  },
  {
   "cell_type": "markdown",
   "id": "2926df19",
   "metadata": {},
   "source": [
    "### Import runner for experiment - should be imported correct Runner!\n",
    "\n",
    "- TransformerRunner.\n",
    "- ClassicRunner.\n",
    "- NNRunner.\n",
    "- TestRunner.\n",
    "\n",
    "After import of runner properties of object should be specified correctly in object constructor."
   ]
  },
  {
   "cell_type": "code",
   "execution_count": 4,
   "id": "4d73736a",
   "metadata": {},
   "outputs": [],
   "source": [
    "tests_to_run = list(TestType)"
   ]
  },
  {
   "cell_type": "markdown",
   "id": "a6cca8ce",
   "metadata": {},
   "source": [
    "### List of implemented tests"
   ]
  },
  {
   "cell_type": "code",
   "execution_count": 5,
   "id": "5ba762f8",
   "metadata": {},
   "outputs": [
    {
     "data": {
      "text/plain": [
       "[<TestType.Transformer: 'Transformer'>,\n",
       " <TestType.Classic: 'Classic'>,\n",
       " <TestType.NN: 'NN'>]"
      ]
     },
     "execution_count": 5,
     "metadata": {},
     "output_type": "execute_result"
    }
   ],
   "source": [
    "tests_to_run"
   ]
  },
  {
   "cell_type": "markdown",
   "id": "a615e58c",
   "metadata": {},
   "source": [
    "### Start tests"
   ]
  },
  {
   "cell_type": "code",
   "execution_count": 6,
   "id": "e946834c",
   "metadata": {},
   "outputs": [
    {
     "name": "stderr",
     "output_type": "stream",
     "text": [
      "2022-04-28 13:53:43.200098: W tensorflow/stream_executor/platform/default/dso_loader.cc:64] Could not load dynamic library 'libcudnn.so.8'; dlerror: libcudnn.so.8: cannot open shared object file: No such file or directory\n",
      "2022-04-28 13:53:43.200134: W tensorflow/core/common_runtime/gpu/gpu_device.cc:1850] Cannot dlopen some GPU libraries. Please make sure the missing libraries mentioned above are installed properly if you would like to use GPU. Follow the guide at https://www.tensorflow.org/install/gpu for how to download and setup the required libraries for your platform.\n",
      "Skipping registering GPU devices...\n"
     ]
    }
   ],
   "source": [
    "from src.experiments.experiment_scripts.test.test_runner import TestRunner"
   ]
  },
  {
   "cell_type": "code",
   "execution_count": 7,
   "id": "1b044331",
   "metadata": {},
   "outputs": [],
   "source": [
    "# experiment = TransformerRunner(\n",
    "#     experiment_type=None,\n",
    "#     save_best=None,\n",
    "#     save_model=None,\n",
    "#     config_dict={}\n",
    "# )"
   ]
  },
  {
   "cell_type": "markdown",
   "id": "993d9620",
   "metadata": {},
   "source": [
    "#### Test\n",
    "\n",
    "- After user starts 2 cells which are situated below this one, then tests for NN, Transformer and Classic should run. Some outputs will be shown in jupyter output.\n",
    "- Results of tests are situated in directory experiment_results (only if user did not make change in config)"
   ]
  },
  {
   "cell_type": "code",
   "execution_count": 8,
   "id": "6b14bd4b",
   "metadata": {
    "scrolled": true
   },
   "outputs": [],
   "source": [
    "test_runner = TestRunner()"
   ]
  },
  {
   "cell_type": "code",
   "execution_count": null,
   "id": "b6a4b56b",
   "metadata": {},
   "outputs": [
    {
     "name": "stdout",
     "output_type": "stream",
     "text": [
      "Running transformer tests!\n",
      "[1]\n",
      "Loaded configuration [<ExperimentGeneratorPart.DatasetGenerator: 'DatasetGenerator'>, <ExperimentGeneratorPart.ExperimentConfiguration: 'ExperimentConfiguration'>]\n",
      "Loading dataset from=/home/usp/pro0255/diploma/data/gutenberg/5Authors/Sentence3/data.csv\n",
      "Creating shorting method with min = 3\n",
      "Creating lemma method with instance <WordNetLemmatizer>\n",
      "Specified type CaseInterpunction\n",
      "Train (361,)\n",
      "Valid (64,)\n",
      "Test (75,)\n",
      "\n",
      "Loaded dataset!\n",
      "Running experiment pre=PreprocessingType.CaseInterpunction, norm_size=100, authors=5, sentences=3\n",
      "BatchSize=64Epochs=1LearningRate=5e-05Metric=SparseCategoricalAccuracy(name=accuracy,dtype=float32)Loss=<keras.losses.SparseCategoricalCrossentropy object at 0x7f9277c11b80>Optimizer=<keras.optimizer_v2.adam.Adam object at 0x7f9274393ee0> True TransformerPoolingStrategySelection.LastLayerCLS TransformerName.DistilBertBaseUncased 50\n",
      "Tokenizer with max len = 50\n",
      "Creating model with name=distilbert-base-uncased\n",
      "Model: \"TransformerDenseHead\"\n",
      "__________________________________________________________________________________________________\n",
      " Layer (type)                   Output Shape         Param #     Connected to                     \n",
      "==================================================================================================\n",
      " input_ids (InputLayer)         [(None, 50)]         0           []                               \n",
      "                                                                                                  \n",
      " attention_mask (InputLayer)    [(None, 50)]         0           []                               \n",
      "                                                                                                  \n",
      " tf_distil_bert_model (TFDistil  TFBaseModelOutput(l  66362880   ['input_ids[0][0]',              \n",
      " BertModel)                     ast_hidden_state=(N               'attention_mask[0][0]']         \n",
      "                                one, 50, 768),                                                    \n",
      "                                 hidden_states=((No                                               \n",
      "                                ne, 50, 768),                                                     \n",
      "                                 (None, 50, 768),                                                 \n",
      "                                 (None, 50, 768),                                                 \n",
      "                                 (None, 50, 768),                                                 \n",
      "                                 (None, 50, 768),                                                 \n",
      "                                 (None, 50, 768),                                                 \n",
      "                                 (None, 50, 768)),                                                \n",
      "                                 attentions=None)                                                 \n",
      "                                                                                                  \n",
      " bert_pooling_layer (BertPoolin  (None, 768)         0           ['tf_distil_bert_model[0][0]',   \n",
      " gLayer)                                                          'tf_distil_bert_model[0][1]',   \n",
      "                                                                  'tf_distil_bert_model[0][2]',   \n",
      "                                                                  'tf_distil_bert_model[0][3]',   \n",
      "                                                                  'tf_distil_bert_model[0][4]',   \n",
      "                                                                  'tf_distil_bert_model[0][5]',   \n",
      "                                                                  'tf_distil_bert_model[0][6]',   \n",
      "                                                                  'tf_distil_bert_model[0][7]']   \n",
      "                                                                                                  \n",
      " dropout_19 (Dropout)           (None, 768)          0           ['bert_pooling_layer[0][0]']     \n",
      "                                                                                                  \n",
      " dense (Dense)                  (None, 64)           49216       ['dropout_19[0][0]']             \n",
      "                                                                                                  \n",
      " batch_normalization (BatchNorm  (None, 64)          256         ['dense[0][0]']                  \n",
      " alization)                                                                                       \n",
      "                                                                                                  \n",
      " dense_1 (Dense)                (None, 64)           4160        ['batch_normalization[0][0]']    \n",
      "                                                                                                  \n",
      " batch_normalization_1 (BatchNo  (None, 64)          256         ['dense_1[0][0]']                \n",
      " rmalization)                                                                                     \n",
      "                                                                                                  \n",
      " dense_2 (Dense)                (None, 5)            325         ['batch_normalization_1[0][0]']  \n",
      "                                                                                                  \n",
      "==================================================================================================\n",
      "Total params: 66,417,093\n",
      "Trainable params: 66,416,837\n",
      "Non-trainable params: 256\n",
      "__________________________________________________________________________________________________\n",
      "Creating new experiment summarization for TransformerTest/0!\n",
      "Running setup of directory for experiment TransformerTest/0\n",
      "Compiling model\n",
      "Fitting model\n",
      "6/6 [==============================] - 24s 3s/step - loss: 2.2089 - accuracy: 0.2521 - val_loss: 2.3497 - val_accuracy: 0.2188 - time: 23.4665\n",
      "Loading best weights to model\n",
      "Loading from /home/usp/pro0255/diploma/experiment_results/TransformerTest/0/weights.best.hdf5\n",
      "Predicting test dataset\n",
      "Evaluating results\n",
      "Mapping timer\n",
      "End of maping timer\n",
      "Saving\n",
      "Saving results\n",
      "Saving decription of experiment\n",
      "End of experiment\n",
      "Ended one experiment \n",
      "\n",
      "BatchSize=64Epochs=1LearningRate=5e-05Metric=SparseCategoricalAccuracy(name=accuracy,dtype=float32)Loss=<keras.losses.SparseCategoricalCrossentropy object at 0x7f9277c11b80>Optimizer=<keras.optimizer_v2.adam.Adam object at 0x7f9274393ee0> False TransformerPoolingStrategySelection.LastLayerCLS TransformerName.DistilBertBaseUncased 50\n",
      "Tokenizer with max len = 50\n",
      "Creating model with name=distilbert-base-uncased\n",
      "Model: \"TransformerDenseHead\"\n",
      "__________________________________________________________________________________________________\n",
      " Layer (type)                   Output Shape         Param #     Connected to                     \n",
      "==================================================================================================\n",
      " input_ids (InputLayer)         [(None, 50)]         0           []                               \n",
      "                                                                                                  \n",
      " attention_mask (InputLayer)    [(None, 50)]         0           []                               \n",
      "                                                                                                  \n",
      " tf_distil_bert_model_1 (TFDist  TFBaseModelOutput(l  66362880   ['input_ids[0][0]',              \n",
      " ilBertModel)                   ast_hidden_state=(N               'attention_mask[0][0]']         \n",
      "                                one, 50, 768),                                                    \n",
      "                                 hidden_states=((No                                               \n",
      "                                ne, 50, 768),                                                     \n",
      "                                 (None, 50, 768),                                                 \n",
      "                                 (None, 50, 768),                                                 \n",
      "                                 (None, 50, 768),                                                 \n",
      "                                 (None, 50, 768),                                                 \n",
      "                                 (None, 50, 768),                                                 \n"
     ]
    },
    {
     "name": "stdout",
     "output_type": "stream",
     "text": [
      "                                 (None, 50, 768)),                                                \n",
      "                                 attentions=None)                                                 \n",
      "                                                                                                  \n",
      " bert_pooling_layer_1 (BertPool  (None, 768)         0           ['tf_distil_bert_model_1[0][0]', \n",
      " ingLayer)                                                        'tf_distil_bert_model_1[0][1]', \n",
      "                                                                  'tf_distil_bert_model_1[0][2]', \n",
      "                                                                  'tf_distil_bert_model_1[0][3]', \n",
      "                                                                  'tf_distil_bert_model_1[0][4]', \n",
      "                                                                  'tf_distil_bert_model_1[0][5]', \n",
      "                                                                  'tf_distil_bert_model_1[0][6]', \n",
      "                                                                  'tf_distil_bert_model_1[0][7]'] \n",
      "                                                                                                  \n",
      " dropout_39 (Dropout)           (None, 768)          0           ['bert_pooling_layer_1[0][0]']   \n",
      "                                                                                                  \n",
      " dense_3 (Dense)                (None, 64)           49216       ['dropout_39[0][0]']             \n",
      "                                                                                                  \n",
      " batch_normalization_2 (BatchNo  (None, 64)          256         ['dense_3[0][0]']                \n",
      " rmalization)                                                                                     \n",
      "                                                                                                  \n",
      " dense_4 (Dense)                (None, 64)           4160        ['batch_normalization_2[0][0]']  \n",
      "                                                                                                  \n",
      " batch_normalization_3 (BatchNo  (None, 64)          256         ['dense_4[0][0]']                \n",
      " rmalization)                                                                                     \n",
      "                                                                                                  \n",
      " dense_5 (Dense)                (None, 5)            325         ['batch_normalization_3[0][0]']  \n",
      "                                                                                                  \n",
      "==================================================================================================\n",
      "Total params: 66,417,093\n",
      "Trainable params: 53,957\n",
      "Non-trainable params: 66,363,136\n",
      "__________________________________________________________________________________________________\n",
      "Creating new experiment summarization for TransformerTest/1!\n",
      "Running setup of directory for experiment TransformerTest/1\n",
      "Compiling model\n",
      "Fitting model\n",
      "6/6 [==============================] - ETA: 0s - loss: 2.1537 - accuracy: 0.2282"
     ]
    }
   ],
   "source": [
    "test_runner.run_tests(tests_to_run)"
   ]
  }
 ],
 "metadata": {
  "kernelspec": {
   "display_name": "Python 3 (ipykernel)",
   "language": "python",
   "name": "python3"
  },
  "language_info": {
   "codemirror_mode": {
    "name": "ipython",
    "version": 3
   },
   "file_extension": ".py",
   "mimetype": "text/x-python",
   "name": "python",
   "nbconvert_exporter": "python",
   "pygments_lexer": "ipython3",
   "version": "3.9.7"
  }
 },
 "nbformat": 4,
 "nbformat_minor": 5
}
