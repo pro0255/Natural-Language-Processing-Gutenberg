{
 "cells": [
  {
   "cell_type": "code",
   "execution_count": 1,
   "id": "dc88c092",
   "metadata": {},
   "outputs": [
    {
     "name": "stdout",
     "output_type": "stream",
     "text": [
      "Running preperation of packages\n"
     ]
    },
    {
     "name": "stderr",
     "output_type": "stream",
     "text": [
      "[nltk_data] Downloading package punkt to\n",
      "[nltk_data]     /home/usp/pro0255/diploma/nltk_data...\n",
      "[nltk_data]   Package punkt is already up-to-date!\n",
      "[nltk_data] Downloading package wordnet to\n",
      "[nltk_data]     /home/usp/pro0255/diploma/nltk_data...\n",
      "[nltk_data]   Package wordnet is already up-to-date!\n",
      "[nltk_data] Downloading package omw-1.4 to\n",
      "[nltk_data]     /home/usp/pro0255/diploma/nltk_data...\n",
      "[nltk_data]   Package omw-1.4 is already up-to-date!\n"
     ]
    },
    {
     "data": {
      "text/plain": [
       "<_io.TextIOWrapper name='/home/usp/pro0255/diploma/jupyters/experiments/test/jupyter_log.txt' mode='a+' encoding='UTF-8'>"
      ]
     },
     "execution_count": 1,
     "metadata": {},
     "output_type": "execute_result"
    }
   ],
   "source": [
    "import os\n",
    "import sys\n",
    "\n",
    "def adding_module_path():\n",
    "    module_path = os.path.abspath(os.path.sep.join([\"..\"]*3))\n",
    "\n",
    "    if module_path not in sys.path:\n",
    "        sys.path.append(module_path)\n",
    "\n",
    "adding_module_path()\n",
    "\n",
    "from src.config.run_prep import run_prep\n",
    "from src.utils.log_juypter import add_experiment_jupyter_logger\n",
    "\n",
    "run_prep()\n",
    "add_experiment_jupyter_logger(os.getcwd())"
   ]
  },
  {
   "cell_type": "code",
   "execution_count": 2,
   "id": "2873594e",
   "metadata": {},
   "outputs": [],
   "source": [
    "from src.types.test_types import TestType"
   ]
  },
  {
   "cell_type": "code",
   "execution_count": 3,
   "id": "6816fad9",
   "metadata": {},
   "outputs": [
    {
     "data": {
      "text/plain": [
       "[<TestType.Transformer: 'Transformer'>,\n",
       " <TestType.Classic: 'Classic'>,\n",
       " <TestType.NN: 'NN'>]"
      ]
     },
     "execution_count": 3,
     "metadata": {},
     "output_type": "execute_result"
    }
   ],
   "source": [
    "list(TestType)"
   ]
  },
  {
   "cell_type": "code",
   "execution_count": null,
   "id": "7754af8d",
   "metadata": {},
   "outputs": [],
   "source": [
    "from src.experiments.experiment_scripts.test.test_runner import TestRunner"
   ]
  },
  {
   "cell_type": "code",
   "execution_count": null,
   "id": "a41376ac",
   "metadata": {},
   "outputs": [],
   "source": [
    "test_runner = TestRunner()"
   ]
  },
  {
   "cell_type": "code",
   "execution_count": null,
   "id": "81d8a982",
   "metadata": {},
   "outputs": [],
   "source": [
    "tests_to_run = list(TestType)"
   ]
  },
  {
   "cell_type": "code",
   "execution_count": null,
   "id": "b7b641ae",
   "metadata": {},
   "outputs": [],
   "source": [
    "test_runner.run_tests(tests_to_run)"
   ]
  }
 ],
 "metadata": {
  "kernelspec": {
   "display_name": "Python 3 (ipykernel)",
   "language": "python",
   "name": "python3"
  },
  "language_info": {
   "codemirror_mode": {
    "name": "ipython",
    "version": 3
   },
   "file_extension": ".py",
   "mimetype": "text/x-python",
   "name": "python",
   "nbconvert_exporter": "python",
   "pygments_lexer": "ipython3",
   "version": "3.9.7"
  }
 },
 "nbformat": 4,
 "nbformat_minor": 5
}
