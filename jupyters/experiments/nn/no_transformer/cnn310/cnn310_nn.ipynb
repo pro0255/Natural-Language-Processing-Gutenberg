{
 "cells": [
  {
   "cell_type": "code",
   "execution_count": 1,
   "id": "881c0641",
   "metadata": {},
   "outputs": [
    {
     "name": "stdout",
     "output_type": "stream",
     "text": [
      "Running preperation of packages\n"
     ]
    },
    {
     "name": "stderr",
     "output_type": "stream",
     "text": [
      "[nltk_data] Downloading package punkt to\n",
      "[nltk_data]     /home/usp/pro0255/diploma/nltk_data...\n",
      "[nltk_data]   Package punkt is already up-to-date!\n",
      "[nltk_data] Downloading package wordnet to\n",
      "[nltk_data]     /home/usp/pro0255/diploma/nltk_data...\n",
      "[nltk_data]   Package wordnet is already up-to-date!\n",
      "[nltk_data] Downloading package omw-1.4 to\n",
      "[nltk_data]     /home/usp/pro0255/diploma/nltk_data...\n",
      "[nltk_data]   Package omw-1.4 is already up-to-date!\n"
     ]
    },
    {
     "data": {
      "text/plain": [
       "<_io.TextIOWrapper name='/home/usp/pro0255/diploma/jupyters/experiments/nn/no_transformer/cnn310/jupyter_log.txt' mode='a+' encoding='UTF-8'>"
      ]
     },
     "execution_count": 1,
     "metadata": {},
     "output_type": "execute_result"
    }
   ],
   "source": [
    "import os\n",
    "import sys\n",
    "\n",
    "def adding_module_path():\n",
    "    module_path = os.path.abspath(os.path.sep.join([\"..\"]*5))\n",
    "\n",
    "    if module_path not in sys.path:\n",
    "        sys.path.append(module_path)\n",
    "\n",
    "adding_module_path()\n",
    "\n",
    "from src.config.run_prep import run_prep\n",
    "from src.utils.log_juypter import add_experiment_jupyter_logger\n",
    "\n",
    "run_prep()\n",
    "add_experiment_jupyter_logger(os.getcwd())"
   ]
  },
  {
   "cell_type": "code",
   "execution_count": 2,
   "id": "c628aacb",
   "metadata": {},
   "outputs": [],
   "source": [
    "from src.experiments.experiment_scripts.types.experiment_types import ExperimentType"
   ]
  },
  {
   "cell_type": "code",
   "execution_count": 3,
   "id": "44f650ac",
   "metadata": {},
   "outputs": [
    {
     "data": {
      "text/plain": [
       "[<ExperimentType.TrainableTransformer: 'Learning'>,\n",
       " <ExperimentType.PoolingStrategyTransformer: 'PoolingStrategyTransformer'>,\n",
       " <ExperimentType.OutputSequenceLengthTransformer: 'OutputSequenceLength'>,\n",
       " <ExperimentType.LearningRateTransformer: 'LearningRateTransformer'>,\n",
       " <ExperimentType.LabelSizeTransformer: 'LabelSizeLabelSizeTransformer'>,\n",
       " <ExperimentType.PreprocessingType: 'PreprocessingType'>,\n",
       " <ExperimentType.TransformerType: 'TransformerType'>,\n",
       " <ExperimentType.PreprocessingTransformer: 'PreprocessingTransformer'>,\n",
       " <ExperimentType.Transformer310Combinations: 'Transformer310Combinations'>,\n",
       " <ExperimentType.Transformer5SentencesCombinations: 'Transformer5SentencesCombinations'>,\n",
       " <ExperimentType.EmbeddingSizeModelingNN: 'EmbeddingSizeModelingNN'>,\n",
       " <ExperimentType.NumberOfAuthorsNN: 'NumberOfAuthorsNN'>,\n",
       " <ExperimentType.NumberOfSentencesNN: 'NumberOfSentencesNN'>,\n",
       " <ExperimentType.NN310Combinations: 'NN310Combinations'>,\n",
       " <ExperimentType.NN5SentencesCombinations: 'NN5SentencesCombinations'>,\n",
       " <ExperimentType.NNCNN5SentencesCombinations: 'NNCNN5SentencesCombinations'>,\n",
       " <ExperimentType.NNCNN310SentencesCombinations: 'NNCNN310SentencesCombinations'>,\n",
       " <ExperimentType.EmbeddingSizeNN: 'EmbeddingSizeNN'>,\n",
       " <ExperimentType.Classic: 'Classic'>,\n",
       " <ExperimentType.ClassicLogisticRegressionLabelSize: 'ClassicLogisticRegressionLabelSize'>,\n",
       " <ExperimentType.ClassicLogisticRegressionPreprocessing: 'ClassicLogisticRegressionPreprocessing'>,\n",
       " <ExperimentType.Classic310Combinations: 'Classic310Combinations'>,\n",
       " <ExperimentType.Classic5SentencesCombinations: 'Classic5SentencesCombinations'>,\n",
       " <ExperimentType.TransformerTest: 'TransformerTest'>,\n",
       " <ExperimentType.NNTest: 'NNTest'>,\n",
       " <ExperimentType.ClassicTest: 'ClassicTest'>]"
      ]
     },
     "execution_count": 3,
     "metadata": {},
     "output_type": "execute_result"
    }
   ],
   "source": [
    "list(ExperimentType)"
   ]
  },
  {
   "cell_type": "code",
   "execution_count": 4,
   "id": "36c4565c",
   "metadata": {},
   "outputs": [
    {
     "name": "stderr",
     "output_type": "stream",
     "text": [
      "2022-04-21 02:27:30.450387: W tensorflow/stream_executor/platform/default/dso_loader.cc:64] Could not load dynamic library 'libcudnn.so.8'; dlerror: libcudnn.so.8: cannot open shared object file: No such file or directory\n"
     ]
    }
   ],
   "source": [
    "from src.experiments.experiment_scripts.experiment_configurations.config import experiment_config"
   ]
  },
  {
   "cell_type": "code",
   "execution_count": 5,
   "id": "3800109d",
   "metadata": {},
   "outputs": [],
   "source": [
    "from src.experiments.experiment_scripts.neural_nets.no_transformer.neural_net_runner import NNRunner"
   ]
  },
  {
   "cell_type": "code",
   "execution_count": 6,
   "id": "e3edad38",
   "metadata": {},
   "outputs": [
    {
     "name": "stdout",
     "output_type": "stream",
     "text": [
      "[10]\n",
      "Loading embeddding\n",
      "Already loaded model=word2vec-google-news-300\n",
      "Embedding dictionaries loaded..\n",
      "Loaded configuration [<ExperimentGeneratorPart.DatasetGenerator: 'DatasetGenerator'>, <ExperimentGeneratorPart.ExperimentConfiguration: 'ExperimentConfiguration'>, <ExperimentGeneratorPart.ExperimentArchitecture: 'ExperimentArchitecture'>]\n"
     ]
    }
   ],
   "source": [
    "experiment = NNRunner(experiment_type=ExperimentType.NNCNN310SentencesCombinations, config_dict=experiment_config)"
   ]
  },
  {
   "cell_type": "code",
   "execution_count": null,
   "id": "17d901b3",
   "metadata": {},
   "outputs": [
    {
     "name": "stdout",
     "output_type": "stream",
     "text": [
      "Loading dataset from=/home/usp/pro0255/diploma/data/gutenberg/5Authors/Sentence3/data.csv\n",
      "Creating shorting method with min = 3\n",
      "Creating lemma method with instance <WordNetLemmatizer>\n",
      "Specified type CaseInterpunction\n"
     ]
    }
   ],
   "source": [
    "experiment.run()"
   ]
  }
 ],
 "metadata": {
  "kernelspec": {
   "display_name": "Python 3 (ipykernel)",
   "language": "python",
   "name": "python3"
  },
  "language_info": {
   "codemirror_mode": {
    "name": "ipython",
    "version": 3
   },
   "file_extension": ".py",
   "mimetype": "text/x-python",
   "name": "python",
   "nbconvert_exporter": "python",
   "pygments_lexer": "ipython3",
   "version": "3.9.7"
  }
 },
 "nbformat": 4,
 "nbformat_minor": 5
}
