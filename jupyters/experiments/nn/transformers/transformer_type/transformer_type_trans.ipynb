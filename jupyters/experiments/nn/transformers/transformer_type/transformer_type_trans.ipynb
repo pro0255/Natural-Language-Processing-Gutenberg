{
 "cells": [
  {
   "cell_type": "code",
   "execution_count": 1,
   "id": "5e3647e5",
   "metadata": {},
   "outputs": [
    {
     "name": "stdout",
     "output_type": "stream",
     "text": [
      "Running preperation of packages\n"
     ]
    },
    {
     "name": "stderr",
     "output_type": "stream",
     "text": [
      "[nltk_data] Downloading package punkt to\n",
      "[nltk_data]     /home/usp/pro0255/diploma/nltk_data...\n",
      "[nltk_data]   Package punkt is already up-to-date!\n",
      "[nltk_data] Downloading package wordnet to\n",
      "[nltk_data]     /home/usp/pro0255/diploma/nltk_data...\n",
      "[nltk_data]   Package wordnet is already up-to-date!\n",
      "[nltk_data] Downloading package omw-1.4 to\n",
      "[nltk_data]     /home/usp/pro0255/diploma/nltk_data...\n",
      "[nltk_data]   Package omw-1.4 is already up-to-date!\n"
     ]
    },
    {
     "data": {
      "text/plain": [
       "<_io.TextIOWrapper name='/home/usp/pro0255/diploma/jupyters/experiments/nn/transformers/transformer_type/jupyter_log.txt' mode='a+' encoding='UTF-8'>"
      ]
     },
     "execution_count": 1,
     "metadata": {},
     "output_type": "execute_result"
    }
   ],
   "source": [
    "import os\n",
    "import sys\n",
    "\n",
    "def adding_module_path():\n",
    "    module_path = os.path.abspath(os.path.sep.join([\"..\"]*5))\n",
    "\n",
    "    if module_path not in sys.path:\n",
    "        sys.path.append(module_path)\n",
    "\n",
    "adding_module_path()\n",
    "\n",
    "from src.config.run_prep import run_prep\n",
    "from src.utils.log_juypter import add_experiment_jupyter_logger\n",
    "\n",
    "run_prep()\n",
    "add_experiment_jupyter_logger(os.getcwd())"
   ]
  },
  {
   "cell_type": "markdown",
   "id": "dac818da",
   "metadata": {},
   "source": [
    "### Import of ExperimentTypes"
   ]
  },
  {
   "cell_type": "code",
   "execution_count": 2,
   "id": "0f0399ce",
   "metadata": {},
   "outputs": [],
   "source": [
    "from src.experiments.experiment_scripts.types.experiment_types import ExperimentType"
   ]
  },
  {
   "cell_type": "markdown",
   "id": "2ad43523",
   "metadata": {},
   "source": [
    "#### All experiments can be shown"
   ]
  },
  {
   "cell_type": "code",
   "execution_count": 3,
   "id": "b478b3c7",
   "metadata": {},
   "outputs": [
    {
     "data": {
      "text/plain": [
       "[<ExperimentType.TrainableTransformer: 'Learning'>,\n",
       " <ExperimentType.PoolingStrategyTransformer: 'PoolingStrategyTransformer'>,\n",
       " <ExperimentType.OutputSequenceLengthTransformer: 'OutputSequenceLength'>,\n",
       " <ExperimentType.LearningRateTransformer: 'LearningRateTransformer'>,\n",
       " <ExperimentType.LabelSizeTransformer: 'LabelSizeLabelSizeTransformer'>,\n",
       " <ExperimentType.PreprocessingType: 'PreprocessingType'>,\n",
       " <ExperimentType.TransformerType: 'TransformerType'>,\n",
       " <ExperimentType.PreprocessingTransformer: 'PreprocessingTransformer'>,\n",
       " <ExperimentType.NumberOfAuthorsNN: 'NumberOfAuthorsNN'>,\n",
       " <ExperimentType.NumberOfSentencesNN: 'NumberOfSentencesNN'>,\n",
       " <ExperimentType.EmbeddingSizeNN: 'EmbeddingSizeNN'>,\n",
       " <ExperimentType.Classic: 'Classic'>,\n",
       " <ExperimentType.ClassicLogisticRegressionLabelSize: 'ClassicLogisticRegressionLabelSize'>,\n",
       " <ExperimentType.ClassicLogisticRegressionPreprocessing: 'ClassicLogisticRegressionPreprocessing'>,\n",
       " <ExperimentType.TransformerTest: 'TransformerTest'>,\n",
       " <ExperimentType.NNTest: 'NNTest'>,\n",
       " <ExperimentType.ClassicTest: 'ClassicTest'>]"
      ]
     },
     "execution_count": 3,
     "metadata": {},
     "output_type": "execute_result"
    }
   ],
   "source": [
    "list(ExperimentType)"
   ]
  },
  {
   "cell_type": "markdown",
   "id": "5291a973",
   "metadata": {},
   "source": [
    "### Import of dictionary object with specified configurations"
   ]
  },
  {
   "cell_type": "code",
   "execution_count": 4,
   "id": "a13aab48",
   "metadata": {},
   "outputs": [
    {
     "name": "stderr",
     "output_type": "stream",
     "text": [
      "2022-04-14 14:57:41.612951: W tensorflow/stream_executor/platform/default/dso_loader.cc:64] Could not load dynamic library 'libcudnn.so.8'; dlerror: libcudnn.so.8: cannot open shared object file: No such file or directory\n"
     ]
    }
   ],
   "source": [
    "from src.experiments.experiment_scripts.experiment_configurations.config import experiment_config"
   ]
  },
  {
   "cell_type": "markdown",
   "id": "2926df19",
   "metadata": {},
   "source": [
    "### Import runner for experiment - should be imported correct Runner!\n",
    "\n",
    "- TransformerRunner.\n",
    "- ClassicRunner.\n",
    "- NNRunner.\n",
    "- TestRunner.\n",
    "\n",
    "After import of runner properties of object should be specified correctly in object constructor."
   ]
  },
  {
   "cell_type": "code",
   "execution_count": 5,
   "id": "e946834c",
   "metadata": {},
   "outputs": [],
   "source": [
    "from src.experiments.experiment_scripts.neural_nets.transformers.transformer_runner import TransformerRunner"
   ]
  },
  {
   "cell_type": "code",
   "execution_count": 6,
   "id": "1b044331",
   "metadata": {},
   "outputs": [],
   "source": [
    "# experiment = TransformerRunner(\n",
    "#     experiment_type=None,\n",
    "#     save_best=None,\n",
    "#     save_model=None,\n",
    "#     config_dict={}\n",
    "# )"
   ]
  },
  {
   "cell_type": "markdown",
   "id": "993d9620",
   "metadata": {},
   "source": [
    "#### Test"
   ]
  },
  {
   "cell_type": "code",
   "execution_count": 7,
   "id": "6b14bd4b",
   "metadata": {
    "scrolled": true
   },
   "outputs": [
    {
     "name": "stdout",
     "output_type": "stream",
     "text": [
      "[5]\n",
      "Loaded configuration [<ExperimentGeneratorPart.DatasetGenerator: 'DatasetGenerator'>, <ExperimentGeneratorPart.ExperimentConfiguration: 'ExperimentConfiguration'>]\n"
     ]
    }
   ],
   "source": [
    "experiment = TransformerRunner(\n",
    "    experiment_type=ExperimentType.TransformerType,\n",
    "    config_dict=experiment_config\n",
    ")"
   ]
  },
  {
   "cell_type": "code",
   "execution_count": null,
   "id": "b6a4b56b",
   "metadata": {},
   "outputs": [
    {
     "name": "stdout",
     "output_type": "stream",
     "text": [
      "Loading dataset from=/home/usp/pro0255/diploma/data/gutenberg/5Authors/Sentence3/data.csv\n",
      "Creating shorting method with min = 3\n",
      "Creating lemma method with instance <WordNetLemmatizer>\n",
      "Specified type CaseInterpunction\n",
      "Train (54187,)\n",
      "Valid (9563,)\n",
      "Test (11250,)\n",
      "\n",
      "Loaded dataset!\n",
      "Running experiment pre=PreprocessingType.CaseInterpunction, norm_size=15000, authors=5, sentences=3\n",
      "BatchSize=64Epochs=5LearningRate=2e-05Metric=SparseCategoricalAccuracy(name=accuracy,dtype=float32)Loss=<keras.losses.SparseCategoricalCrossentropy object at 0x7f9c44b898b0>Optimizer=<keras.optimizer_v2.adam.Adam object at 0x7f9d80403640> True TransformerPoolingStrategySelection.LastLayerCLS TransformerName.ElectraBase 130\n",
      "Tokenizer with max len = 130\n",
      "Model: \"TransformerDenseHead\"\n",
      "__________________________________________________________________________________________________\n",
      " Layer (type)                   Output Shape         Param #     Connected to                     \n",
      "==================================================================================================\n",
      " input_ids (InputLayer)         [(None, 130)]        0           []                               \n",
      "                                                                                                  \n",
      " attention_mask (InputLayer)    [(None, 130)]        0           []                               \n",
      "                                                                                                  \n",
      " tf_electra_model (TFElectraMod  TFBaseModelOutputWi  108891648  ['input_ids[0][0]',              \n",
      " el)                            thPastAndCrossAtten               'attention_mask[0][0]']         \n",
      "                                tions(last_hidden_s                                               \n",
      "                                tate=(None, 130, 76                                               \n",
      "                                8),                                                               \n",
      "                                 past_key_values=No                                               \n",
      "                                ne, hidden_states=(                                               \n",
      "                                (None, 130, 768),                                                 \n",
      "                                 (None, 130, 768),                                                \n",
      "                                 (None, 130, 768),                                                \n",
      "                                 (None, 130, 768),                                                \n",
      "                                 (None, 130, 768),                                                \n",
      "                                 (None, 130, 768),                                                \n",
      "                                 (None, 130, 768),                                                \n",
      "                                 (None, 130, 768),                                                \n",
      "                                 (None, 130, 768),                                                \n",
      "                                 (None, 130, 768),                                                \n",
      "                                 (None, 130, 768),                                                \n",
      "                                 (None, 130, 768),                                                \n",
      "                                 (None, 130, 768)),                                               \n",
      "                                 attentions=None, c                                               \n",
      "                                ross_attentions=Non                                               \n",
      "                                e)                                                                \n",
      "                                                                                                  \n",
      " bert_pooling_layer (BertPoolin  (None, 768)         0           ['tf_electra_model[0][0]',       \n",
      " gLayer)                                                          'tf_electra_model[0][1]',       \n",
      "                                                                  'tf_electra_model[0][2]',       \n",
      "                                                                  'tf_electra_model[0][3]',       \n",
      "                                                                  'tf_electra_model[0][4]',       \n",
      "                                                                  'tf_electra_model[0][5]',       \n",
      "                                                                  'tf_electra_model[0][6]',       \n",
      "                                                                  'tf_electra_model[0][7]',       \n",
      "                                                                  'tf_electra_model[0][8]',       \n",
      "                                                                  'tf_electra_model[0][9]',       \n",
      "                                                                  'tf_electra_model[0][10]',      \n",
      "                                                                  'tf_electra_model[0][11]',      \n",
      "                                                                  'tf_electra_model[0][12]',      \n",
      "                                                                  'tf_electra_model[0][13]']      \n",
      "                                                                                                  \n",
      " dropout_37 (Dropout)           (None, 768)          0           ['bert_pooling_layer[0][0]']     \n",
      "                                                                                                  \n",
      " dense (Dense)                  (None, 64)           49216       ['dropout_37[0][0]']             \n",
      "                                                                                                  \n",
      " batch_normalization (BatchNorm  (None, 64)          256         ['dense[0][0]']                  \n",
      " alization)                                                                                       \n",
      "                                                                                                  \n",
      " dense_1 (Dense)                (None, 64)           4160        ['batch_normalization[0][0]']    \n",
      "                                                                                                  \n",
      " batch_normalization_1 (BatchNo  (None, 64)          256         ['dense_1[0][0]']                \n",
      " rmalization)                                                                                     \n",
      "                                                                                                  \n",
      " dense_2 (Dense)                (None, 5)            325         ['batch_normalization_1[0][0]']  \n",
      "                                                                                                  \n",
      "==================================================================================================\n",
      "Total params: 108,945,861\n",
      "Trainable params: 108,945,605\n",
      "Non-trainable params: 256\n",
      "__________________________________________________________________________________________________\n",
      "Creating new experiment summarization for TransformerType/3!\n",
      "Running setup of directory for experiment TransformerType/3\n",
      "Compiling model\n",
      "Fitting model\n",
      "Epoch 1/5\n",
      "508/847 [================>.............] - ETA: 2:15:32 - loss: 1.5849 - accuracy: 0.3896"
     ]
    }
   ],
   "source": [
    "experiment.run()"
   ]
  },
  {
   "cell_type": "code",
   "execution_count": null,
   "id": "9e2037ad",
   "metadata": {},
   "outputs": [],
   "source": []
  }
 ],
 "metadata": {
  "kernelspec": {
   "display_name": "Python 3 (ipykernel)",
   "language": "python",
   "name": "python3"
  },
  "language_info": {
   "codemirror_mode": {
    "name": "ipython",
    "version": 3
   },
   "file_extension": ".py",
   "mimetype": "text/x-python",
   "name": "python",
   "nbconvert_exporter": "python",
   "pygments_lexer": "ipython3",
   "version": "3.9.7"
  }
 },
 "nbformat": 4,
 "nbformat_minor": 5
}
