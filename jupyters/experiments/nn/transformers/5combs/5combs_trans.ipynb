{
 "cells": [
  {
   "cell_type": "code",
   "execution_count": 3,
   "id": "5e3647e5",
   "metadata": {},
   "outputs": [
    {
     "name": "stdout",
     "output_type": "stream",
     "text": [
      "Running preperation of packages\n"
     ]
    },
    {
     "name": "stderr",
     "output_type": "stream",
     "text": [
      "[nltk_data] Downloading package punkt to\n",
      "[nltk_data]     /home/usp/pro0255/diploma/nltk_data...\n",
      "[nltk_data]   Package punkt is already up-to-date!\n",
      "[nltk_data] Downloading package wordnet to\n",
      "[nltk_data]     /home/usp/pro0255/diploma/nltk_data...\n",
      "[nltk_data]   Package wordnet is already up-to-date!\n",
      "[nltk_data] Downloading package omw-1.4 to\n",
      "[nltk_data]     /home/usp/pro0255/diploma/nltk_data...\n",
      "[nltk_data]   Package omw-1.4 is already up-to-date!\n"
     ]
    },
    {
     "data": {
      "text/plain": [
       "<_io.TextIOWrapper name='/home/usp/pro0255/diploma/jupyters/experiments/nn/transformers/5combs/jupyter_log.txt' mode='a+' encoding='UTF-8'>"
      ]
     },
     "execution_count": 3,
     "metadata": {},
     "output_type": "execute_result"
    }
   ],
   "source": [
    "import os\n",
    "import sys\n",
    "\n",
    "def adding_module_path():\n",
    "    module_path = os.path.abspath(os.path.sep.join([\"..\"]*5))\n",
    "\n",
    "    if module_path not in sys.path:\n",
    "        sys.path.append(module_path)\n",
    "\n",
    "adding_module_path()\n",
    "\n",
    "from src.config.run_prep import run_prep\n",
    "from src.utils.log_juypter import add_experiment_jupyter_logger\n",
    "\n",
    "run_prep()\n",
    "add_experiment_jupyter_logger(os.getcwd())"
   ]
  },
  {
   "cell_type": "markdown",
   "id": "dac818da",
   "metadata": {},
   "source": [
    "### Import of ExperimentTypes"
   ]
  },
  {
   "cell_type": "code",
   "execution_count": 4,
   "id": "0f0399ce",
   "metadata": {},
   "outputs": [],
   "source": [
    "from src.experiments.experiment_scripts.types.experiment_types import ExperimentType"
   ]
  },
  {
   "cell_type": "markdown",
   "id": "2ad43523",
   "metadata": {},
   "source": [
    "#### All experiments can be shown"
   ]
  },
  {
   "cell_type": "code",
   "execution_count": 5,
   "id": "b478b3c7",
   "metadata": {},
   "outputs": [
    {
     "data": {
      "text/plain": [
       "[<ExperimentType.TrainableTransformer: 'Learning'>,\n",
       " <ExperimentType.PoolingStrategyTransformer: 'PoolingStrategyTransformer'>,\n",
       " <ExperimentType.OutputSequenceLengthTransformer: 'OutputSequenceLength'>,\n",
       " <ExperimentType.LearningRateTransformer: 'LearningRateTransformer'>,\n",
       " <ExperimentType.LabelSizeTransformer: 'LabelSizeLabelSizeTransformer'>,\n",
       " <ExperimentType.PreprocessingType: 'PreprocessingType'>,\n",
       " <ExperimentType.TransformerType: 'TransformerType'>,\n",
       " <ExperimentType.PreprocessingTransformer: 'PreprocessingTransformer'>,\n",
       " <ExperimentType.Transformer310Combinations: 'Transformer310Combinations'>,\n",
       " <ExperimentType.Transformer5SentencesCombinations: 'Transformer5SentencesCombinations'>,\n",
       " <ExperimentType.NumberOfAuthorsNN: 'NumberOfAuthorsNN'>,\n",
       " <ExperimentType.NumberOfSentencesNN: 'NumberOfSentencesNN'>,\n",
       " <ExperimentType.NN310Combinations: 'NN310Combinations'>,\n",
       " <ExperimentType.NN5SentencesCombinations: 'NN5SentencesCombinations'>,\n",
       " <ExperimentType.EmbeddingSizeNN: 'EmbeddingSizeNN'>,\n",
       " <ExperimentType.Classic: 'Classic'>,\n",
       " <ExperimentType.ClassicLogisticRegressionLabelSize: 'ClassicLogisticRegressionLabelSize'>,\n",
       " <ExperimentType.ClassicLogisticRegressionPreprocessing: 'ClassicLogisticRegressionPreprocessing'>,\n",
       " <ExperimentType.Classic310Combinations: 'Classic310Combinations'>,\n",
       " <ExperimentType.Classic5SentencesCombinations: 'Classic5SentencesCombinations'>,\n",
       " <ExperimentType.TransformerTest: 'TransformerTest'>,\n",
       " <ExperimentType.NNTest: 'NNTest'>,\n",
       " <ExperimentType.ClassicTest: 'ClassicTest'>]"
      ]
     },
     "execution_count": 5,
     "metadata": {},
     "output_type": "execute_result"
    }
   ],
   "source": [
    "list(ExperimentType)"
   ]
  },
  {
   "cell_type": "markdown",
   "id": "5291a973",
   "metadata": {},
   "source": [
    "### Import of dictionary object with specified configurations"
   ]
  },
  {
   "cell_type": "code",
   "execution_count": 6,
   "id": "a13aab48",
   "metadata": {},
   "outputs": [
    {
     "name": "stderr",
     "output_type": "stream",
     "text": [
      "2022-04-18 22:23:00.362703: W tensorflow/stream_executor/platform/default/dso_loader.cc:64] Could not load dynamic library 'libcudnn.so.8'; dlerror: libcudnn.so.8: cannot open shared object file: No such file or directory\n",
      "2022-04-18 22:23:00.362732: W tensorflow/core/common_runtime/gpu/gpu_device.cc:1850] Cannot dlopen some GPU libraries. Please make sure the missing libraries mentioned above are installed properly if you would like to use GPU. Follow the guide at https://www.tensorflow.org/install/gpu for how to download and setup the required libraries for your platform.\n",
      "Skipping registering GPU devices...\n"
     ]
    }
   ],
   "source": [
    "from src.experiments.experiment_scripts.experiment_configurations.config import experiment_config"
   ]
  },
  {
   "cell_type": "markdown",
   "id": "2926df19",
   "metadata": {},
   "source": [
    "### Import runner for experiment - should be imported correct Runner!\n",
    "\n",
    "- TransformerRunner.\n",
    "- ClassicRunner.\n",
    "- NNRunner.\n",
    "- TestRunner.\n",
    "\n",
    "After import of runner properties of object should be specified correctly in object constructor."
   ]
  },
  {
   "cell_type": "code",
   "execution_count": 7,
   "id": "e946834c",
   "metadata": {},
   "outputs": [],
   "source": [
    "from src.experiments.experiment_scripts.neural_nets.transformers.transformer_runner import TransformerRunner"
   ]
  },
  {
   "cell_type": "code",
   "execution_count": 8,
   "id": "1b044331",
   "metadata": {},
   "outputs": [],
   "source": [
    "# experiment = TransformerRunner(\n",
    "#     experiment_type=None,\n",
    "#     save_best=None,\n",
    "#     save_model=None,\n",
    "#     config_dict={}\n",
    "# )"
   ]
  },
  {
   "cell_type": "markdown",
   "id": "993d9620",
   "metadata": {},
   "source": [
    "#### Test"
   ]
  },
  {
   "cell_type": "code",
   "execution_count": 9,
   "id": "6b14bd4b",
   "metadata": {
    "scrolled": true
   },
   "outputs": [
    {
     "name": "stdout",
     "output_type": "stream",
     "text": [
      "[5]\n",
      "Loaded configuration [<ExperimentGeneratorPart.DatasetGenerator: 'DatasetGenerator'>, <ExperimentGeneratorPart.ExperimentConfiguration: 'ExperimentConfiguration'>]\n"
     ]
    }
   ],
   "source": [
    "experiment = TransformerRunner(\n",
    "    experiment_type=ExperimentType.Transformer5SentencesCombinations,\n",
    "    config_dict=experiment_config\n",
    ")"
   ]
  },
  {
   "cell_type": "code",
   "execution_count": null,
   "id": "b6a4b56b",
   "metadata": {},
   "outputs": [
    {
     "name": "stdout",
     "output_type": "stream",
     "text": [
      "Loading dataset from=/home/usp/pro0255/diploma/data/gutenberg/5Authors/Sentence1/data.csv\n",
      "Creating shorting method with min = 3\n",
      "Creating lemma method with instance <WordNetLemmatizer>\n",
      "Specified type CaseInterpunction\n",
      "Train (162562,)\n",
      "Valid (28688,)\n",
      "Test (33750,)\n",
      "\n",
      "Loaded dataset!\n",
      "Running experiment pre=PreprocessingType.CaseInterpunction, norm_size=LOOKUP_KEY, authors=5, sentences=1\n",
      "BatchSize=64Epochs=5LearningRate=5e-05Metric=SparseCategoricalAccuracy(name=accuracy,dtype=float32)Loss=<keras.losses.SparseCategoricalCrossentropy object at 0x7f2cebf816a0>Optimizer=<keras.optimizer_v2.adam.Adam object at 0x7f2a2e77d940> True TransformerPoolingStrategySelection.LastLayerCLS TransformerName.DistilBertBaseUncased 30\n",
      "Tokenizer with max len = 30\n",
      "Creating model with name=distilbert-base-uncased\n",
      "Model: \"TransformerDenseHead\"\n",
      "__________________________________________________________________________________________________\n",
      " Layer (type)                   Output Shape         Param #     Connected to                     \n",
      "==================================================================================================\n",
      " input_ids (InputLayer)         [(None, 30)]         0           []                               \n",
      "                                                                                                  \n",
      " attention_mask (InputLayer)    [(None, 30)]         0           []                               \n",
      "                                                                                                  \n",
      " tf_distil_bert_model (TFDistil  TFBaseModelOutput(l  66362880   ['input_ids[0][0]',              \n",
      " BertModel)                     ast_hidden_state=(N               'attention_mask[0][0]']         \n",
      "                                one, 30, 768),                                                    \n",
      "                                 hidden_states=((No                                               \n",
      "                                ne, 30, 768),                                                     \n",
      "                                 (None, 30, 768),                                                 \n",
      "                                 (None, 30, 768),                                                 \n",
      "                                 (None, 30, 768),                                                 \n",
      "                                 (None, 30, 768),                                                 \n",
      "                                 (None, 30, 768),                                                 \n",
      "                                 (None, 30, 768)),                                                \n",
      "                                 attentions=None)                                                 \n",
      "                                                                                                  \n",
      " bert_pooling_layer (BertPoolin  (None, 768)         0           ['tf_distil_bert_model[0][0]',   \n",
      " gLayer)                                                          'tf_distil_bert_model[0][1]',   \n",
      "                                                                  'tf_distil_bert_model[0][2]',   \n",
      "                                                                  'tf_distil_bert_model[0][3]',   \n",
      "                                                                  'tf_distil_bert_model[0][4]',   \n",
      "                                                                  'tf_distil_bert_model[0][5]',   \n",
      "                                                                  'tf_distil_bert_model[0][6]',   \n",
      "                                                                  'tf_distil_bert_model[0][7]']   \n",
      "                                                                                                  \n",
      " dropout_19 (Dropout)           (None, 768)          0           ['bert_pooling_layer[0][0]']     \n",
      "                                                                                                  \n",
      " dense (Dense)                  (None, 64)           49216       ['dropout_19[0][0]']             \n",
      "                                                                                                  \n",
      " batch_normalization (BatchNorm  (None, 64)          256         ['dense[0][0]']                  \n",
      " alization)                                                                                       \n",
      "                                                                                                  \n",
      " dense_1 (Dense)                (None, 64)           4160        ['batch_normalization[0][0]']    \n",
      "                                                                                                  \n",
      " batch_normalization_1 (BatchNo  (None, 64)          256         ['dense_1[0][0]']                \n",
      " rmalization)                                                                                     \n",
      "                                                                                                  \n",
      " dense_2 (Dense)                (None, 5)            325         ['batch_normalization_1[0][0]']  \n",
      "                                                                                                  \n",
      "==================================================================================================\n",
      "Total params: 66,417,093\n",
      "Trainable params: 66,416,837\n",
      "Non-trainable params: 256\n",
      "__________________________________________________________________________________________________\n",
      "Creating new experiment summarization for Transformer5SentencesCombinations/1!\n",
      "Running setup of directory for experiment Transformer5SentencesCombinations/1\n",
      "Compiling model\n",
      "Fitting model\n",
      "Epoch 1/5\n",
      "2541/2541 [==============================] - 4750s 2s/step - loss: 1.1732 - accuracy: 0.5347 - val_loss: 1.0249 - val_accuracy: 0.6125 - time: 4749.0947\n",
      "Epoch 2/5\n",
      "1289/2541 [==============>...............] - ETA: 32:43 - loss: 0.8662 - accuracy: 0.6735"
     ]
    }
   ],
   "source": [
    "experiment.run()"
   ]
  },
  {
   "cell_type": "code",
   "execution_count": null,
   "id": "c380a6de",
   "metadata": {},
   "outputs": [],
   "source": []
  }
 ],
 "metadata": {
  "kernelspec": {
   "display_name": "Python 3 (ipykernel)",
   "language": "python",
   "name": "python3"
  },
  "language_info": {
   "codemirror_mode": {
    "name": "ipython",
    "version": 3
   },
   "file_extension": ".py",
   "mimetype": "text/x-python",
   "name": "python",
   "nbconvert_exporter": "python",
   "pygments_lexer": "ipython3",
   "version": "3.9.7"
  }
 },
 "nbformat": 4,
 "nbformat_minor": 5
}
