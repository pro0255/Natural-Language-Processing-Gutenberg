{
 "cells": [
  {
   "cell_type": "code",
   "execution_count": 1,
   "id": "12793ea1",
   "metadata": {},
   "outputs": [
    {
     "name": "stdout",
     "output_type": "stream",
     "text": [
      "Running preperation of packages\n"
     ]
    },
    {
     "name": "stderr",
     "output_type": "stream",
     "text": [
      "[nltk_data] Downloading package punkt to\n",
      "[nltk_data]     /home/usp/pro0255/diploma/nltk_data...\n",
      "[nltk_data]   Package punkt is already up-to-date!\n",
      "[nltk_data] Downloading package wordnet to\n",
      "[nltk_data]     /home/usp/pro0255/diploma/nltk_data...\n",
      "[nltk_data]   Package wordnet is already up-to-date!\n",
      "[nltk_data] Downloading package omw-1.4 to\n",
      "[nltk_data]     /home/usp/pro0255/diploma/nltk_data...\n",
      "[nltk_data]   Package omw-1.4 is already up-to-date!\n"
     ]
    },
    {
     "data": {
      "text/plain": [
       "<_io.TextIOWrapper name='/home/usp/pro0255/diploma/jupyters/experiments/nn/pooling_strategy/jupyter_log.txt' mode='a+' encoding='UTF-8'>"
      ]
     },
     "execution_count": 1,
     "metadata": {},
     "output_type": "execute_result"
    }
   ],
   "source": [
    "import os\n",
    "import sys\n",
    "\n",
    "def adding_module_path():\n",
    "    module_path = os.path.abspath(os.path.sep.join([\"..\"]*4))\n",
    "\n",
    "    if module_path not in sys.path:\n",
    "        sys.path.append(module_path)\n",
    "\n",
    "adding_module_path()\n",
    "\n",
    "from src.config.run_prep import run_prep\n",
    "from src.utils.log_juypter import add_experiment_jupyter_logger\n",
    "\n",
    "run_prep()\n",
    "add_experiment_jupyter_logger(os.getcwd())"
   ]
  },
  {
   "cell_type": "code",
   "execution_count": 2,
   "id": "787045c6",
   "metadata": {},
   "outputs": [
    {
     "name": "stderr",
     "output_type": "stream",
     "text": [
      "2022-04-10 14:20:24.020933: W tensorflow/stream_executor/platform/default/dso_loader.cc:64] Could not load dynamic library 'libcudnn.so.8'; dlerror: libcudnn.so.8: cannot open shared object file: No such file or directory\n",
      "2022-04-10 14:20:24.020959: W tensorflow/core/common_runtime/gpu/gpu_device.cc:1850] Cannot dlopen some GPU libraries. Please make sure the missing libraries mentioned above are installed properly if you would like to use GPU. Follow the guide at https://www.tensorflow.org/install/gpu for how to download and setup the required libraries for your platform.\n",
      "Skipping registering GPU devices...\n"
     ]
    }
   ],
   "source": [
    "from src.experiments.experiment_scripts.neural_nets.transformers.experiments.pooling_strategy import TransformerPoolingStrategy"
   ]
  },
  {
   "cell_type": "code",
   "execution_count": 3,
   "id": "0ed992d7",
   "metadata": {},
   "outputs": [
    {
     "name": "stdout",
     "output_type": "stream",
     "text": [
      "Current experiment type ExperimentType.PoolingStrategyTransformer\n"
     ]
    }
   ],
   "source": [
    "experiment = TransformerPoolingStrategy()"
   ]
  },
  {
   "cell_type": "code",
   "execution_count": null,
   "id": "d4d14d37",
   "metadata": {
    "scrolled": false
   },
   "outputs": [
    {
     "name": "stdout",
     "output_type": "stream",
     "text": [
      "Loading dataset from=/home/usp/pro0255/diploma/data/gutenberg/5Authors/Sentence3/data.csv\n",
      "Creating shorting method with min = 3\n",
      "Creating lemma method with instance <WordNetLemmatizer>\n",
      "Specified type CaseInterpunction\n",
      "Train (36125,)\n",
      "Valid (6375,)\n",
      "Test (7500,)\n",
      "Model: \"model\"\n",
      "__________________________________________________________________________________________________\n",
      " Layer (type)                   Output Shape         Param #     Connected to                     \n",
      "==================================================================================================\n",
      " input_ids (InputLayer)         [(None, 130)]        0           []                               \n",
      "                                                                                                  \n",
      " attention_mask (InputLayer)    [(None, 130)]        0           []                               \n",
      "                                                                                                  \n",
      " tf_distil_bert_model (TFDistil  TFBaseModelOutput(l  66362880   ['input_ids[0][0]',              \n",
      " BertModel)                     ast_hidden_state=(N               'attention_mask[0][0]']         \n",
      "                                one, 130, 768),                                                   \n",
      "                                 hidden_states=((No                                               \n",
      "                                ne, 130, 768),                                                    \n",
      "                                 (None, 130, 768),                                                \n",
      "                                 (None, 130, 768),                                                \n",
      "                                 (None, 130, 768),                                                \n",
      "                                 (None, 130, 768),                                                \n",
      "                                 (None, 130, 768),                                                \n",
      "                                 (None, 130, 768)),                                               \n",
      "                                 attentions=None)                                                 \n",
      "                                                                                                  \n",
      " bert_pooling_layer (BertPoolin  (None, 768)         0           ['tf_distil_bert_model[0][0]',   \n",
      " gLayer)                                                          'tf_distil_bert_model[0][1]',   \n",
      "                                                                  'tf_distil_bert_model[0][2]',   \n",
      "                                                                  'tf_distil_bert_model[0][3]',   \n",
      "                                                                  'tf_distil_bert_model[0][4]',   \n",
      "                                                                  'tf_distil_bert_model[0][5]',   \n",
      "                                                                  'tf_distil_bert_model[0][6]',   \n",
      "                                                                  'tf_distil_bert_model[0][7]']   \n",
      "                                                                                                  \n",
      " dropout_19 (Dropout)           (None, 768)          0           ['bert_pooling_layer[0][0]']     \n",
      "                                                                                                  \n",
      " dense (Dense)                  (None, 64)           49216       ['dropout_19[0][0]']             \n",
      "                                                                                                  \n",
      " batch_normalization (BatchNorm  (None, 64)          256         ['dense[0][0]']                  \n",
      " alization)                                                                                       \n",
      "                                                                                                  \n",
      " dense_1 (Dense)                (None, 64)           4160        ['batch_normalization[0][0]']    \n",
      "                                                                                                  \n",
      " batch_normalization_1 (BatchNo  (None, 64)          256         ['dense_1[0][0]']                \n",
      " rmalization)                                                                                     \n",
      "                                                                                                  \n",
      " dense_2 (Dense)                (None, 5)            325         ['batch_normalization_1[0][0]']  \n",
      "                                                                                                  \n",
      "==================================================================================================\n",
      "Total params: 66,417,093\n",
      "Trainable params: 66,416,837\n",
      "Non-trainable params: 256\n",
      "__________________________________________________________________________________________________\n",
      "Creating new experiment summarization for PoolingStrategyTransformer/1!\n",
      "Running setup of directory for experiment PoolingStrategyTransformer/1\n",
      "Compiling model\n",
      "Fitting model\n",
      "Epoch 1/5\n",
      "565/565 [==============================] - 3232s 6s/step - loss: 1.2048 - accuracy: 0.5376 - val_loss: 0.7893 - val_accuracy: 0.7305 - time: 3230.7474\n",
      "Epoch 2/5\n",
      "565/565 [==============================] - 3220s 6s/step - loss: 0.4883 - accuracy: 0.8271 - val_loss: 0.6597 - val_accuracy: 0.7799 - time: 6450.6413\n",
      "Epoch 3/5\n",
      "565/565 [==============================] - 3239s 6s/step - loss: 0.2971 - accuracy: 0.9004 - val_loss: 0.6789 - val_accuracy: 0.7948 - time: 9691.0504\n",
      "Epoch 4/5\n",
      "565/565 [==============================] - 3241s 6s/step - loss: 0.2002 - accuracy: 0.9330 - val_loss: 0.6501 - val_accuracy: 0.8190 - time: 12930.4137\n",
      "Epoch 5/5\n",
      "565/565 [==============================] - 3240s 6s/step - loss: 0.1464 - accuracy: 0.9516 - val_loss: 0.6880 - val_accuracy: 0.8162 - time: 16171.8587\n",
      "Loading best weights to model\n",
      "Predicting test dataset\n",
      "Evaluating results\n",
      "Mapping timer\n",
      "End of maping timer\n",
      "Saving\n",
      "Saving results\n",
      "Saving decription of experiment\n",
      "End of experiment\n",
      "Model: \"model_1\"\n",
      "__________________________________________________________________________________________________\n",
      " Layer (type)                   Output Shape         Param #     Connected to                     \n",
      "==================================================================================================\n",
      " input_ids (InputLayer)         [(None, 130)]        0           []                               \n",
      "                                                                                                  \n",
      " attention_mask (InputLayer)    [(None, 130)]        0           []                               \n",
      "                                                                                                  \n",
      " tf_distil_bert_model_1 (TFDist  TFBaseModelOutput(l  66362880   ['input_ids[0][0]',              \n",
      " ilBertModel)                   ast_hidden_state=(N               'attention_mask[0][0]']         \n",
      "                                one, 130, 768),                                                   \n",
      "                                 hidden_states=((No                                               \n",
      "                                ne, 130, 768),                                                    \n",
      "                                 (None, 130, 768),                                                \n",
      "                                 (None, 130, 768),                                                \n",
      "                                 (None, 130, 768),                                                \n",
      "                                 (None, 130, 768),                                                \n",
      "                                 (None, 130, 768),                                                \n",
      "                                 (None, 130, 768)),                                               \n",
      "                                 attentions=None)                                                 \n",
      "                                                                                                  \n",
      " bert_pooling_layer_1 (BertPool  (None, 768)         0           ['tf_distil_bert_model_1[0][0]', \n",
      " ingLayer)                                                        'tf_distil_bert_model_1[0][1]', \n",
      "                                                                  'tf_distil_bert_model_1[0][2]', \n"
     ]
    },
    {
     "name": "stdout",
     "output_type": "stream",
     "text": [
      "                                                                  'tf_distil_bert_model_1[0][3]', \n",
      "                                                                  'tf_distil_bert_model_1[0][4]', \n",
      "                                                                  'tf_distil_bert_model_1[0][5]', \n",
      "                                                                  'tf_distil_bert_model_1[0][6]', \n",
      "                                                                  'tf_distil_bert_model_1[0][7]'] \n",
      "                                                                                                  \n",
      " dropout_39 (Dropout)           (None, 768)          0           ['bert_pooling_layer_1[0][0]']   \n",
      "                                                                                                  \n",
      " dense_3 (Dense)                (None, 64)           49216       ['dropout_39[0][0]']             \n",
      "                                                                                                  \n",
      " batch_normalization_2 (BatchNo  (None, 64)          256         ['dense_3[0][0]']                \n",
      " rmalization)                                                                                     \n",
      "                                                                                                  \n",
      " dense_4 (Dense)                (None, 64)           4160        ['batch_normalization_2[0][0]']  \n",
      "                                                                                                  \n",
      " batch_normalization_3 (BatchNo  (None, 64)          256         ['dense_4[0][0]']                \n",
      " rmalization)                                                                                     \n",
      "                                                                                                  \n",
      " dense_5 (Dense)                (None, 5)            325         ['batch_normalization_3[0][0]']  \n",
      "                                                                                                  \n",
      "==================================================================================================\n",
      "Total params: 66,417,093\n",
      "Trainable params: 66,416,837\n",
      "Non-trainable params: 256\n",
      "__________________________________________________________________________________________________\n",
      "Creating new experiment summarization for PoolingStrategyTransformer/2!\n",
      "Running setup of directory for experiment PoolingStrategyTransformer/2\n",
      "Compiling model\n",
      "Fitting model\n",
      "Epoch 1/5\n",
      "565/565 [==============================] - 3246s 6s/step - loss: 0.9362 - accuracy: 0.6760 - val_loss: 0.6656 - val_accuracy: 0.7622 - time: 3245.0869\n",
      "Epoch 2/5\n",
      "565/565 [==============================] - 3226s 6s/step - loss: 0.3993 - accuracy: 0.8644 - val_loss: 0.5876 - val_accuracy: 0.7920 - time: 6470.3384\n",
      "Epoch 3/5\n",
      "565/565 [==============================] - 3214s 6s/step - loss: 0.2469 - accuracy: 0.9181 - val_loss: 0.6335 - val_accuracy: 0.8105 - time: 9685.2611\n",
      "Epoch 4/5\n",
      "565/565 [==============================] - 3219s 6s/step - loss: 0.1675 - accuracy: 0.9459 - val_loss: 0.6480 - val_accuracy: 0.8290 - time: 12904.5789\n",
      "Epoch 5/5\n",
      "565/565 [==============================] - 3453s 6s/step - loss: 0.1261 - accuracy: 0.9587 - val_loss: 0.7343 - val_accuracy: 0.8130 - time: 16357.7228\n",
      "Loading best weights to model\n",
      "Predicting test dataset\n",
      "Evaluating results\n",
      "Mapping timer\n",
      "End of maping timer\n",
      "Saving\n",
      "Saving results\n",
      "Saving decription of experiment\n",
      "End of experiment\n",
      "Model: \"model_2\"\n",
      "__________________________________________________________________________________________________\n",
      " Layer (type)                   Output Shape         Param #     Connected to                     \n",
      "==================================================================================================\n",
      " input_ids (InputLayer)         [(None, 130)]        0           []                               \n",
      "                                                                                                  \n",
      " attention_mask (InputLayer)    [(None, 130)]        0           []                               \n",
      "                                                                                                  \n",
      " tf_distil_bert_model_2 (TFDist  TFBaseModelOutput(l  66362880   ['input_ids[0][0]',              \n",
      " ilBertModel)                   ast_hidden_state=(N               'attention_mask[0][0]']         \n",
      "                                one, 130, 768),                                                   \n",
      "                                 hidden_states=((No                                               \n",
      "                                ne, 130, 768),                                                    \n",
      "                                 (None, 130, 768),                                                \n",
      "                                 (None, 130, 768),                                                \n",
      "                                 (None, 130, 768),                                                \n",
      "                                 (None, 130, 768),                                                \n",
      "                                 (None, 130, 768),                                                \n",
      "                                 (None, 130, 768)),                                               \n",
      "                                 attentions=None)                                                 \n",
      "                                                                                                  \n",
      " bert_pooling_layer_2 (BertPool  (None, 3072)        0           ['tf_distil_bert_model_2[0][0]', \n",
      " ingLayer)                                                        'tf_distil_bert_model_2[0][1]', \n",
      "                                                                  'tf_distil_bert_model_2[0][2]', \n",
      "                                                                  'tf_distil_bert_model_2[0][3]', \n",
      "                                                                  'tf_distil_bert_model_2[0][4]', \n",
      "                                                                  'tf_distil_bert_model_2[0][5]', \n",
      "                                                                  'tf_distil_bert_model_2[0][6]', \n",
      "                                                                  'tf_distil_bert_model_2[0][7]'] \n",
      "                                                                                                  \n",
      " dropout_59 (Dropout)           (None, 3072)         0           ['bert_pooling_layer_2[0][0]']   \n",
      "                                                                                                  \n",
      " dense_6 (Dense)                (None, 64)           196672      ['dropout_59[0][0]']             \n",
      "                                                                                                  \n",
      " batch_normalization_4 (BatchNo  (None, 64)          256         ['dense_6[0][0]']                \n",
      " rmalization)                                                                                     \n",
      "                                                                                                  \n",
      " dense_7 (Dense)                (None, 64)           4160        ['batch_normalization_4[0][0]']  \n",
      "                                                                                                  \n",
      " batch_normalization_5 (BatchNo  (None, 64)          256         ['dense_7[0][0]']                \n",
      " rmalization)                                                                                     \n",
      "                                                                                                  \n",
      " dense_8 (Dense)                (None, 5)            325         ['batch_normalization_5[0][0]']  \n",
      "                                                                                                  \n",
      "==================================================================================================\n",
      "Total params: 66,564,549\n",
      "Trainable params: 66,564,293\n",
      "Non-trainable params: 256\n",
      "__________________________________________________________________________________________________\n",
      "Creating new experiment summarization for PoolingStrategyTransformer/3!\n",
      "Running setup of directory for experiment PoolingStrategyTransformer/3\n",
      "Compiling model\n",
      "Fitting model\n",
      "Epoch 1/5\n"
     ]
    },
    {
     "name": "stdout",
     "output_type": "stream",
     "text": [
      "565/565 [==============================] - 3344s 6s/step - loss: 0.8435 - accuracy: 0.7016 - val_loss: 0.5621 - val_accuracy: 0.8000 - time: 3343.1958\n",
      "Epoch 2/5\n",
      "565/565 [==============================] - 3196s 6s/step - loss: 0.3324 - accuracy: 0.8863 - val_loss: 0.5151 - val_accuracy: 0.8331 - time: 6538.5067\n",
      "Epoch 3/5\n",
      "150/565 [======>.......................] - ETA: 34:05 - loss: 0.2205 - accuracy: 0.9260"
     ]
    }
   ],
   "source": [
    "experiment.run()"
   ]
  }
 ],
 "metadata": {
  "kernelspec": {
   "display_name": "Python 3 (ipykernel)",
   "language": "python",
   "name": "python3"
  },
  "language_info": {
   "codemirror_mode": {
    "name": "ipython",
    "version": 3
   },
   "file_extension": ".py",
   "mimetype": "text/x-python",
   "name": "python",
   "nbconvert_exporter": "python",
   "pygments_lexer": "ipython3",
   "version": "3.9.7"
  }
 },
 "nbformat": 4,
 "nbformat_minor": 5
}
