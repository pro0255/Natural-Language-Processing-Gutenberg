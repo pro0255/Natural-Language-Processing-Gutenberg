{
 "cells": [
  {
   "cell_type": "code",
   "execution_count": 1,
   "id": "5e3647e5",
   "metadata": {},
   "outputs": [
    {
     "name": "stdout",
     "output_type": "stream",
     "text": [
      "Running preperation of packages\n"
     ]
    },
    {
     "name": "stderr",
     "output_type": "stream",
     "text": [
      "[nltk_data] Downloading package punkt to\n",
      "[nltk_data]     /home/usp/pro0255/diploma/nltk_data...\n",
      "[nltk_data]   Package punkt is already up-to-date!\n",
      "[nltk_data] Downloading package wordnet to\n",
      "[nltk_data]     /home/usp/pro0255/diploma/nltk_data...\n",
      "[nltk_data]   Package wordnet is already up-to-date!\n",
      "[nltk_data] Downloading package omw-1.4 to\n",
      "[nltk_data]     /home/usp/pro0255/diploma/nltk_data...\n",
      "[nltk_data]   Package omw-1.4 is already up-to-date!\n"
     ]
    },
    {
     "data": {
      "text/plain": [
       "<_io.TextIOWrapper name='/home/usp/pro0255/diploma/jupyters/experiments/jupyter_log.txt' mode='a+' encoding='UTF-8'>"
      ]
     },
     "execution_count": 1,
     "metadata": {},
     "output_type": "execute_result"
    }
   ],
   "source": [
    "import os\n",
    "import sys\n",
    "\n",
    "def adding_module_path():\n",
    "    module_path = os.path.abspath(os.path.sep.join([\"..\"]*2))\n",
    "\n",
    "    if module_path not in sys.path:\n",
    "        sys.path.append(module_path)\n",
    "\n",
    "adding_module_path()\n",
    "\n",
    "from src.config.run_prep import run_prep\n",
    "from src.utils.log_juypter import add_experiment_jupyter_logger\n",
    "\n",
    "run_prep()\n",
    "add_experiment_jupyter_logger(os.getcwd())"
   ]
  },
  {
   "cell_type": "markdown",
   "id": "dac818da",
   "metadata": {},
   "source": [
    "### Import of ExperimentTypes"
   ]
  },
  {
   "cell_type": "code",
   "execution_count": 2,
   "id": "0f0399ce",
   "metadata": {},
   "outputs": [],
   "source": [
    "from src.experiments.experiment_scripts.types.experiment_types import ExperimentType"
   ]
  },
  {
   "cell_type": "markdown",
   "id": "2ad43523",
   "metadata": {},
   "source": [
    "#### All experiments can be shown"
   ]
  },
  {
   "cell_type": "code",
   "execution_count": 3,
   "id": "b478b3c7",
   "metadata": {},
   "outputs": [
    {
     "data": {
      "text/plain": [
       "[<ExperimentType.TrainableTransformer: 'Learning'>,\n",
       " <ExperimentType.PoolingStrategyTransformer: 'PoolingStrategyTransformer'>,\n",
       " <ExperimentType.OutputSequenceLengthTransformer: 'OutputSequenceLength'>,\n",
       " <ExperimentType.LearningRateTransformer: 'LearningRateTransformer'>,\n",
       " <ExperimentType.LabelSize: 'LabelSize'>,\n",
       " <ExperimentType.PreprocessingType: 'PreprocessingType'>,\n",
       " <ExperimentType.TransformerType: 'TransformerType'>,\n",
       " <ExperimentType.NumberOfAuthorsNN: 'NumberOfAuthorsNN'>,\n",
       " <ExperimentType.NumberOfSentencesNN: 'NumberOfSentencesNN'>,\n",
       " <ExperimentType.Classic: 'Classic'>,\n",
       " <ExperimentType.TransformerTest: 'TransformerTest'>,\n",
       " <ExperimentType.NNTest: 'NNTest'>,\n",
       " <ExperimentType.ClassicTest: 'ClassicTest'>]"
      ]
     },
     "execution_count": 3,
     "metadata": {},
     "output_type": "execute_result"
    }
   ],
   "source": [
    "list(ExperimentType)"
   ]
  },
  {
   "cell_type": "markdown",
   "id": "5291a973",
   "metadata": {},
   "source": [
    "### Import of dictionary object with specified configurations"
   ]
  },
  {
   "cell_type": "code",
   "execution_count": 5,
   "id": "a13aab48",
   "metadata": {},
   "outputs": [],
   "source": [
    "from src.experiments.experiment_scripts.experiment_configurations.config import experiment_config"
   ]
  },
  {
   "cell_type": "markdown",
   "id": "2926df19",
   "metadata": {},
   "source": [
    "### Import runner for experiment - should be imported correct Runner!\n",
    "\n",
    "- TransformerRunner.\n",
    "- ClassicRunner.\n",
    "- NNRunner.\n",
    "- TestRunner.\n",
    "\n",
    "After import of runner properties of object should be specified correctly in object constructor."
   ]
  },
  {
   "cell_type": "code",
   "execution_count": 6,
   "id": "e946834c",
   "metadata": {},
   "outputs": [],
   "source": [
    "from src.experiments.experiment_scripts.neural_nets.transformers.transformer_runner import TransformerRunner"
   ]
  },
  {
   "cell_type": "code",
   "execution_count": null,
   "id": "1b044331",
   "metadata": {},
   "outputs": [],
   "source": [
    "experiment = TransformerRunner(\n",
    "    experiment_type=None,\n",
    "    save_best=None,\n",
    "    save_model=None,\n",
    "    config_dict={}\n",
    ")"
   ]
  },
  {
   "cell_type": "markdown",
   "id": "993d9620",
   "metadata": {},
   "source": [
    "#### Test"
   ]
  },
  {
   "cell_type": "code",
   "execution_count": 11,
   "id": "6b14bd4b",
   "metadata": {
    "scrolled": true
   },
   "outputs": [
    {
     "name": "stdout",
     "output_type": "stream",
     "text": [
      "[5]\n",
      "Loaded configuration dict_keys([<ExperimentGeneratorPart.DatasetGenerator: 'DatasetGenerator'>, <ExperimentGeneratorPart.ExperimentConfiguration: 'ExperimentConfiguration'>])\n"
     ]
    }
   ],
   "source": [
    "experiment = TransformerRunner(\n",
    "    experiment_type=ExperimentType.TrainableTransformer,\n",
    "    config_dict=experiment_config\n",
    ")"
   ]
  },
  {
   "cell_type": "code",
   "execution_count": null,
   "id": "b6a4b56b",
   "metadata": {},
   "outputs": [],
   "source": [
    "experiment.run()"
   ]
  }
 ],
 "metadata": {
  "kernelspec": {
   "display_name": "Python 3 (ipykernel)",
   "language": "python",
   "name": "python3"
  },
  "language_info": {
   "codemirror_mode": {
    "name": "ipython",
    "version": 3
   },
   "file_extension": ".py",
   "mimetype": "text/x-python",
   "name": "python",
   "nbconvert_exporter": "python",
   "pygments_lexer": "ipython3",
   "version": "3.9.7"
  }
 },
 "nbformat": 4,
 "nbformat_minor": 5
}
