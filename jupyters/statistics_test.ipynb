{
 "cells": [
  {
   "cell_type": "code",
   "execution_count": 2,
   "metadata": {},
   "outputs": [],
   "source": [
    "import os\n",
    "import sys\n",
    "\n",
    "def adding_module_path():\n",
    "    module_path = os.path.abspath(os.path.join('..'))\n",
    "\n",
    "    if module_path not in sys.path:\n",
    "        sys.path.append(module_path)\n",
    "\n",
    "adding_module_path()"
   ]
  },
  {
   "cell_type": "code",
   "execution_count": 3,
   "metadata": {},
   "outputs": [],
   "source": [
    "from src.statistic.create_statistics_from import create_statistics_from\n",
    "from src.statistic.build_input_for_statistics import build_input_for_statistics\n",
    "from src.utils.create_path_to_gutenberg import get_path_to_gutenberg_sets\n",
    "from src.config.config import get_current_folder\n",
    "from src.preprocessing.preprocessing_factory import PreprocessingFactory\n",
    "from src.types.processing_type import PreprocessingType\n",
    "from src.statistic.instances.statistic_description import StatisticDescription\n",
    "from src.types.subset_type import SubsetType\n",
    "from src.types.transformer_name import TransformerName\n",
    "from src.statistic.DEFAULT_INSTANCES import build_statistic_instances"
   ]
  },
  {
   "cell_type": "code",
   "execution_count": 4,
   "metadata": {},
   "outputs": [],
   "source": [
    "current_folder = get_current_folder()\n",
    "\n",
    "path_data, path_authors = get_path_to_gutenberg_sets(\n",
    "    10, \n",
    "    3,\n",
    "    current_folder\n",
    ")"
   ]
  },
  {
   "cell_type": "code",
   "execution_count": 5,
   "metadata": {},
   "outputs": [
    {
     "data": {
      "text/plain": [
       "('C:\\\\Users\\\\Vojta\\\\Desktop\\\\diploma\\\\data_test\\\\gutenberg\\\\10Authors\\\\Sentence3\\\\train.csv',\n",
       " 'C:\\\\Users\\\\Vojta\\\\Desktop\\\\diploma\\\\data_test\\\\gutenberg\\\\10Authors\\\\Sentence3\\\\valid.csv',\n",
       " 'C:\\\\Users\\\\Vojta\\\\Desktop\\\\diploma\\\\data_test\\\\gutenberg\\\\10Authors\\\\Sentence3\\\\test.csv')"
      ]
     },
     "execution_count": 5,
     "metadata": {},
     "output_type": "execute_result"
    }
   ],
   "source": [
    "path_data"
   ]
  },
  {
   "cell_type": "code",
   "execution_count": 6,
   "metadata": {},
   "outputs": [],
   "source": [
    "train_path, valid_path, test_path = path_data"
   ]
  },
  {
   "cell_type": "code",
   "execution_count": 7,
   "metadata": {},
   "outputs": [
    {
     "name": "stdout",
     "output_type": "stream",
     "text": [
      "Creating shorting method with min = 3\n",
      "Creating lemma method with instance <WordNetLemmatizer>\n"
     ]
    }
   ],
   "source": [
    "factory = PreprocessingFactory()"
   ]
  },
  {
   "cell_type": "code",
   "execution_count": 8,
   "metadata": {},
   "outputs": [],
   "source": [
    "stat_description = StatisticDescription(\n",
    "    number_of_authors=10,\n",
    "    number_of_sentences=3,\n",
    "    subset_type=SubsetType.Train.value,\n",
    "    path=train_path,\n",
    "    preprocessing_type=PreprocessingType.Default.value,\n",
    "    transformer_tokenizer=TransformerName.BertBaseUncased.value\n",
    ")"
   ]
  },
  {
   "cell_type": "code",
   "execution_count": 9,
   "metadata": {},
   "outputs": [
    {
     "name": "stdout",
     "output_type": "stream",
     "text": [
      "NumberOfAuthors=10\n",
      "NumberOfSentences=3\n",
      "SubsetType=train\n",
      "Path=C:\\Users\\Vojta\\Desktop\\diploma\\data_test\\gutenberg\\10Authors\\Sentence3\\train.csv\n",
      "PreprocessingType=Default\n",
      "TransformerTokenizer=bert-base-uncased\n"
     ]
    }
   ],
   "source": [
    "print(stat_description)"
   ]
  },
  {
   "cell_type": "code",
   "execution_count": 10,
   "metadata": {},
   "outputs": [
    {
     "name": "stdout",
     "output_type": "stream",
     "text": [
      "Loading dataset from=C:\\Users\\Vojta\\Desktop\\diploma\\data_test\\gutenberg\\10Authors\\Sentence3\\train.csv\n",
      "Current path to statistics=C:\\Users\\Vojta\\Desktop\\diploma\\data_test\\gutenberg\\10Authors\\Sentence3\\statistics\\stats_train.csv_stamp=50483.xlsx\n",
      "Saving to C:\\Users\\Vojta\\Desktop\\diploma\\data_test\\gutenberg\\10Authors\\Sentence3\\statistics\\stats_train.csv_stamp=50483.xlsx\n"
     ]
    }
   ],
   "source": [
    "metric_instance = create_statistics_from(\n",
    "    *build_input_for_statistics(\n",
    "        train_path,\n",
    "        ';', \n",
    "        stat_description,\n",
    "        build_statistic_instances(TransformerName.BertBaseUncased.value), \n",
    "        factory.create(PreprocessingType.Default),\n",
    "        True\n",
    "    )\n",
    ")"
   ]
  }
 ],
 "metadata": {
  "interpreter": {
   "hash": "deac0217989ddcfa4345bc236e90ab22a38c5ad7d8517b867015082eaa3f672d"
  },
  "kernelspec": {
   "display_name": "Python 3.8.1 ('venv': venv)",
   "language": "python",
   "name": "python3"
  },
  "language_info": {
   "codemirror_mode": {
    "name": "ipython",
    "version": 3
   },
   "file_extension": ".py",
   "mimetype": "text/x-python",
   "name": "python",
   "nbconvert_exporter": "python",
   "pygments_lexer": "ipython3",
   "version": "3.8.1"
  },
  "orig_nbformat": 4
 },
 "nbformat": 4,
 "nbformat_minor": 2
}
