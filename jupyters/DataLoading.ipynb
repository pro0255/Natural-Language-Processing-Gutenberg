{
 "cells": [
  {
   "cell_type": "markdown",
   "id": "90a44ada-b44d-4ebb-b24a-9d14469b471e",
   "metadata": {},
   "source": [
    "# Dataset Loading"
   ]
  },
  {
   "cell_type": "code",
   "execution_count": 1,
   "id": "8b8f3880-05af-469d-b963-5f4d3bd259dc",
   "metadata": {},
   "outputs": [],
   "source": [
    "PATH_TO_DATASET_FOLDER = \"C:\\\\Users\\\\Vojta\\\\Desktop\\\\diploma\\\\data\""
   ]
  },
  {
   "cell_type": "code",
   "execution_count": 2,
   "id": "1ae13204-1a66-49e3-9946-638c880048ff",
   "metadata": {},
   "outputs": [],
   "source": [
    "from enum import Enum\n",
    "import os.path\n",
    "import tensorflow as tf"
   ]
  },
  {
   "cell_type": "code",
   "execution_count": 3,
   "id": "549c69cf-2110-498f-94c7-423360ffa154",
   "metadata": {},
   "outputs": [],
   "source": [
    "class DataSet(Enum):\n",
    "    Gutenberg = \"gutenberg\""
   ]
  },
  {
   "cell_type": "code",
   "execution_count": 4,
   "id": "bad5ac8a-4a91-457a-86e6-a80757cd2084",
   "metadata": {},
   "outputs": [],
   "source": [
    "class DataSetType(Enum):\n",
    "    Sentence = \"Sentence\"\n",
    "    Article = \"Article\""
   ]
  },
  {
   "cell_type": "code",
   "execution_count": 5,
   "id": "79b40b7d-be89-4c6d-8daf-f9ba04ff4a60",
   "metadata": {},
   "outputs": [],
   "source": [
    "DATA_NAME = 'data.csv'"
   ]
  },
  {
   "cell_type": "code",
   "execution_count": 6,
   "id": "f1806a33-0acb-454d-b4c8-04a43119deea",
   "metadata": {},
   "outputs": [],
   "source": [
    "def create_path(directory, dataset, dataset_type, k=None):\n",
    "    is_sentence_type = dataset_type == DataSetType.Sentence \n",
    "    if is_sentence_type and k is None:\n",
    "        raise Exception(f\"Sentence should be specified with k argument!\")\n",
    "    \n",
    "    return os.path.join(directory, dataset.value, dataset_type.value + str(k), DATA_NAME) if is_sentence_type else os.path.join(directory, dataset.value, dataset_type.value, DATA_NAME)"
   ]
  },
  {
   "cell_type": "code",
   "execution_count": 7,
   "id": "f51b58ac-57d7-46a5-a4cb-00b4b3539574",
   "metadata": {},
   "outputs": [
    {
     "data": {
      "text/plain": [
       "'C:\\\\Users\\\\Vojta\\\\Desktop\\\\diploma\\\\data\\\\gutenberg\\\\Sentence10\\\\data.csv'"
      ]
     },
     "execution_count": 7,
     "metadata": {},
     "output_type": "execute_result"
    }
   ],
   "source": [
    "create_path(PATH_TO_DATASET_FOLDER, DataSet.Gutenberg, DataSetType.Sentence, 10)"
   ]
  },
  {
   "cell_type": "code",
   "execution_count": 8,
   "id": "d5f57209-9f65-40f5-8865-2b1b350441d6",
   "metadata": {},
   "outputs": [],
   "source": [
    "def process_text(text):\n",
    "    return text.lower()"
   ]
  },
  {
   "cell_type": "code",
   "execution_count": 9,
   "id": "b5f1faf2-c2dd-4617-8ec4-80aac6824aef",
   "metadata": {},
   "outputs": [],
   "source": [
    "def get_dataset_object_from_path(csv_filename, delim, text_pipeline_func=None):\n",
    "    dataset = tf.data.TextLineDataset(filenames=csv_filename)\n",
    "    \n",
    "    def parse_csv(line):\n",
    "        csv_line = bytes.decode(line.numpy())\n",
    "        text, author = csv_line.split(delim)\n",
    "        if text_pipeline_func is not None:\n",
    "            text = text_pipeline_func(text)\n",
    "        return text, author \n",
    "\n",
    "    dataset = dataset.map(lambda tpl: tf.py_function(parse_csv, [tpl], [tf.string, tf.string]))\n",
    "    return dataset"
   ]
  },
  {
   "cell_type": "code",
   "execution_count": 10,
   "id": "f60262aa-f0bf-4857-b1b7-6c2c1a8d9b86",
   "metadata": {},
   "outputs": [],
   "source": [
    "ds = get_dataset_object_from_path(create_path(PATH_TO_DATASET_FOLDER, DataSet.Gutenberg, DataSetType.Sentence, 3), ';', process_text)"
   ]
  },
  {
   "cell_type": "code",
   "execution_count": 13,
   "id": "86ff57f7-90f3-4cfa-b374-c8674509b7d0",
   "metadata": {},
   "outputs": [
    {
     "name": "stdout",
     "output_type": "stream",
     "text": [
      "(<tf.Tensor: shape=(8,), dtype=string, numpy=\n",
      "array([b\"the tragedy of pudd'nhead wilson  by mark twain     a whisper to the reader       _there is no character, howsoever good and fine, but it can      be destroyed by ridicule, howsoever poor and witless. observe the ass, for instance: his character is about      perfect, he is the choicest spirit among all the humbler      animals, yet see what ridicule has brought him to. instead      of feeling complimented when we are called an ass, we are      left in doubt._ --pudd'nhead wilson's calendar  a person who is ignorant of legal matters is always liable to make mistakes when he tries to photograph a court scene with his pen and so i was not willing to let the law chapters in this book go to press without first subjecting them to rigid and exhausting revision and correction by a trained barrister--if that is what they are called.\",\n",
      "       b\"these chapters are right, now, in every detail, for they were rewritten under the immediate eye of william hicks, who studied law part of a while in southwest missouri thirty-five years ago and then came over here to florence for his health and is still helping for exercise and board in macaroni vermicelli's horse-feed shed, which is up the back alley as you turn around the corner out of the piazza del duomo just beyond the house where that stone that dante used to sit on six hundred years ago is let into the wall when he let on to be watching them build giotto's campanile and yet always got tired looking as beatrice passed along on her way to get a chunk of chestnut cake to defend herself with in case of a ghibelline outbreak before she got to school, at the same old stand where they sell the same old cake to this day and it is just as light and good as it was then, too, and this is not flattery, far from it. he was a little rusty on his law, but he rubbed up for this book, and those two or three legal chapters are right and straight, now. he told me so himself.\",\n",
      "       b\"given under my hand this second day of january, 1893, at the villa viviani, village of settignano, three miles back of florence, on the hills--the same certainly affording the most charming view to be found on this planet, and with it the most dreamlike and enchanting sunsets to be found in any planet or even in any solar system--and given, too, in the swell room of the house, with the busts of cerretani senators and other grandees of this line looking approvingly down upon me, as they used to look down upon dante, and mutely asking me to adopt them into my family, which i do with pleasure, for my remotest ancestors are but spring chickens compared with these robed and stately antiques, and it will be a great and satisfying lift for me, that six hundred years will. mark twain. chapter 1 -- pudd'nhead wins his name       _tell the truth or trump--but get the trick._ --pudd'nhead      wilson's calendar   the scene of this chronicle is the town of dawson's landing, on the missouri side of the mississippi, half a day's journey, per steamboat, below st. louis.\",\n",
      "       b\"in 1830 it was a snug collection of modest one- and two-story frame dwellings, whose whitewashed exteriors were almost concealed from sight by climbing tangles of rose vines, honeysuckles, and morning glories. each of these pretty homes had a garden in front fenced with white palings and opulently stocked with hollyhocks, marigolds, touch-me-nots, prince's-feathers, and other old-fashioned flowers while on the windowsills of the houses stood wooden boxes containing moss rose plants and terra-cotta pots in which grew a breed of geranium whose spread of intensely red blossoms accented the prevailing pink tint of the rose-clad house-front like an explosion of flame. when there was room on the ledge outside of the pots and boxes for a cat, the cat was there--in sunny weather--stretched at full length, asleep and blissful, with her furry belly to the sun and a paw curved over her nose.\",\n",
      "       b'then that house was complete, and its contentment and peace were made manifest to the world by this symbol, whose testimony is infallible. a home without a cat--and a well-fed, well-petted, and properly revered cat--may be a perfect home, perhaps, but how can it prove title? all along the streets, on both sides, at the outer edge of the brick sidewalks, stood locust trees with trunks protected by wooden boxing, and these furnished shade for summer and a sweet fragrancer in spring, when the clusters of buds came forth.',\n",
      "       b\"the main street, one block back from the river, and running parallel with it, was the sole business street. it was six blocks long, and in each block two or three brick stores, three stories high, towered above interjected bunches of little frame shops. swinging signs creaked in the wind the street's whole length.\",\n",
      "       b\"the candy-striped pole, which indicates nobility proud and ancient along the palace-bordered canals of venice, indicated merely the humble barbershop along the main street of dawson's landing. on a chief corner stood a lofty unpainted pole wreathed from top to bottom with tin pots and pans and cups, the chief tinmonger's noisy notice to the world (when the wind blew) that his shop was on hand for business at that corner. the hamlet's front was washed by the clear waters of the great river its body stretched itself rearward up a gentle incline its most rearward border fringed itself out and scattered its houses about its base line of the hills the hills rose high, enclosing the town in a half-moon curve, clothed with forests from foot to summit.\",\n",
      "       b'\"steamboats passed up and down every hour or so. those belonging to the little cairo line and the little memphis line always stopped the big orleans liners stopped for hails only, or to land passengers or freight and this was the case also with the great flotilla of \"\"transients.\"\" these latter came out of a dozen rivers--the illinois, the missouri, the upper mississippi, the ohio, the monongahela, the tennessee, the red river, the white river, and so on--and were bound every whither and stocked with every imaginable comfort or necessity, which the mississippi\\'s communities could want, from the frosty falls of st. anthony down through nine climates to torrid new orleans.\"'],\n",
      "      dtype=object)>, <tf.Tensor: shape=(8,), dtype=string, numpy=\n",
      "array([b'Twain, Mark', b'Twain, Mark', b'Twain, Mark', b'Twain, Mark',\n",
      "       b'Twain, Mark', b'Twain, Mark', b'Twain, Mark', b'Twain, Mark'],\n",
      "      dtype=object)>)\n"
     ]
    }
   ],
   "source": [
    "for line in ds.batch(8):\n",
    "    pass\n",
    "    print(line)\n",
    "    break"
   ]
  },
  {
   "cell_type": "code",
   "execution_count": null,
   "id": "6897a232-1d3f-4ef3-a852-f5974b41d9ed",
   "metadata": {},
   "outputs": [],
   "source": []
  }
 ],
 "metadata": {
  "kernelspec": {
   "display_name": "Python 3 (ipykernel)",
   "language": "python",
   "name": "python3"
  },
  "language_info": {
   "codemirror_mode": {
    "name": "ipython",
    "version": 3
   },
   "file_extension": ".py",
   "mimetype": "text/x-python",
   "name": "python",
   "nbconvert_exporter": "python",
   "pygments_lexer": "ipython3",
   "version": "3.8.1"
  }
 },
 "nbformat": 4,
 "nbformat_minor": 5
}
