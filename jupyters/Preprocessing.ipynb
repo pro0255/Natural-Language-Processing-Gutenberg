{
 "cells": [
  {
   "cell_type": "markdown",
   "id": "8b3bde97-fa8d-4aba-9696-c09b2e1ac35e",
   "metadata": {},
   "source": [
    "# Functions which will be used for text preprocessing\n",
    "\n",
    "\n",
    "Gensim .. https://radimrehurek.com/gensim/parsing/preprocessing.html\n",
    "\n",
    "### List of methods\n",
    "\n",
    "\n",
    "- strip_tags\n",
    "- strip_punctuation\n",
    "- strip_multiple_whitespaces\n",
    "- strip_tags\n",
    "- strip_numeric\n",
    "- strip_stopwords\n",
    "- strip_short ... create_strip_short_method\n",
    "- stem_text\n",
    "- to_lowercase\n",
    "- lemma_text ... create_lemma_text"
   ]
  },
  {
   "cell_type": "code",
   "execution_count": 149,
   "id": "e546cee7-e5ad-4c97-a54c-4412f6ff45ec",
   "metadata": {},
   "outputs": [],
   "source": [
    "from gensim.parsing.preprocessing import preprocess_string, strip_tags as strip_tags_gensim, strip_punctuation as strip_punctuation_gensim, strip_multiple_whitespaces as strip_multiple_whitespaces_gensim, strip_numeric as strip_numeric_gensim, remove_stopwords as remove_stopwords_gensim, strip_short as strip_short_gensim, stem_text as stem_text_gensim\n",
    "import nltk\n",
    "from nltk.stem import WordNetLemmatizer \n",
    "import os"
   ]
  },
  {
   "cell_type": "code",
   "execution_count": 190,
   "id": "aaeba853-4ab6-4c77-bf45-6dafdec77a1f",
   "metadata": {},
   "outputs": [],
   "source": [
    "TEST_TEXT = \"given under my hand this second day of january, 1893, at the villa viviani, village of settignano, three miles back of florence, on the hills--the same certainly affording the most charming view to be found on this planet, and with it the most dreamlike and enchanting sunsets to be found in any planet or even in any solar system--and given, too, in the swell room of the house, with the busts of cerretani senators and other grandees of this line looking approvingly down upon me, as they used to look down upon dante, and mutely asking me to adopt them into my family, which i do with pleasure, for my remotest ancestors are but spring chickens compared with these robed and stately antiques, and it will be a great and satisfying lift for me, that six hundred years will. mark twain. chapter 1 -- pudd'nhead wins his name       _tell the truth or trump--but get the trick._ --pudd'nhead      wilson's calendar   the scene of this chronicle is the town of dawson's landing, on the missouri side of the mississippi, half a day's journey, per steamboat, below st. louis.\""
   ]
  },
  {
   "cell_type": "code",
   "execution_count": 116,
   "id": "5f2acde8-d51e-4bce-a8a2-d1b31676a247",
   "metadata": {},
   "outputs": [
    {
     "data": {
      "text/plain": [
       "\"given under my hand this second day of january, 1893, at the villa viviani, village of settignano, three miles back of florence, on the hills--the same certainly affording the most charming view to be found on this planet, and with it the most dreamlike and enchanting sunsets to be found in any planet or even in any solar system--and given, too, in the swell room of the house, with the busts of cerretani senators and other grandees of this line looking approvingly down upon me, as they used to look down upon dante, and mutely asking me to adopt them into my family, which i do with pleasure, for my remotest ancestors are but spring chickens compared with these robed and stately antiques, and it will be a great and satisfying lift for me, that six hundred years will. mark twain. chapter 1 -- pudd'nhead wins his name       _tell the truth or trump--but get the trick._ --pudd'nhead      wilson's calendar   the scene of this chronicle is the town of dawson's landing, on the missouri side of the mississippi, half a day's journey, per steamboat, below st. louis.\""
      ]
     },
     "execution_count": 116,
     "metadata": {},
     "output_type": "execute_result"
    }
   ],
   "source": [
    "TEST_TEXT"
   ]
  },
  {
   "cell_type": "code",
   "execution_count": 117,
   "id": "57e573fd-c77c-4902-9b8a-bdeac869190f",
   "metadata": {},
   "outputs": [],
   "source": [
    "def strip_tags(text):\n",
    "    return strip_tags_gensim(text)"
   ]
  },
  {
   "cell_type": "code",
   "execution_count": 118,
   "id": "0ef7fdd2-77b9-41ef-96bb-ad7db2dfa6b0",
   "metadata": {},
   "outputs": [],
   "source": [
    "def strip_punctuation(text):\n",
    "    return strip_punctuation_gensim(text)"
   ]
  },
  {
   "cell_type": "code",
   "execution_count": 119,
   "id": "1e72af5d-c400-45cd-91bf-10da1ea24549",
   "metadata": {},
   "outputs": [],
   "source": [
    "def strip_multiple_whitespaces(text):\n",
    "    return strip_multiple_whitespaces_gensim(text)"
   ]
  },
  {
   "cell_type": "code",
   "execution_count": 120,
   "id": "9d5c1994-1d64-4a84-b024-21e6e54ab9c1",
   "metadata": {},
   "outputs": [],
   "source": [
    "def strip_tags(text):\n",
    "    return strip_tags_gensim(text)"
   ]
  },
  {
   "cell_type": "code",
   "execution_count": 121,
   "id": "e4693eed-4f69-4e17-aa2d-8568d8bb6f9c",
   "metadata": {},
   "outputs": [],
   "source": [
    "def strip_numeric(text):\n",
    "    return strip_numeric_gensim(text)"
   ]
  },
  {
   "cell_type": "code",
   "execution_count": 122,
   "id": "0166d9b9-e394-409d-9ab0-370b477803dd",
   "metadata": {},
   "outputs": [],
   "source": [
    "def strip_stopwords(text):\n",
    "    return remove_stopwords_gensim(text)"
   ]
  },
  {
   "cell_type": "code",
   "execution_count": 123,
   "id": "de3b2047-58ba-4fac-81fc-a53f4882ffe4",
   "metadata": {},
   "outputs": [],
   "source": [
    "def strip_short(text, minsize=3):\n",
    "    return strip_short_gensim(text, minsize)"
   ]
  },
  {
   "cell_type": "code",
   "execution_count": 124,
   "id": "59d02e87-1585-47b3-880f-f3c285af31b3",
   "metadata": {},
   "outputs": [],
   "source": [
    "def create_strip_short_method(minsize=3):\n",
    "    def strip_short(text, minsize=minsize):\n",
    "        return strip_short_gensim(text, minsize)\n",
    "    return strip_short"
   ]
  },
  {
   "cell_type": "code",
   "execution_count": 125,
   "id": "8919cb47-67fc-4cf2-ad31-197e478b65eb",
   "metadata": {},
   "outputs": [],
   "source": [
    "strip_short_3 = create_strip_short_method()"
   ]
  },
  {
   "cell_type": "code",
   "execution_count": 126,
   "id": "7e958d6a-0fa2-459a-99c5-84ea37ac3657",
   "metadata": {},
   "outputs": [],
   "source": [
    "def stem_text(text):\n",
    "    return stem_text_gensim(text)"
   ]
  },
  {
   "cell_type": "code",
   "execution_count": 127,
   "id": "16284f20-4a9f-4ff4-8949-91f2dedf38fd",
   "metadata": {},
   "outputs": [
    {
     "data": {
      "text/plain": [
       "\"given under hand this second day january, 1893, the villa viviani, village settignano, three miles back florence, the hills--the same certainly affording the most charming view found this planet, and with the most dreamlike and enchanting sunsets found any planet even any solar system--and given, too, the swell room the house, with the busts cerretani senators and other grandees this line looking approvingly down upon me, they used look down upon dante, and mutely asking adopt them into family, which with pleasure, for remotest ancestors are but spring chickens compared with these robed and stately antiques, and will great and satisfying lift for me, that six hundred years will. mark twain. chapter pudd'nhead wins his name _tell the truth trump--but get the trick._ --pudd'nhead wilson's calendar the scene this chronicle the town dawson's landing, the missouri side the mississippi, half day's journey, per steamboat, below st. louis.\""
      ]
     },
     "execution_count": 127,
     "metadata": {},
     "output_type": "execute_result"
    }
   ],
   "source": [
    "strip_short_3(TEST_TEXT)"
   ]
  },
  {
   "cell_type": "code",
   "execution_count": 128,
   "id": "c7f9a764-9941-49b5-8585-f317b3af02a6",
   "metadata": {},
   "outputs": [],
   "source": [
    "def to_lowercase(text):\n",
    "    return text.lower()"
   ]
  },
  {
   "cell_type": "code",
   "execution_count": 208,
   "id": "cfb0973c-07bb-4170-b877-1cb83ea254d1",
   "metadata": {},
   "outputs": [
    {
     "data": {
      "text/plain": [
       "\"given under my hand this second day of january, 1893, at the villa viviani, village of settignano, three miles back of florence, on the hills--the same certainly affording the most charming view to be found on this planet, and with it the most dreamlike and enchanting sunsets to be found in any planet or even in any solar system--and given, too, in the swell room of the house, with the busts of cerretani senators and other grandees of this line looking approvingly down upon me, as they used to look down upon dante, and mutely asking me to adopt them into my family, which i do with pleasure, for my remotest ancestors are but spring chickens compared with these robed and stately antiques, and it will be a great and satisfying lift for me, that six hundred years will. mark twain. chapter 1 -- pudd'nhead wins his name       _tell the truth or trump--but get the trick._ --pudd'nhead      wilson's calendar   the scene of this chronicle is the town of dawson's landing, on the missouri side of the mississippi, half a day's journey, per steamboat, below st. louis.\""
      ]
     },
     "execution_count": 208,
     "metadata": {},
     "output_type": "execute_result"
    }
   ],
   "source": [
    "to_lowercase(TEST_TEXT)"
   ]
  },
  {
   "cell_type": "code",
   "execution_count": 209,
   "id": "fc801e98-4208-4e53-bbf3-c195bc85c4c5",
   "metadata": {},
   "outputs": [],
   "source": [
    "def create_lemma_text():\n",
    "    instance = WordNetLemmatizer()\n",
    "    def lemma_text(text):\n",
    "        word_list = nltk.word_tokenize(text)\n",
    "        return ' '.join([instance.lemmatize(word) for word in word_list])\n",
    "    return lemma_text "
   ]
  },
  {
   "cell_type": "code",
   "execution_count": 211,
   "id": "542eeba1-9862-479f-a3aa-ebeb15a3dcdb",
   "metadata": {},
   "outputs": [],
   "source": [
    "lemma_text = create_lemma_text()"
   ]
  },
  {
   "cell_type": "code",
   "execution_count": 214,
   "id": "bfa31150-d7f2-41f2-b291-746b66b0c51e",
   "metadata": {},
   "outputs": [
    {
     "data": {
      "text/plain": [
       "'bat foot'"
      ]
     },
     "execution_count": 214,
     "metadata": {},
     "output_type": "execute_result"
    }
   ],
   "source": [
    "lemma_text('bats feet')"
   ]
  },
  {
   "cell_type": "code",
   "execution_count": 215,
   "id": "ba5f8a1e-2b3e-4c04-b92c-862b16c61cb0",
   "metadata": {},
   "outputs": [],
   "source": [
    "def create_preprocess_string_func(filters, tokenized=False):\n",
    "    print(type(filters))\n",
    "    def preprocess_func(text):\n",
    "        result = preprocess_string(text, filters)\n",
    "        return result if tokenized else ' '.join(result)\n",
    "    return preprocess_func"
   ]
  },
  {
   "cell_type": "code",
   "execution_count": 216,
   "id": "59a8e344-630d-4b2e-9f0b-4a8c53742e8e",
   "metadata": {},
   "outputs": [
    {
     "name": "stdout",
     "output_type": "stream",
     "text": [
      "<class 'list'>\n"
     ]
    }
   ],
   "source": [
    "preprocess = create_preprocess_string_func([lambda x: x.lower(), lambda x: x.upper()])"
   ]
  },
  {
   "cell_type": "code",
   "execution_count": 217,
   "id": "655d9a5e-f1af-4e9b-95ce-bb633f95f9aa",
   "metadata": {},
   "outputs": [
    {
     "data": {
      "text/plain": [
       "\"GIVEN UNDER MY HAND THIS SECOND DAY OF JANUARY, 1893, AT THE VILLA VIVIANI, VILLAGE OF SETTIGNANO, THREE MILES BACK OF FLORENCE, ON THE HILLS--THE SAME CERTAINLY AFFORDING THE MOST CHARMING VIEW TO BE FOUND ON THIS PLANET, AND WITH IT THE MOST DREAMLIKE AND ENCHANTING SUNSETS TO BE FOUND IN ANY PLANET OR EVEN IN ANY SOLAR SYSTEM--AND GIVEN, TOO, IN THE SWELL ROOM OF THE HOUSE, WITH THE BUSTS OF CERRETANI SENATORS AND OTHER GRANDEES OF THIS LINE LOOKING APPROVINGLY DOWN UPON ME, AS THEY USED TO LOOK DOWN UPON DANTE, AND MUTELY ASKING ME TO ADOPT THEM INTO MY FAMILY, WHICH I DO WITH PLEASURE, FOR MY REMOTEST ANCESTORS ARE BUT SPRING CHICKENS COMPARED WITH THESE ROBED AND STATELY ANTIQUES, AND IT WILL BE A GREAT AND SATISFYING LIFT FOR ME, THAT SIX HUNDRED YEARS WILL. MARK TWAIN. CHAPTER 1 -- PUDD'NHEAD WINS HIS NAME _TELL THE TRUTH OR TRUMP--BUT GET THE TRICK._ --PUDD'NHEAD WILSON'S CALENDAR THE SCENE OF THIS CHRONICLE IS THE TOWN OF DAWSON'S LANDING, ON THE MISSOURI SIDE OF THE MISSISSIPPI, HALF A DAY'S JOURNEY, PER STEAMBOAT, BELOW ST. LOUIS.\""
      ]
     },
     "execution_count": 217,
     "metadata": {},
     "output_type": "execute_result"
    }
   ],
   "source": [
    "preprocess(TEST_TEXT)"
   ]
  },
  {
   "cell_type": "code",
   "execution_count": 218,
   "id": "e31a6f57-326d-4c6e-8652-3f4540990778",
   "metadata": {},
   "outputs": [],
   "source": [
    "NLTK_PATH = '..//nltk_data'"
   ]
  },
  {
   "cell_type": "code",
   "execution_count": 219,
   "id": "550d5867-4e3e-4e20-a0a1-51940459e8e3",
   "metadata": {},
   "outputs": [],
   "source": [
    "def prepare_nltk_package(nltk_path):\n",
    "    if not os.path.exists(nltk_path):\n",
    "        os.makedirs(nltk_path)\n",
    "        \n",
    "    if nltk_path not in nltk.data.path:\n",
    "        nltk.data.path.append(nltk_path) \n",
    "        \n",
    "    nltk.download(\"wordnet\", nltk_path)\n",
    "    nltk.download('omw-1.4')"
   ]
  },
  {
   "cell_type": "code",
   "execution_count": 220,
   "id": "5acf416e-d494-423c-b0b1-b262bb082e8c",
   "metadata": {},
   "outputs": [
    {
     "name": "stderr",
     "output_type": "stream",
     "text": [
      "[nltk_data] Downloading package wordnet to ..//nltk_data...\n",
      "[nltk_data]   Package wordnet is already up-to-date!\n",
      "[nltk_data] Downloading package omw-1.4 to\n",
      "[nltk_data]     C:\\Users\\Vojta\\AppData\\Roaming\\nltk_data...\n",
      "[nltk_data]   Package omw-1.4 is already up-to-date!\n"
     ]
    }
   ],
   "source": [
    "prepare_nltk_package(NLTK_PATH)"
   ]
  }
 ],
 "metadata": {
  "kernelspec": {
   "display_name": "Python 3 (ipykernel)",
   "language": "python",
   "name": "python3"
  },
  "language_info": {
   "codemirror_mode": {
    "name": "ipython",
    "version": 3
   },
   "file_extension": ".py",
   "mimetype": "text/x-python",
   "name": "python",
   "nbconvert_exporter": "python",
   "pygments_lexer": "ipython3",
   "version": "3.8.1"
  }
 },
 "nbformat": 4,
 "nbformat_minor": 5
}
