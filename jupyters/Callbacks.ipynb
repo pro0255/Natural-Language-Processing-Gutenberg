{
 "cells": [
  {
   "cell_type": "code",
   "execution_count": 1,
   "id": "59d2b29e-a88a-4e1b-b2b1-ab649165fe66",
   "metadata": {},
   "outputs": [],
   "source": [
    "import numpy as np\n",
    "import tensorflow as tf\n",
    "import time\n",
    "import matplotlib.pyplot as plt\n",
    "import pandas as pd\n",
    "import os\n"
   ]
  },
  {
   "cell_type": "code",
   "execution_count": 2,
   "id": "c71a6aeb-c57b-46c1-8866-67bc302a3a52",
   "metadata": {},
   "outputs": [],
   "source": [
    "data_size = 1000\n",
    "# 80% of the data is for training.\n",
    "train_pct = 0.8\n",
    "\n",
    "train_size = int(data_size * train_pct)\n",
    "\n",
    "# Create some input data between -1 and 1 and randomize it.\n",
    "x = np.linspace(-1, 1, data_size)\n",
    "np.random.shuffle(x)\n",
    "\n",
    "# Generate the output data.\n",
    "# y = 0.5x + 2 + noise\n",
    "y = 0.5 * x + 2 + np.random.normal(0, 0.05, (data_size, ))\n",
    "\n",
    "# Split into test and train pairs.\n",
    "x_train, y_train = x[:train_size], y[:train_size]\n",
    "x_test, y_test = x[train_size:], y[train_size:]"
   ]
  },
  {
   "cell_type": "code",
   "execution_count": 3,
   "id": "075bfa95-f1fd-4a48-a6b5-99e32f95aff8",
   "metadata": {},
   "outputs": [],
   "source": [
    "class CSVLogger(tf.keras.callbacks.Callback):\n",
    "    def __init__(self, path):\n",
    "        \n",
    "        self.path = path\n",
    "        self.timetaken = time.time()\n",
    "        self.state = {}\n",
    "        \n",
    "    def on_epoch_end(self, epoch, logs = {}):\n",
    "        \n",
    "        logs['time'] = time.time() - self.timetaken\n",
    "        self.state[epoch] = logs\n",
    "                \n",
    "    def on_train_end(self, logs = {}):\n",
    "        \n",
    "        headers = []\n",
    "        for k, v in self.state.items():\n",
    "            headers = self.state[k].keys()\n",
    "            break\n",
    "        \n",
    "        data = { k:self.state[k].values() for k, v in self.state.items() }\n",
    "        df = pd.DataFrame.from_dict(data, orient='index')\n",
    "        df.columns = headers\n",
    "        df.to_csv(self.path)"
   ]
  },
  {
   "cell_type": "code",
   "execution_count": 5,
   "id": "67fe6943",
   "metadata": {},
   "outputs": [
    {
     "data": {
      "text/plain": [
       "[<__main__.CSVLogger at 0x29254dd13d0>]"
      ]
     },
     "execution_count": 5,
     "metadata": {},
     "output_type": "execute_result"
    }
   ],
   "source": [
    "factory = CallbacksFactory()\n",
    "\n",
    "factory.create()"
   ]
  },
  {
   "cell_type": "code",
   "execution_count": 6,
   "id": "4482e9c3-c1ae-41de-a370-b67075abd32c",
   "metadata": {},
   "outputs": [
    {
     "name": "stdout",
     "output_type": "stream",
     "text": [
      "Training ... With default parameters, this takes less than 10 seconds.\n"
     ]
    }
   ],
   "source": [
    "model = tf.keras.models.Sequential([\n",
    "    tf.keras.layers.Dense(16, input_dim=1),\n",
    "    tf.keras.layers.Dense(1),\n",
    "])\n",
    "\n",
    "model.compile(\n",
    "    loss='mse', # keras.losses.mean_squared_error\n",
    "    optimizer=tf.keras.optimizers.SGD(learning_rate=0.2),\n",
    ")\n",
    "\n",
    "print(\"Training ... With default parameters, this takes less than 10 seconds.\")\n",
    "\n",
    "training_history = model.fit(\n",
    "    x_train, # input\n",
    "    y_train, # output\n",
    "    batch_size=train_size,\n",
    "    verbose=0, # Suppress chatty output; use Tensorboard instead\n",
    "    epochs=100,\n",
    "    validation_data=(x_test, y_test),\n",
    "    callbacks=factory.create(),\n",
    ")"
   ]
  },
  {
   "cell_type": "code",
   "execution_count": 4,
   "id": "8992e385-82a7-41ca-a9fb-fca23a305d85",
   "metadata": {},
   "outputs": [],
   "source": [
    "class CallbacksFactory:\n",
    "    def __init__(self):\n",
    "        pass\n",
    "    \n",
    "    def create(self, directory: str = '.', filename: str = 'data.csv' ) -> list: \n",
    "        callbacks = [\n",
    "            CSVLogger(os.sep.join([directory, filename]))\n",
    "        ]\n",
    "        return callbacks"
   ]
  },
  {
   "cell_type": "code",
   "execution_count": null,
   "id": "5bdc47e8",
   "metadata": {},
   "outputs": [],
   "source": []
  }
 ],
 "metadata": {
  "kernelspec": {
   "display_name": "Python 3 (ipykernel)",
   "language": "python",
   "name": "python3"
  },
  "language_info": {
   "codemirror_mode": {
    "name": "ipython",
    "version": 3
   },
   "file_extension": ".py",
   "mimetype": "text/x-python",
   "name": "python",
   "nbconvert_exporter": "python",
   "pygments_lexer": "ipython3",
   "version": "3.8.1"
  }
 },
 "nbformat": 4,
 "nbformat_minor": 5
}
