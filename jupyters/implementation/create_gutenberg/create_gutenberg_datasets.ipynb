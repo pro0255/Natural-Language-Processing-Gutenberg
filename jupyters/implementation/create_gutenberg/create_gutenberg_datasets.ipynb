{
 "cells": [
  {
   "cell_type": "markdown",
   "id": "6fd98e2c",
   "metadata": {},
   "source": [
    "# Creating gutenberg"
   ]
  },
  {
   "cell_type": "code",
   "execution_count": 1,
   "id": "4fa2fc89",
   "metadata": {},
   "outputs": [],
   "source": [
    "import os\n",
    "import sys\n",
    "\n",
    "def adding_module_path():\n",
    "    module_path = os.path.abspath(os.path.sep.join([\"..\"]*3))\n",
    "\n",
    "    if module_path not in sys.path:\n",
    "        sys.path.append(module_path)\n",
    "\n",
    "adding_module_path()"
   ]
  },
  {
   "cell_type": "code",
   "execution_count": 2,
   "id": "3fd1fe74",
   "metadata": {},
   "outputs": [],
   "source": [
    "from src.app.project_setup import ProjectSetup"
   ]
  },
  {
   "cell_type": "code",
   "execution_count": null,
   "id": "2d42e9bd",
   "metadata": {},
   "outputs": [],
   "source": [
    "setup = ProjectSetup()"
   ]
  },
  {
   "cell_type": "markdown",
   "id": "812e0c81",
   "metadata": {},
   "source": [
    "## Run over directory of jsons and creates other"
   ]
  },
  {
   "cell_type": "code",
   "execution_count": null,
   "id": "d1fe6709",
   "metadata": {},
   "outputs": [],
   "source": [
    "setup.create_datasets()"
   ]
  },
  {
   "cell_type": "markdown",
   "id": "5e0877ba",
   "metadata": {},
   "source": [
    "## Run over created directories and split them to train, test, valid subsets"
   ]
  },
  {
   "cell_type": "code",
   "execution_count": null,
   "id": "ec0922e9",
   "metadata": {},
   "outputs": [],
   "source": [
    "setup.split_datasets()"
   ]
  }
 ],
 "metadata": {
  "kernelspec": {
   "display_name": "Python 3 (ipykernel)",
   "language": "python",
   "name": "python3"
  },
  "language_info": {
   "codemirror_mode": {
    "name": "ipython",
    "version": 3
   },
   "file_extension": ".py",
   "mimetype": "text/x-python",
   "name": "python",
   "nbconvert_exporter": "python",
   "pygments_lexer": "ipython3",
   "version": "3.9.7"
  }
 },
 "nbformat": 4,
 "nbformat_minor": 5
}
