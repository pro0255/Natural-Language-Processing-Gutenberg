{
 "cells": [
  {
   "cell_type": "markdown",
   "id": "6fd98e2c",
   "metadata": {},
   "source": [
    "# Creating gutenberg"
   ]
  },
  {
   "cell_type": "code",
   "execution_count": 1,
   "id": "4fa2fc89",
   "metadata": {},
   "outputs": [],
   "source": [
    "import os\n",
    "import sys\n",
    "\n",
    "def adding_module_path():\n",
    "    module_path = os.path.abspath(os.path.sep.join([\"..\"]*3))\n",
    "\n",
    "    if module_path not in sys.path:\n",
    "        sys.path.append(module_path)\n",
    "\n",
    "adding_module_path()"
   ]
  },
  {
   "cell_type": "code",
   "execution_count": 2,
   "id": "3fd1fe74",
   "metadata": {},
   "outputs": [],
   "source": [
    "from src.app.project_setup import ProjectSetup"
   ]
  },
  {
   "cell_type": "markdown",
   "id": "17acbe4c",
   "metadata": {},
   "source": [
    "#### Creating class which will be used for creating all datasets - subsets of Gutenberg text"
   ]
  },
  {
   "cell_type": "code",
   "execution_count": 3,
   "id": "2d42e9bd",
   "metadata": {},
   "outputs": [],
   "source": [
    "setup = ProjectSetup()"
   ]
  },
  {
   "cell_type": "code",
   "execution_count": 4,
   "id": "1e028b92",
   "metadata": {},
   "outputs": [],
   "source": [
    "setup.create_combs()"
   ]
  },
  {
   "cell_type": "markdown",
   "id": "a173d78a",
   "metadata": {},
   "source": [
    "These are all of combinations which we want to prepare for testing"
   ]
  },
  {
   "cell_type": "code",
   "execution_count": 5,
   "id": "eaf94e87",
   "metadata": {},
   "outputs": [
    {
     "data": {
      "text/plain": [
       "[(1, 5),\n",
       " (1, 15),\n",
       " (1, 25),\n",
       " (1, 35),\n",
       " (1, 45),\n",
       " (1, 55),\n",
       " (1, 65),\n",
       " (1, 75),\n",
       " (1, 85),\n",
       " (1, 95),\n",
       " (1, 105),\n",
       " (2, 5),\n",
       " (2, 15),\n",
       " (2, 25),\n",
       " (2, 35),\n",
       " (2, 45),\n",
       " (2, 55),\n",
       " (2, 65),\n",
       " (2, 75),\n",
       " (2, 85),\n",
       " (2, 95),\n",
       " (2, 105),\n",
       " (3, 5),\n",
       " (3, 15),\n",
       " (3, 25),\n",
       " (3, 35),\n",
       " (3, 45),\n",
       " (3, 55),\n",
       " (3, 65),\n",
       " (3, 75),\n",
       " (3, 85),\n",
       " (3, 95),\n",
       " (3, 105),\n",
       " (4, 5),\n",
       " (4, 15),\n",
       " (4, 25),\n",
       " (4, 35),\n",
       " (4, 45),\n",
       " (4, 55),\n",
       " (4, 65),\n",
       " (4, 75),\n",
       " (4, 85),\n",
       " (4, 95),\n",
       " (4, 105),\n",
       " (5, 5),\n",
       " (5, 15),\n",
       " (5, 25),\n",
       " (5, 35),\n",
       " (5, 45),\n",
       " (5, 55),\n",
       " (5, 65),\n",
       " (5, 75),\n",
       " (5, 85),\n",
       " (5, 95),\n",
       " (5, 105),\n",
       " (6, 5),\n",
       " (6, 15),\n",
       " (6, 25),\n",
       " (6, 35),\n",
       " (6, 45),\n",
       " (6, 55),\n",
       " (6, 65),\n",
       " (6, 75),\n",
       " (6, 85),\n",
       " (6, 95),\n",
       " (6, 105),\n",
       " (7, 5),\n",
       " (7, 15),\n",
       " (7, 25),\n",
       " (7, 35),\n",
       " (7, 45),\n",
       " (7, 55),\n",
       " (7, 65),\n",
       " (7, 75),\n",
       " (7, 85),\n",
       " (7, 95),\n",
       " (7, 105),\n",
       " (8, 5),\n",
       " (8, 15),\n",
       " (8, 25),\n",
       " (8, 35),\n",
       " (8, 45),\n",
       " (8, 55),\n",
       " (8, 65),\n",
       " (8, 75),\n",
       " (8, 85),\n",
       " (8, 95),\n",
       " (8, 105),\n",
       " (9, 5),\n",
       " (9, 15),\n",
       " (9, 25),\n",
       " (9, 35),\n",
       " (9, 45),\n",
       " (9, 55),\n",
       " (9, 65),\n",
       " (9, 75),\n",
       " (9, 85),\n",
       " (9, 95),\n",
       " (9, 105),\n",
       " (10, 5),\n",
       " (10, 15),\n",
       " (10, 25),\n",
       " (10, 35),\n",
       " (10, 45),\n",
       " (10, 55),\n",
       " (10, 65),\n",
       " (10, 75),\n",
       " (10, 85),\n",
       " (10, 95),\n",
       " (10, 105)]"
      ]
     },
     "execution_count": 5,
     "metadata": {},
     "output_type": "execute_result"
    }
   ],
   "source": [
    "setup.combs"
   ]
  },
  {
   "cell_type": "markdown",
   "id": "812e0c81",
   "metadata": {},
   "source": [
    "#### Creating datasets from downloaded data"
   ]
  },
  {
   "cell_type": "code",
   "execution_count": 7,
   "id": "d1fe6709",
   "metadata": {},
   "outputs": [
    {
     "name": "stdout",
     "output_type": "stream",
     "text": [
      "[(3, 5), (3, 15), (3, 25), (3, 35), (3, 45), (3, 55), (3, 65), (3, 75), (3, 85), (3, 95), (3, 105)]\n"
     ]
    }
   ],
   "source": [
    "setup.create_datasets(3, 5, 115)"
   ]
  },
  {
   "cell_type": "markdown",
   "id": "5e0877ba",
   "metadata": {},
   "source": [
    "#### After creating we need to split them to train, valid, test"
   ]
  },
  {
   "cell_type": "code",
   "execution_count": null,
   "id": "ec0922e9",
   "metadata": {},
   "outputs": [],
   "source": [
    "setup.split_datasets()"
   ]
  }
 ],
 "metadata": {
  "kernelspec": {
   "display_name": "Python 3 (ipykernel)",
   "language": "python",
   "name": "python3"
  },
  "language_info": {
   "codemirror_mode": {
    "name": "ipython",
    "version": 3
   },
   "file_extension": ".py",
   "mimetype": "text/x-python",
   "name": "python",
   "nbconvert_exporter": "python",
   "pygments_lexer": "ipython3",
   "version": "3.8.1"
  }
 },
 "nbformat": 4,
 "nbformat_minor": 5
}
