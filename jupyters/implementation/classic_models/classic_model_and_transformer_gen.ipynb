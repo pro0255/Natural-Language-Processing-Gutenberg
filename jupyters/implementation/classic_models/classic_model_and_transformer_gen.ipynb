{
 "cells": [
  {
   "cell_type": "code",
   "execution_count": 1,
   "metadata": {},
   "outputs": [],
   "source": [
    "import os\n",
    "import sys\n",
    "\n",
    "def adding_module_path():\n",
    "    module_path = os.path.abspath(os.path.sep.join([\"..\"]*3))\n",
    "\n",
    "    if module_path not in sys.path:\n",
    "        sys.path.append(module_path)\n",
    "\n",
    "adding_module_path()"
   ]
  },
  {
   "cell_type": "code",
   "execution_count": 3,
   "metadata": {},
   "outputs": [],
   "source": [
    "from src.models.classic.linear import LinearClassifier\n",
    "from src.models.classic.naive_bayes import NaiveBayes\n",
    "from src.models.classic.random_forest import RandomForestClassifier\n",
    "from src.vectorizers.transformer.bert_base_vectorizer import BertBaseUncasedVectorizer\n",
    "from src.models.transformer.pooling_strategy import pooling_strategy_dictionary, TransformerPoolingStrategySelection"
   ]
  },
  {
   "cell_type": "code",
   "execution_count": 7,
   "metadata": {},
   "outputs": [],
   "source": [
    "def gen(max_lenghts=[], transformer_vectorizers=[], pooling_strategies=[], predictors=[]):\n",
    "    for max_len in max_lenghts:\n",
    "        for transformer_vectorizer in transformer_vectorizers:\n",
    "            for strategy in pooling_strategies:\n",
    "                #reuse train, test data\n",
    "                for predict_class in predictors:\n",
    "                    transformer_pooling_type, transformer_pooling_strategy, transformer_start_index, transformer_end_index = pooling_strategy_dictionary[strategy]\n",
    "                    yield (\n",
    "                        predict_class(), \n",
    "                        transformer_vectorizer(\n",
    "                            max_len=max_len,\n",
    "                            transformer_pooling_type=transformer_pooling_type,\n",
    "                            transformer_pooling_strategy=transformer_pooling_strategy,\n",
    "                            transformer_start_index=transformer_start_index,\n",
    "                            transformer_end_index=transformer_end_index\n",
    "                        )\n",
    "                    )"
   ]
  },
  {
   "cell_type": "code",
   "execution_count": 9,
   "metadata": {},
   "outputs": [
    {
     "name": "stdout",
     "output_type": "stream",
     "text": [
      "(SGDClassifier(), <src.vectorizers.transformer.bert_base_vectorizer.BertBaseUncasedVectorizer object at 0x000001BC5A798F70>)\n"
     ]
    }
   ],
   "source": [
    "for x in gen([512], [BertBaseUncasedVectorizer], list(TransformerPoolingStrategySelection), [LinearClassifier]):\n",
    "    print(x)\n",
    "    break"
   ]
  },
  {
   "cell_type": "code",
   "execution_count": null,
   "metadata": {},
   "outputs": [],
   "source": []
  }
 ],
 "metadata": {
  "interpreter": {
   "hash": "deac0217989ddcfa4345bc236e90ab22a38c5ad7d8517b867015082eaa3f672d"
  },
  "kernelspec": {
   "display_name": "Python 3.8.1 ('venv': venv)",
   "language": "python",
   "name": "python3"
  },
  "language_info": {
   "codemirror_mode": {
    "name": "ipython",
    "version": 3
   },
   "file_extension": ".py",
   "mimetype": "text/x-python",
   "name": "python",
   "nbconvert_exporter": "python",
   "pygments_lexer": "ipython3",
   "version": "3.8.1"
  },
  "orig_nbformat": 4
 },
 "nbformat": 4,
 "nbformat_minor": 2
}
