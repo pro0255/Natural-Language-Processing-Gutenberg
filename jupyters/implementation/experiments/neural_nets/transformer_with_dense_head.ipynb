{
 "cells": [
  {
   "cell_type": "code",
   "execution_count": null,
   "metadata": {},
   "outputs": [],
   "source": [
    "import os\n",
    "import sys\n",
    "\n",
    "def adding_module_path():\n",
    "    module_path = os.path.abspath(os.path.sep.join([\"..\"]*4))\n",
    "\n",
    "    if module_path not in sys.path:\n",
    "        sys.path.append(module_path)\n",
    "\n",
    "adding_module_path()\n",
    "\n",
    "from src.config.run_prep import run_prep\n",
    "run_prep()"
   ]
  },
  {
   "cell_type": "code",
   "execution_count": null,
   "metadata": {},
   "outputs": [],
   "source": [
    "from src.experiments.instances.neural_nets.transformer_with_dense_head import TransformerWithDenseHeadExperiment\n",
    "from src.data_loading.get_dataset_object_from import get_dataset_all\n",
    "from src.utils.from_dataset_arrays import from_dataset_dataframe\n",
    "from src.models.transformer.pooling_strategy import TransformerPoolingStrategySelection, pooling_strategy_dictionary\n",
    "from src.types.transformer_name import TransformerName\n",
    "import plotly.express as px"
   ]
  },
  {
   "cell_type": "code",
   "execution_count": null,
   "metadata": {},
   "outputs": [],
   "source": [
    "NUMBER_OF_AUTHORS = 6\n",
    "NUMBER_OF_SENTENCES = 3\n",
    "NORMALIZED_VALUE = 1000\n",
    "SEQUENCES = [50]\n",
    "TRAINABLE = [False]"
   ]
  },
  {
   "cell_type": "code",
   "execution_count": null,
   "metadata": {},
   "outputs": [],
   "source": [
    "data, paths = get_dataset_all(NUMBER_OF_AUTHORS, NUMBER_OF_SENTENCES)"
   ]
  },
  {
   "cell_type": "code",
   "execution_count": null,
   "metadata": {},
   "outputs": [],
   "source": [
    "all_data = from_dataset_dataframe(data[0])"
   ]
  },
  {
   "cell_type": "code",
   "execution_count": null,
   "metadata": {},
   "outputs": [],
   "source": [
    "all_data['le'] = all_data['text'].apply(lambda x: len(x.split(' ')))"
   ]
  },
  {
   "cell_type": "code",
   "execution_count": null,
   "metadata": {},
   "outputs": [],
   "source": [
    "all_data['le'].mean()"
   ]
  },
  {
   "cell_type": "code",
   "execution_count": null,
   "metadata": {},
   "outputs": [],
   "source": [
    "fig = px.histogram(all_data, x='le', color='label')"
   ]
  },
  {
   "cell_type": "code",
   "execution_count": null,
   "metadata": {},
   "outputs": [],
   "source": [
    "fig.show()"
   ]
  },
  {
   "cell_type": "code",
   "execution_count": null,
   "metadata": {},
   "outputs": [],
   "source": [
    "all_data.label.value_counts()"
   ]
  },
  {
   "cell_type": "code",
   "execution_count": null,
   "metadata": {},
   "outputs": [],
   "source": [
    "experiment = TransformerWithDenseHeadExperiment(False)\n"
   ]
  },
  {
   "cell_type": "code",
   "execution_count": null,
   "metadata": {},
   "outputs": [],
   "source": [
    "model_name_with_pooling_strategy = [\n",
    "    (\n",
    "        TransformerName.BertBaseUncased,\n",
    "        pooling_strategy_dictionary[TransformerPoolingStrategySelection.Pooler]\n",
    "    )\n",
    "]"
   ]
  },
  {
   "cell_type": "code",
   "execution_count": null,
   "metadata": {},
   "outputs": [],
   "source": [
    "experiment.run(\n",
    "    NUMBER_OF_AUTHORS,\n",
    "    NUMBER_OF_SENTENCES,\n",
    "    SEQUENCES,\n",
    "    TRAINABLE,\n",
    "    model_name_with_pooling_strategy,\n",
    "    NORMALIZED_VALUE,\n",
    "    all_data,\n",
    "    data, \n",
    "    paths\n",
    ")"
   ]
  }
 ],
 "metadata": {
  "interpreter": {
   "hash": "deac0217989ddcfa4345bc236e90ab22a38c5ad7d8517b867015082eaa3f672d"
  },
  "kernelspec": {
   "display_name": "Python 3.8.1 ('venv': venv)",
   "language": "python",
   "name": "python3"
  },
  "language_info": {
   "codemirror_mode": {
    "name": "ipython",
    "version": 3
   },
   "file_extension": ".py",
   "mimetype": "text/x-python",
   "name": "python",
   "nbconvert_exporter": "python",
   "pygments_lexer": "ipython3",
   "version": "3.8.1"
  },
  "orig_nbformat": 4
 },
 "nbformat": 4,
 "nbformat_minor": 2
}
