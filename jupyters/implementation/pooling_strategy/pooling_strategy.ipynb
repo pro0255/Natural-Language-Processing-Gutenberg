{
 "cells": [
  {
   "cell_type": "markdown",
   "metadata": {},
   "source": [
    "# Testing pooling strategy "
   ]
  },
  {
   "cell_type": "code",
   "execution_count": 1,
   "metadata": {},
   "outputs": [],
   "source": [
    "import os\n",
    "import sys\n",
    "\n",
    "def adding_module_path():\n",
    "    module_path = os.path.abspath(os.path.sep.join([\"..\"]*3))\n",
    "\n",
    "    if module_path not in sys.path:\n",
    "        sys.path.append(module_path)\n",
    "\n",
    "adding_module_path()"
   ]
  },
  {
   "cell_type": "code",
   "execution_count": 2,
   "metadata": {},
   "outputs": [],
   "source": [
    "import tensorflow as tf\n",
    "from src.types.transformer_pooling import TransformerPooling\n",
    "from src.types.transformer_pooling_strategy import TransformerPoolingStrategy"
   ]
  },
  {
   "cell_type": "code",
   "execution_count": 3,
   "metadata": {},
   "outputs": [],
   "source": [
    "def verify_bert_pooling_input(\n",
    "    pooling_type,\n",
    "    transformer_pooling_strategy=None,\n",
    "    transformer_start_index=None,\n",
    "    transformer_end_index=None\n",
    "):\n",
    "    if pooling_type in [TransformerPooling.LastHiddenState, TransformerPooling.Pooler] and (transformer_pooling_strategy is not None or transformer_start_index != -1 or transformer_end_index != -1):\n",
    "        assert Exception(f\"Cannot use pooling strategy when is not used {TransformerPooling.HiddenStates.value}\")\n",
    "        return None"
   ]
  },
  {
   "cell_type": "code",
   "execution_count": 4,
   "metadata": {},
   "outputs": [],
   "source": [
    "from src.data_loading.get_dataset_object_from import get_dataset_all\n",
    "from transformers import AutoConfig\n",
    "from transformers import TFAutoModel\n",
    "from src.types.transformer_name import TransformerName\n",
    "from src.tokenizers.prepare_dataset_from_tokenizer import prepare_dataset_from_tokenizer\n",
    "from src.utils.create_path_to_gutenberg import get_paths_to_gutenberg, get_path_to_gutenberg_sets\n",
    "from src.tokenizers.transformer_tokenizer import TransformerTokenizer\n",
    "from src.encoder.create_encoder_from_path import create_encoder_from_path\n",
    "from src.data_loading.get_dataset_object_from import get_dataset_object_from_path, get_datasets\n"
   ]
  },
  {
   "cell_type": "code",
   "execution_count": 5,
   "metadata": {},
   "outputs": [],
   "source": [
    "model_name = TransformerName.BertBaseUncased.value\n",
    "path_data, path_authors = get_path_to_gutenberg_sets(5, 3)"
   ]
  },
  {
   "cell_type": "code",
   "execution_count": 6,
   "metadata": {},
   "outputs": [
    {
     "name": "stdout",
     "output_type": "stream",
     "text": [
      "Loading dataset from=C:\\Users\\Vojta\\Desktop\\diploma\\data\\gutenberg\\5Authors\\Sentence3\\train.csv\n",
      "Loading dataset from=C:\\Users\\Vojta\\Desktop\\diploma\\data\\gutenberg\\5Authors\\Sentence3\\valid.csv\n",
      "Loading dataset from=C:\\Users\\Vojta\\Desktop\\diploma\\data\\gutenberg\\5Authors\\Sentence3\\test.csv\n"
     ]
    }
   ],
   "source": [
    "train, valid, test = get_datasets(path_data, ';', None)"
   ]
  },
  {
   "cell_type": "code",
   "execution_count": 7,
   "metadata": {},
   "outputs": [
    {
     "data": {
      "text/plain": [
       "'bert-base-uncased'"
      ]
     },
     "execution_count": 7,
     "metadata": {},
     "output_type": "execute_result"
    }
   ],
   "source": [
    "model_name"
   ]
  },
  {
   "cell_type": "code",
   "execution_count": 8,
   "metadata": {},
   "outputs": [],
   "source": [
    "tokenizer = TransformerTokenizer(\n",
    "    model_name, \n",
    "    create_encoder_from_path(\n",
    "        path_authors\n",
    "    )\n",
    ")"
   ]
  },
  {
   "cell_type": "code",
   "execution_count": 9,
   "metadata": {},
   "outputs": [],
   "source": [
    "config = AutoConfig.from_pretrained(model_name, output_hidden_states=True)\n",
    "transformer = TFAutoModel.from_config(config)"
   ]
  },
  {
   "cell_type": "code",
   "execution_count": 10,
   "metadata": {},
   "outputs": [],
   "source": [
    "class BertPoolingLayer(tf.keras.layers.Layer):\n",
    "    \n",
    "    def call(\n",
    "        self, \n",
    "        inputs, \n",
    "        pooling_type, \n",
    "        transformer_pooling_strategy,\n",
    "        transformer_start_index,\n",
    "        transformer_end_index\n",
    "    ):\n",
    "        verify_bert_pooling_input(\n",
    "            pooling_type, \n",
    "            transformer_pooling_strategy, \n",
    "            transformer_start_index, \n",
    "            transformer_end_index\n",
    "        )\n",
    "        \n",
    "        if pooling_type == TransformerPooling.LastHiddenState:\n",
    "            last_hidden_state = inputs[TransformerPooling.LastHiddenState.value]\n",
    "            return tf.reduce_mean(last_hidden_state, axis=1)\n",
    "            \n",
    "        if pooling_type == TransformerPooling.Pooler:\n",
    "            pooler = inputs[TransformerPooling.Pooler.value]\n",
    "            return pooler\n",
    "                \n",
    "        if pooling_type == TransformerPooling.HiddenStates:\n",
    "            selector = inputs[TransformerPooling.HiddenStates.value]\n",
    "\n",
    "            number_of_layers = len(selector) - 1\n",
    "            index_start_from_behinde = number_of_layers - transformer_start_index\n",
    "            index_end_from_behinde = number_of_layers - transformer_end_index + 1\n",
    "\n",
    "            selector = selector[index_start_from_behinde:index_end_from_behinde]\n",
    "\n",
    "            if transformer_pooling_strategy in [TransformerPoolingStrategy.ConcatAverage, TransformerPoolingStrategy.ConcatCLS] :\n",
    "                concatened = tf.concat(selector, axis=2)\n",
    "\n",
    "                if transformer_pooling_strategy == TransformerPoolingStrategy.ConcatCLS:\n",
    "                    cls = concatened[:, 0, :]\n",
    "                    return cls\n",
    "                else:\n",
    "                    averaged_sentence = tf.reduce_mean(concatened, axis=1) \n",
    "                    return averaged_sentence\n",
    "            else:\n",
    "                tf_tensor = tf.convert_to_tensor(selector)\n",
    "                averaged = tf.reduce_mean(tf_tensor, axis=0)\n",
    "                if transformer_pooling_strategy == TransformerPoolingStrategy.CLS:\n",
    "                    cls = averaged[:, 0, :]\n",
    "                    return cls\n",
    "                else:\n",
    "                    averaged_sentence = tf.reduce_mean(averaged, axis=1) \n",
    "                    return averaged_sentence"
   ]
  },
  {
   "cell_type": "code",
   "execution_count": 11,
   "metadata": {},
   "outputs": [
    {
     "name": "stdout",
     "output_type": "stream",
     "text": [
      "tf.Tensor([  2  10 512 768], shape=(4,), dtype=int32)\n",
      "tf.Tensor([  10 1536], shape=(2,), dtype=int32)\n"
     ]
    }
   ],
   "source": [
    "for x in prepare_dataset_from_tokenizer(train, tokenizer).batch(10):\n",
    "    #print(x)\n",
    "    text, label = x\n",
    "    output = transformer(text, output_hidden_states=True)\n",
    "    output = BertPoolingLayer()(output, TransformerPooling.HiddenStates, TransformerPoolingStrategy.ConcatCLS, 1, 0) #odecteni od posledni\n",
    "    print(tf.shape(output))\n",
    "    break"
   ]
  },
  {
   "cell_type": "code",
   "execution_count": 12,
   "metadata": {},
   "outputs": [],
   "source": [
    "from src.models.transformer.pooling_strategy import pooling_strategy_dictionary, TransformerPoolingStrategySelection"
   ]
  },
  {
   "cell_type": "code",
   "execution_count": 13,
   "metadata": {},
   "outputs": [
    {
     "name": "stdout",
     "output_type": "stream",
     "text": [
      "tf.Tensor([  4  10 512 768], shape=(4,), dtype=int32)\n",
      "tf.Tensor([  10 3072], shape=(2,), dtype=int32)\n"
     ]
    }
   ],
   "source": [
    "for x in prepare_dataset_from_tokenizer(train, tokenizer).batch(10):\n",
    "    #print(x)\n",
    "    text, label = x\n",
    "    output = transformer(text, output_hidden_states=True)\n",
    "    output = BertPoolingLayer()(output, *pooling_strategy_dictionary[TransformerPoolingStrategySelection.ConcatLast4LayersCLS]) #odecteni od posledni\n",
    "    print(tf.shape(output))\n",
    "    break"
   ]
  },
  {
   "cell_type": "code",
   "execution_count": null,
   "metadata": {},
   "outputs": [],
   "source": []
  }
 ],
 "metadata": {
  "interpreter": {
   "hash": "deac0217989ddcfa4345bc236e90ab22a38c5ad7d8517b867015082eaa3f672d"
  },
  "kernelspec": {
   "display_name": "Python 3.8.1 ('venv': venv)",
   "language": "python",
   "name": "python3"
  },
  "language_info": {
   "codemirror_mode": {
    "name": "ipython",
    "version": 3
   },
   "file_extension": ".py",
   "mimetype": "text/x-python",
   "name": "python",
   "nbconvert_exporter": "python",
   "pygments_lexer": "ipython3",
   "version": "3.8.1"
  },
  "orig_nbformat": 4
 },
 "nbformat": 4,
 "nbformat_minor": 2
}
