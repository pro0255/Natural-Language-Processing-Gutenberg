{
 "cells": [
  {
   "cell_type": "markdown",
   "id": "f86c3b72",
   "metadata": {},
   "source": [
    "# Notebook which is used for visualization of default preprocessing method"
   ]
  },
  {
   "cell_type": "code",
   "execution_count": 27,
   "id": "b57a2c43",
   "metadata": {},
   "outputs": [],
   "source": [
    "import os\n",
    "import sys\n",
    "\n",
    "def adding_module_path():\n",
    "    module_path = os.path.abspath(os.path.sep.join([\"..\"]*3))\n",
    "\n",
    "    if module_path not in sys.path:\n",
    "        sys.path.append(module_path)\n",
    "\n",
    "adding_module_path()"
   ]
  },
  {
   "cell_type": "code",
   "execution_count": 28,
   "id": "f3c1fe3a",
   "metadata": {},
   "outputs": [],
   "source": [
    "from src.config.run_prep import run_prep\n",
    "run_prep()"
   ]
  },
  {
   "cell_type": "code",
   "execution_count": 29,
   "id": "eb4b130c",
   "metadata": {},
   "outputs": [
    {
     "name": "stdout",
     "output_type": "stream",
     "text": [
      "Running preperation of packages\n"
     ]
    },
    {
     "name": "stderr",
     "output_type": "stream",
     "text": [
      "[nltk_data] Downloading package punkt to\n",
      "[nltk_data]     /home/usp/pro0255/diploma/nltk_data...\n",
      "[nltk_data]   Package punkt is already up-to-date!\n",
      "[nltk_data] Downloading package wordnet to\n",
      "[nltk_data]     /home/usp/pro0255/diploma/nltk_data...\n",
      "[nltk_data]   Package wordnet is already up-to-date!\n",
      "[nltk_data] Downloading package omw-1.4 to\n",
      "[nltk_data]     /home/usp/pro0255/diploma/nltk_data...\n",
      "[nltk_data]   Package omw-1.4 is already up-to-date!\n"
     ]
    }
   ],
   "source": [
    "run_prep()"
   ]
  },
  {
   "cell_type": "code",
   "execution_count": 19,
   "id": "875c6d32",
   "metadata": {},
   "outputs": [
    {
     "name": "stdout",
     "output_type": "stream",
     "text": [
      "Creating shorting method with min = 3\n",
      "Creating lemma method with instance <WordNetLemmatizer>\n"
     ]
    }
   ],
   "source": [
    "from src.preprocessing.preprocessor import TextPreprocessor\n",
    "preprocessor = TextPreprocessor()"
   ]
  },
  {
   "cell_type": "code",
   "execution_count": 20,
   "id": "954b44bf",
   "metadata": {},
   "outputs": [],
   "source": [
    "method = preprocessor.create_preprocess_string_func([\n",
    "    preprocessor.to_lowercase,\n",
    "    preprocessor.strip_punctuation,\n",
    "    preprocessor.strip_tags,\n",
    "    preprocessor.strip_multiple_whitespaces,\n",
    "    preprocessor.strip_numeric,\n",
    "    preprocessor.strip_stopwords,\n",
    "    preprocessor.strip_short,\n",
    "    preprocessor.lemma_text\n",
    "])"
   ]
  },
  {
   "cell_type": "code",
   "execution_count": 21,
   "id": "4d274962",
   "metadata": {},
   "outputs": [],
   "source": [
    "from src.utils.create_path_to_gutenberg import get_path_to_gutenberg_sets\n",
    "from src.data_loading.get_dataset_object_from import get_dataset_object_from_path, get_datasets\n",
    "from src.config.config import PATH_TO_DATASET_FOLDER_TEST"
   ]
  },
  {
   "cell_type": "code",
   "execution_count": 22,
   "id": "2aa00a3e",
   "metadata": {},
   "outputs": [],
   "source": [
    "path_data, path_authors = get_path_to_gutenberg_sets(10, 3, PATH_TO_DATASET_FOLDER_TEST)"
   ]
  },
  {
   "cell_type": "code",
   "execution_count": 23,
   "id": "5a0446b8",
   "metadata": {},
   "outputs": [],
   "source": [
    "train, valid, test = get_datasets(path_data, ';', preprocessor.default_preprocessing())"
   ]
  },
  {
   "cell_type": "code",
   "execution_count": 24,
   "id": "6c1bdfac",
   "metadata": {
    "scrolled": false
   },
   "outputs": [
    {
     "name": "stdout",
     "output_type": "stream",
     "text": [
      "(<tf.Tensor: shape=(), dtype=string, numpy=b'miss nugent received information civil bow renewed conversation murchison face showed keen appreciation situation hardy difficulty masking feeling long time coming said mr kybird smiling archly young people keeping company forget everybody trouble adn ardy giving arm ave got'>, <tf.Tensor: shape=(), dtype=int32, numpy=1865>)\n"
     ]
    }
   ],
   "source": [
    "for x in train:\n",
    "    print(x)\n",
    "    break"
   ]
  },
  {
   "cell_type": "code",
   "execution_count": 25,
   "id": "a12495e1",
   "metadata": {},
   "outputs": [],
   "source": [
    "train_raw, valid_raw, test_raw = get_datasets(path_data, ';', None)"
   ]
  },
  {
   "cell_type": "code",
   "execution_count": 26,
   "id": "04be9b32",
   "metadata": {},
   "outputs": [
    {
     "name": "stdout",
     "output_type": "stream",
     "text": [
      "(<tf.Tensor: shape=(), dtype=string, numpy=b'\"\"\"\"\"\"\"Miss Nugent received the information with a civil bow, and renewed her conversation with Dr. Murchison, whose face showed such a keen appreciation of the situation that Hardy had some difficulty in masking his feelings. \"\"\"\"\"\"\"\"They\\'re a long time a-coming,\"\"\"\"\"\"\"\" said Mrs. Kybird, smiling archly \"\"\"\"\"\"\"\"but there, when young people are keeping company they forget everything and everybody. They didn\\'t trouble about me if it \\'adn\\'t been for Mr. \\'Ardy giving me \\'is arm I should never \\'ave got here.\"\"\"\"\"\"\"\"\"\"\"\"\"\"\"'>, <tf.Tensor: shape=(), dtype=int32, numpy=1865>)\n"
     ]
    }
   ],
   "source": [
    "for x in train_raw:\n",
    "    print(x)\n",
    "    break"
   ]
  }
 ],
 "metadata": {
  "kernelspec": {
   "display_name": "Python 3 (ipykernel)",
   "language": "python",
   "name": "python3"
  },
  "language_info": {
   "codemirror_mode": {
    "name": "ipython",
    "version": 3
   },
   "file_extension": ".py",
   "mimetype": "text/x-python",
   "name": "python",
   "nbconvert_exporter": "python",
   "pygments_lexer": "ipython3",
   "version": "3.9.7"
  }
 },
 "nbformat": 4,
 "nbformat_minor": 5
}
